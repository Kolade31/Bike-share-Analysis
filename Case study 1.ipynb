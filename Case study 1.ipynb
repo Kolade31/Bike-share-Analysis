{
 "cells": [
  {
   "cell_type": "code",
   "execution_count": 1,
   "id": "b4ca397b",
   "metadata": {
    "vscode": {
     "languageId": "r"
    }
   },
   "outputs": [
    {
     "name": "stderr",
     "output_type": "stream",
     "text": [
      "\n",
      "Attaching package: 'dplyr'\n",
      "\n",
      "\n",
      "The following objects are masked from 'package:stats':\n",
      "\n",
      "    filter, lag\n",
      "\n",
      "\n",
      "The following objects are masked from 'package:base':\n",
      "\n",
      "    intersect, setdiff, setequal, union\n",
      "\n",
      "\n",
      "── \u001b[1mAttaching core tidyverse packages\u001b[22m ──────────────────────── tidyverse 2.0.0 ──\n",
      "\u001b[32m✔\u001b[39m \u001b[34mforcats  \u001b[39m 1.0.0     \u001b[32m✔\u001b[39m \u001b[34mstringr  \u001b[39m 1.5.0\n",
      "\u001b[32m✔\u001b[39m \u001b[34mggplot2  \u001b[39m 3.4.2     \u001b[32m✔\u001b[39m \u001b[34mtibble   \u001b[39m 3.2.1\n",
      "\u001b[32m✔\u001b[39m \u001b[34mlubridate\u001b[39m 1.9.2     \u001b[32m✔\u001b[39m \u001b[34mtidyr    \u001b[39m 1.3.0\n",
      "\u001b[32m✔\u001b[39m \u001b[34mpurrr    \u001b[39m 1.0.1     \n",
      "── \u001b[1mConflicts\u001b[22m ────────────────────────────────────────── tidyverse_conflicts() ──\n",
      "\u001b[31m✖\u001b[39m \u001b[34mdplyr\u001b[39m::\u001b[32mfilter()\u001b[39m masks \u001b[34mstats\u001b[39m::filter()\n",
      "\u001b[31m✖\u001b[39m \u001b[34mdplyr\u001b[39m::\u001b[32mlag()\u001b[39m    masks \u001b[34mstats\u001b[39m::lag()\n",
      "\u001b[36mℹ\u001b[39m Use the conflicted package (\u001b[3m\u001b[34m<http://conflicted.r-lib.org/>\u001b[39m\u001b[23m) to force all conflicts to become errors\n",
      "\n",
      "Attaching package: 'data.table'\n",
      "\n",
      "\n",
      "The following objects are masked from 'package:lubridate':\n",
      "\n",
      "    hour, isoweek, mday, minute, month, quarter, second, wday, week,\n",
      "    yday, year\n",
      "\n",
      "\n",
      "The following object is masked from 'package:purrr':\n",
      "\n",
      "    transpose\n",
      "\n",
      "\n",
      "The following objects are masked from 'package:dplyr':\n",
      "\n",
      "    between, first, last\n",
      "\n",
      "\n",
      "\n",
      "Attaching package: 'scales'\n",
      "\n",
      "\n",
      "The following object is masked from 'package:purrr':\n",
      "\n",
      "    discard\n",
      "\n",
      "\n",
      "The following object is masked from 'package:readr':\n",
      "\n",
      "    col_factor\n",
      "\n",
      "\n"
     ]
    }
   ],
   "source": [
    "## load packages\n",
    "library(dplyr)\n",
    "library(readr)\n",
    "library(tidyverse)\n",
    "library(data.table)\n",
    "library(lubridate)\n",
    "library(scales)"
   ]
  },
  {
   "cell_type": "code",
   "execution_count": 2,
   "id": "29dcce09",
   "metadata": {
    "vscode": {
     "languageId": "r"
    }
   },
   "outputs": [
    {
     "name": "stderr",
     "output_type": "stream",
     "text": [
      "\u001b[1mRows: \u001b[22m\u001b[34m181806\u001b[39m \u001b[1mColumns: \u001b[22m\u001b[34m13\u001b[39m\n",
      "\u001b[36m──\u001b[39m \u001b[1mColumn specification\u001b[22m \u001b[36m────────────────────────────────────────────────────────\u001b[39m\n",
      "\u001b[1mDelimiter:\u001b[22m \",\"\n",
      "\u001b[31mchr\u001b[39m  (7): ride_id, rideable_type, start_station_name, start_station_id, end_...\n",
      "\u001b[32mdbl\u001b[39m  (4): start_lat, start_lng, end_lat, end_lng\n",
      "\u001b[34mdttm\u001b[39m (2): started_at, ended_at\n",
      "\n",
      "\u001b[36mℹ\u001b[39m Use `spec()` to retrieve the full column specification for this data.\n",
      "\u001b[36mℹ\u001b[39m Specify the column types or set `show_col_types = FALSE` to quiet this message.\n"
     ]
    }
   ],
   "source": [
    "## import data\n",
    "df1 = read_csv(file=\"December.csv\")"
   ]
  },
  {
   "cell_type": "code",
   "execution_count": 3,
   "id": "7b3a92ba",
   "metadata": {
    "vscode": {
     "languageId": "r"
    }
   },
   "outputs": [
    {
     "name": "stderr",
     "output_type": "stream",
     "text": [
      "\u001b[1mRows: \u001b[22m\u001b[34m190301\u001b[39m \u001b[1mColumns: \u001b[22m\u001b[34m13\u001b[39m\n",
      "\u001b[36m──\u001b[39m \u001b[1mColumn specification\u001b[22m \u001b[36m────────────────────────────────────────────────────────\u001b[39m\n",
      "\u001b[1mDelimiter:\u001b[22m \",\"\n",
      "\u001b[31mchr\u001b[39m  (7): ride_id, rideable_type, start_station_name, start_station_id, end_...\n",
      "\u001b[32mdbl\u001b[39m  (4): start_lat, start_lng, end_lat, end_lng\n",
      "\u001b[34mdttm\u001b[39m (2): started_at, ended_at\n",
      "\n",
      "\u001b[36mℹ\u001b[39m Use `spec()` to retrieve the full column specification for this data.\n",
      "\u001b[36mℹ\u001b[39m Specify the column types or set `show_col_types = FALSE` to quiet this message.\n"
     ]
    }
   ],
   "source": [
    "## import data\n",
    "df2 = read_csv(file=\"January.csv\")"
   ]
  },
  {
   "cell_type": "code",
   "execution_count": 4,
   "id": "632ebf17",
   "metadata": {
    "vscode": {
     "languageId": "r"
    }
   },
   "outputs": [
    {
     "name": "stderr",
     "output_type": "stream",
     "text": [
      "\u001b[1mRows: \u001b[22m\u001b[34m190445\u001b[39m \u001b[1mColumns: \u001b[22m\u001b[34m13\u001b[39m\n",
      "\u001b[36m──\u001b[39m \u001b[1mColumn specification\u001b[22m \u001b[36m────────────────────────────────────────────────────────\u001b[39m\n",
      "\u001b[1mDelimiter:\u001b[22m \",\"\n",
      "\u001b[31mchr\u001b[39m  (7): ride_id, rideable_type, start_station_name, start_station_id, end_...\n",
      "\u001b[32mdbl\u001b[39m  (4): start_lat, start_lng, end_lat, end_lng\n",
      "\u001b[34mdttm\u001b[39m (2): started_at, ended_at\n",
      "\n",
      "\u001b[36mℹ\u001b[39m Use `spec()` to retrieve the full column specification for this data.\n",
      "\u001b[36mℹ\u001b[39m Specify the column types or set `show_col_types = FALSE` to quiet this message.\n"
     ]
    }
   ],
   "source": [
    "## import data\n",
    "df3 = read_csv(file=\"February.csv\")"
   ]
  },
  {
   "cell_type": "code",
   "execution_count": 5,
   "id": "2af5cef4",
   "metadata": {
    "vscode": {
     "languageId": "r"
    }
   },
   "outputs": [
    {
     "name": "stderr",
     "output_type": "stream",
     "text": [
      "\u001b[1mRows: \u001b[22m\u001b[34m258678\u001b[39m \u001b[1mColumns: \u001b[22m\u001b[34m13\u001b[39m\n",
      "\u001b[36m──\u001b[39m \u001b[1mColumn specification\u001b[22m \u001b[36m────────────────────────────────────────────────────────\u001b[39m\n",
      "\u001b[1mDelimiter:\u001b[22m \",\"\n",
      "\u001b[31mchr\u001b[39m  (7): ride_id, rideable_type, start_station_name, start_station_id, end_...\n",
      "\u001b[32mdbl\u001b[39m  (4): start_lat, start_lng, end_lat, end_lng\n",
      "\u001b[34mdttm\u001b[39m (2): started_at, ended_at\n",
      "\n",
      "\u001b[36mℹ\u001b[39m Use `spec()` to retrieve the full column specification for this data.\n",
      "\u001b[36mℹ\u001b[39m Specify the column types or set `show_col_types = FALSE` to quiet this message.\n"
     ]
    }
   ],
   "source": [
    "## import data\n",
    "df4 = read_csv(file=\"March.csv\")"
   ]
  },
  {
   "cell_type": "code",
   "execution_count": 6,
   "id": "c692d967",
   "metadata": {
    "vscode": {
     "languageId": "r"
    }
   },
   "outputs": [
    {
     "name": "stderr",
     "output_type": "stream",
     "text": [
      "\u001b[1mRows: \u001b[22m\u001b[34m426590\u001b[39m \u001b[1mColumns: \u001b[22m\u001b[34m13\u001b[39m\n",
      "\u001b[36m──\u001b[39m \u001b[1mColumn specification\u001b[22m \u001b[36m────────────────────────────────────────────────────────\u001b[39m\n",
      "\u001b[1mDelimiter:\u001b[22m \",\"\n",
      "\u001b[31mchr\u001b[39m  (7): ride_id, rideable_type, start_station_name, start_station_id, end_...\n",
      "\u001b[32mdbl\u001b[39m  (4): start_lat, start_lng, end_lat, end_lng\n",
      "\u001b[34mdttm\u001b[39m (2): started_at, ended_at\n",
      "\n",
      "\u001b[36mℹ\u001b[39m Use `spec()` to retrieve the full column specification for this data.\n",
      "\u001b[36mℹ\u001b[39m Specify the column types or set `show_col_types = FALSE` to quiet this message.\n"
     ]
    }
   ],
   "source": [
    "## import data\n",
    "df5 = read_csv(file = \"April.csv\")"
   ]
  },
  {
   "cell_type": "code",
   "execution_count": 7,
   "id": "4a7d5bf2",
   "metadata": {
    "vscode": {
     "languageId": "r"
    }
   },
   "outputs": [
    {
     "name": "stderr",
     "output_type": "stream",
     "text": [
      "\u001b[1mRows: \u001b[22m\u001b[34m337735\u001b[39m \u001b[1mColumns: \u001b[22m\u001b[34m13\u001b[39m\n",
      "\u001b[36m──\u001b[39m \u001b[1mColumn specification\u001b[22m \u001b[36m────────────────────────────────────────────────────────\u001b[39m\n",
      "\u001b[1mDelimiter:\u001b[22m \",\"\n",
      "\u001b[31mchr\u001b[39m  (7): ride_id, rideable_type, start_station_name, start_station_id, end_...\n",
      "\u001b[32mdbl\u001b[39m  (4): start_lat, start_lng, end_lat, end_lng\n",
      "\u001b[34mdttm\u001b[39m (2): started_at, ended_at\n",
      "\n",
      "\u001b[36mℹ\u001b[39m Use `spec()` to retrieve the full column specification for this data.\n",
      "\u001b[36mℹ\u001b[39m Specify the column types or set `show_col_types = FALSE` to quiet this message.\n"
     ]
    }
   ],
   "source": [
    "df6 = read_csv(file = \"November.csv\")"
   ]
  },
  {
   "cell_type": "code",
   "execution_count": 8,
   "id": "7f756ba3",
   "metadata": {
    "vscode": {
     "languageId": "r"
    }
   },
   "outputs": [
    {
     "name": "stderr",
     "output_type": "stream",
     "text": [
      "\u001b[1mRows: \u001b[22m\u001b[34m558685\u001b[39m \u001b[1mColumns: \u001b[22m\u001b[34m13\u001b[39m\n",
      "\u001b[36m──\u001b[39m \u001b[1mColumn specification\u001b[22m \u001b[36m────────────────────────────────────────────────────────\u001b[39m\n",
      "\u001b[1mDelimiter:\u001b[22m \",\"\n",
      "\u001b[31mchr\u001b[39m  (7): ride_id, rideable_type, start_station_name, start_station_id, end_...\n",
      "\u001b[32mdbl\u001b[39m  (4): start_lat, start_lng, end_lat, end_lng\n",
      "\u001b[34mdttm\u001b[39m (2): started_at, ended_at\n",
      "\n",
      "\u001b[36mℹ\u001b[39m Use `spec()` to retrieve the full column specification for this data.\n",
      "\u001b[36mℹ\u001b[39m Specify the column types or set `show_col_types = FALSE` to quiet this message.\n"
     ]
    }
   ],
   "source": [
    "df7 = read_csv(file = \"October.csv\")"
   ]
  },
  {
   "cell_type": "code",
   "execution_count": 9,
   "id": "be6131f5",
   "metadata": {
    "vscode": {
     "languageId": "r"
    }
   },
   "outputs": [
    {
     "name": "stderr",
     "output_type": "stream",
     "text": [
      "\u001b[1mRows: \u001b[22m\u001b[34m701339\u001b[39m \u001b[1mColumns: \u001b[22m\u001b[34m13\u001b[39m\n",
      "\u001b[36m──\u001b[39m \u001b[1mColumn specification\u001b[22m \u001b[36m────────────────────────────────────────────────────────\u001b[39m\n",
      "\u001b[1mDelimiter:\u001b[22m \",\"\n",
      "\u001b[31mchr\u001b[39m  (7): ride_id, rideable_type, start_station_name, start_station_id, end_...\n",
      "\u001b[32mdbl\u001b[39m  (4): start_lat, start_lng, end_lat, end_lng\n",
      "\u001b[34mdttm\u001b[39m (2): started_at, ended_at\n",
      "\n",
      "\u001b[36mℹ\u001b[39m Use `spec()` to retrieve the full column specification for this data.\n",
      "\u001b[36mℹ\u001b[39m Specify the column types or set `show_col_types = FALSE` to quiet this message.\n"
     ]
    }
   ],
   "source": [
    "df8 = read_csv(file = \"September.csv\")"
   ]
  },
  {
   "cell_type": "code",
   "execution_count": 10,
   "id": "d7044148",
   "metadata": {
    "vscode": {
     "languageId": "r"
    }
   },
   "outputs": [
    {
     "name": "stderr",
     "output_type": "stream",
     "text": [
      "\u001b[1mRows: \u001b[22m\u001b[34m785932\u001b[39m \u001b[1mColumns: \u001b[22m\u001b[34m13\u001b[39m\n",
      "\u001b[36m──\u001b[39m \u001b[1mColumn specification\u001b[22m \u001b[36m────────────────────────────────────────────────────────\u001b[39m\n",
      "\u001b[1mDelimiter:\u001b[22m \",\"\n",
      "\u001b[31mchr\u001b[39m  (7): ride_id, rideable_type, start_station_name, start_station_id, end_...\n",
      "\u001b[32mdbl\u001b[39m  (4): start_lat, start_lng, end_lat, end_lng\n",
      "\u001b[34mdttm\u001b[39m (2): started_at, ended_at\n",
      "\n",
      "\u001b[36mℹ\u001b[39m Use `spec()` to retrieve the full column specification for this data.\n",
      "\u001b[36mℹ\u001b[39m Specify the column types or set `show_col_types = FALSE` to quiet this message.\n"
     ]
    }
   ],
   "source": [
    "df9 = read_csv(file = \"August.csv\")"
   ]
  },
  {
   "cell_type": "code",
   "execution_count": 11,
   "id": "35e1997c",
   "metadata": {
    "vscode": {
     "languageId": "r"
    }
   },
   "outputs": [
    {
     "name": "stderr",
     "output_type": "stream",
     "text": [
      "\u001b[1mRows: \u001b[22m\u001b[34m823488\u001b[39m \u001b[1mColumns: \u001b[22m\u001b[34m13\u001b[39m\n",
      "\u001b[36m──\u001b[39m \u001b[1mColumn specification\u001b[22m \u001b[36m────────────────────────────────────────────────────────\u001b[39m\n",
      "\u001b[1mDelimiter:\u001b[22m \",\"\n",
      "\u001b[31mchr\u001b[39m  (7): ride_id, rideable_type, start_station_name, start_station_id, end_...\n",
      "\u001b[32mdbl\u001b[39m  (4): start_lat, start_lng, end_lat, end_lng\n",
      "\u001b[34mdttm\u001b[39m (2): started_at, ended_at\n",
      "\n",
      "\u001b[36mℹ\u001b[39m Use `spec()` to retrieve the full column specification for this data.\n",
      "\u001b[36mℹ\u001b[39m Specify the column types or set `show_col_types = FALSE` to quiet this message.\n"
     ]
    }
   ],
   "source": [
    "df10 = read_csv(file = \"July.csv\")"
   ]
  },
  {
   "cell_type": "code",
   "execution_count": 12,
   "id": "7f260a7a",
   "metadata": {
    "vscode": {
     "languageId": "r"
    }
   },
   "outputs": [
    {
     "name": "stderr",
     "output_type": "stream",
     "text": [
      "\u001b[1mRows: \u001b[22m\u001b[34m769204\u001b[39m \u001b[1mColumns: \u001b[22m\u001b[34m13\u001b[39m\n",
      "\u001b[36m──\u001b[39m \u001b[1mColumn specification\u001b[22m \u001b[36m────────────────────────────────────────────────────────\u001b[39m\n",
      "\u001b[1mDelimiter:\u001b[22m \",\"\n",
      "\u001b[31mchr\u001b[39m  (7): ride_id, rideable_type, start_station_name, start_station_id, end_...\n",
      "\u001b[32mdbl\u001b[39m  (4): start_lat, start_lng, end_lat, end_lng\n",
      "\u001b[34mdttm\u001b[39m (2): started_at, ended_at\n",
      "\n",
      "\u001b[36mℹ\u001b[39m Use `spec()` to retrieve the full column specification for this data.\n",
      "\u001b[36mℹ\u001b[39m Specify the column types or set `show_col_types = FALSE` to quiet this message.\n"
     ]
    }
   ],
   "source": [
    "df11 = read_csv(file = \"June.csv\")"
   ]
  },
  {
   "cell_type": "code",
   "execution_count": 13,
   "id": "72ce50a2",
   "metadata": {
    "vscode": {
     "languageId": "r"
    }
   },
   "outputs": [
    {
     "name": "stderr",
     "output_type": "stream",
     "text": [
      "\u001b[1mRows: \u001b[22m\u001b[34m634858\u001b[39m \u001b[1mColumns: \u001b[22m\u001b[34m13\u001b[39m\n",
      "\u001b[36m──\u001b[39m \u001b[1mColumn specification\u001b[22m \u001b[36m────────────────────────────────────────────────────────\u001b[39m\n",
      "\u001b[1mDelimiter:\u001b[22m \",\"\n",
      "\u001b[31mchr\u001b[39m  (7): ride_id, rideable_type, start_station_name, start_station_id, end_...\n",
      "\u001b[32mdbl\u001b[39m  (4): start_lat, start_lng, end_lat, end_lng\n",
      "\u001b[34mdttm\u001b[39m (2): started_at, ended_at\n",
      "\n",
      "\u001b[36mℹ\u001b[39m Use `spec()` to retrieve the full column specification for this data.\n",
      "\u001b[36mℹ\u001b[39m Specify the column types or set `show_col_types = FALSE` to quiet this message.\n"
     ]
    }
   ],
   "source": [
    "df12 = read_csv(file = \"May.csv\")"
   ]
  },
  {
   "cell_type": "code",
   "execution_count": 14,
   "id": "4e59f7d4",
   "metadata": {
    "vscode": {
     "languageId": "r"
    }
   },
   "outputs": [],
   "source": [
    "##  combine datasets into one mega dataset\n",
    "combined = rbind(df1,df2,df3,df4,df5,df6,df7,df8,df9,df10,df11,df12)"
   ]
  },
  {
   "cell_type": "code",
   "execution_count": 15,
   "id": "97f1ae48",
   "metadata": {
    "vscode": {
     "languageId": "r"
    }
   },
   "outputs": [
    {
     "data": {
      "text/html": [
       "<table class=\"dataframe\">\n",
       "<caption>A tibble: 6 × 13</caption>\n",
       "<thead>\n",
       "\t<tr><th scope=col>ride_id</th><th scope=col>rideable_type</th><th scope=col>started_at</th><th scope=col>ended_at</th><th scope=col>start_station_name</th><th scope=col>start_station_id</th><th scope=col>end_station_name</th><th scope=col>end_station_id</th><th scope=col>start_lat</th><th scope=col>start_lng</th><th scope=col>end_lat</th><th scope=col>end_lng</th><th scope=col>member_casual</th></tr>\n",
       "\t<tr><th scope=col>&lt;chr&gt;</th><th scope=col>&lt;chr&gt;</th><th scope=col>&lt;dttm&gt;</th><th scope=col>&lt;dttm&gt;</th><th scope=col>&lt;chr&gt;</th><th scope=col>&lt;chr&gt;</th><th scope=col>&lt;chr&gt;</th><th scope=col>&lt;chr&gt;</th><th scope=col>&lt;dbl&gt;</th><th scope=col>&lt;dbl&gt;</th><th scope=col>&lt;dbl&gt;</th><th scope=col>&lt;dbl&gt;</th><th scope=col>&lt;chr&gt;</th></tr>\n",
       "</thead>\n",
       "<tbody>\n",
       "\t<tr><td>65DBD2F447EC51C2</td><td>electric_bike</td><td>2022-12-05 10:47:18</td><td>2022-12-05 10:56:34</td><td>Clifton Ave &amp; Armitage Ave</td><td>TA1307000163</td><td>Sedgwick St &amp; Webster Ave</td><td><span style=white-space:pre-wrap>13191       </span></td><td>41.91824</td><td>-87.65711</td><td>41.92217</td><td>-87.63889</td><td>member</td></tr>\n",
       "\t<tr><td>0C201AA7EA0EA1AD</td><td>classic_bike </td><td>2022-12-18 06:42:33</td><td>2022-12-18 07:08:44</td><td><span style=white-space:pre-wrap>Broadway &amp; Belmont Ave    </span></td><td><span style=white-space:pre-wrap>13277       </span></td><td>Sedgwick St &amp; Webster Ave</td><td><span style=white-space:pre-wrap>13191       </span></td><td>41.94011</td><td>-87.64545</td><td>41.92217</td><td>-87.63889</td><td>casual</td></tr>\n",
       "\t<tr><td>E0B148CCB358A49D</td><td>electric_bike</td><td>2022-12-13 08:47:45</td><td>2022-12-13 08:59:51</td><td><span style=white-space:pre-wrap>Sangamon St &amp; Lake St     </span></td><td>TA1306000015</td><td><span style=white-space:pre-wrap>St. Clair St &amp; Erie St   </span></td><td><span style=white-space:pre-wrap>13016       </span></td><td>41.88592</td><td>-87.65113</td><td>41.89435</td><td>-87.62280</td><td>member</td></tr>\n",
       "\t<tr><td>54C5775D2B7C9188</td><td>classic_bike </td><td>2022-12-13 18:50:47</td><td>2022-12-13 19:19:48</td><td><span style=white-space:pre-wrap>Shields Ave &amp; 31st St     </span></td><td>KA1503000038</td><td><span style=white-space:pre-wrap>Damen Ave &amp; Madison St   </span></td><td><span style=white-space:pre-wrap>13134       </span></td><td>41.83846</td><td>-87.63541</td><td>41.88137</td><td>-87.67493</td><td>member</td></tr>\n",
       "\t<tr><td>A4891F78776D35DF</td><td>classic_bike </td><td>2022-12-14 16:13:39</td><td>2022-12-14 16:27:50</td><td>Ashland Ave &amp; Chicago Ave </td><td><span style=white-space:pre-wrap>13247       </span></td><td>Damen Ave &amp; Charleston St</td><td><span style=white-space:pre-wrap>13288       </span></td><td>41.89595</td><td>-87.66773</td><td>41.92008</td><td>-87.67785</td><td>casual</td></tr>\n",
       "\t<tr><td>DB91D9B8DFACA07A</td><td>electric_bike</td><td>2022-12-02 15:24:47</td><td>2022-12-02 15:34:14</td><td><span style=white-space:pre-wrap>Wabash Ave &amp; 9th St       </span></td><td>TA1309000010</td><td>Wacker Dr &amp; Washington St</td><td>KA1503000072</td><td>41.87068</td><td>-87.62571</td><td>41.88314</td><td>-87.63724</td><td>member</td></tr>\n",
       "</tbody>\n",
       "</table>\n"
      ],
      "text/latex": [
       "A tibble: 6 × 13\n",
       "\\begin{tabular}{lllllllllllll}\n",
       " ride\\_id & rideable\\_type & started\\_at & ended\\_at & start\\_station\\_name & start\\_station\\_id & end\\_station\\_name & end\\_station\\_id & start\\_lat & start\\_lng & end\\_lat & end\\_lng & member\\_casual\\\\\n",
       " <chr> & <chr> & <dttm> & <dttm> & <chr> & <chr> & <chr> & <chr> & <dbl> & <dbl> & <dbl> & <dbl> & <chr>\\\\\n",
       "\\hline\n",
       "\t 65DBD2F447EC51C2 & electric\\_bike & 2022-12-05 10:47:18 & 2022-12-05 10:56:34 & Clifton Ave \\& Armitage Ave & TA1307000163 & Sedgwick St \\& Webster Ave & 13191        & 41.91824 & -87.65711 & 41.92217 & -87.63889 & member\\\\\n",
       "\t 0C201AA7EA0EA1AD & classic\\_bike  & 2022-12-18 06:42:33 & 2022-12-18 07:08:44 & Broadway \\& Belmont Ave     & 13277        & Sedgwick St \\& Webster Ave & 13191        & 41.94011 & -87.64545 & 41.92217 & -87.63889 & casual\\\\\n",
       "\t E0B148CCB358A49D & electric\\_bike & 2022-12-13 08:47:45 & 2022-12-13 08:59:51 & Sangamon St \\& Lake St      & TA1306000015 & St. Clair St \\& Erie St    & 13016        & 41.88592 & -87.65113 & 41.89435 & -87.62280 & member\\\\\n",
       "\t 54C5775D2B7C9188 & classic\\_bike  & 2022-12-13 18:50:47 & 2022-12-13 19:19:48 & Shields Ave \\& 31st St      & KA1503000038 & Damen Ave \\& Madison St    & 13134        & 41.83846 & -87.63541 & 41.88137 & -87.67493 & member\\\\\n",
       "\t A4891F78776D35DF & classic\\_bike  & 2022-12-14 16:13:39 & 2022-12-14 16:27:50 & Ashland Ave \\& Chicago Ave  & 13247        & Damen Ave \\& Charleston St & 13288        & 41.89595 & -87.66773 & 41.92008 & -87.67785 & casual\\\\\n",
       "\t DB91D9B8DFACA07A & electric\\_bike & 2022-12-02 15:24:47 & 2022-12-02 15:34:14 & Wabash Ave \\& 9th St        & TA1309000010 & Wacker Dr \\& Washington St & KA1503000072 & 41.87068 & -87.62571 & 41.88314 & -87.63724 & member\\\\\n",
       "\\end{tabular}\n"
      ],
      "text/markdown": [
       "\n",
       "A tibble: 6 × 13\n",
       "\n",
       "| ride_id &lt;chr&gt; | rideable_type &lt;chr&gt; | started_at &lt;dttm&gt; | ended_at &lt;dttm&gt; | start_station_name &lt;chr&gt; | start_station_id &lt;chr&gt; | end_station_name &lt;chr&gt; | end_station_id &lt;chr&gt; | start_lat &lt;dbl&gt; | start_lng &lt;dbl&gt; | end_lat &lt;dbl&gt; | end_lng &lt;dbl&gt; | member_casual &lt;chr&gt; |\n",
       "|---|---|---|---|---|---|---|---|---|---|---|---|---|\n",
       "| 65DBD2F447EC51C2 | electric_bike | 2022-12-05 10:47:18 | 2022-12-05 10:56:34 | Clifton Ave &amp; Armitage Ave | TA1307000163 | Sedgwick St &amp; Webster Ave | 13191        | 41.91824 | -87.65711 | 41.92217 | -87.63889 | member |\n",
       "| 0C201AA7EA0EA1AD | classic_bike  | 2022-12-18 06:42:33 | 2022-12-18 07:08:44 | Broadway &amp; Belmont Ave     | 13277        | Sedgwick St &amp; Webster Ave | 13191        | 41.94011 | -87.64545 | 41.92217 | -87.63889 | casual |\n",
       "| E0B148CCB358A49D | electric_bike | 2022-12-13 08:47:45 | 2022-12-13 08:59:51 | Sangamon St &amp; Lake St      | TA1306000015 | St. Clair St &amp; Erie St    | 13016        | 41.88592 | -87.65113 | 41.89435 | -87.62280 | member |\n",
       "| 54C5775D2B7C9188 | classic_bike  | 2022-12-13 18:50:47 | 2022-12-13 19:19:48 | Shields Ave &amp; 31st St      | KA1503000038 | Damen Ave &amp; Madison St    | 13134        | 41.83846 | -87.63541 | 41.88137 | -87.67493 | member |\n",
       "| A4891F78776D35DF | classic_bike  | 2022-12-14 16:13:39 | 2022-12-14 16:27:50 | Ashland Ave &amp; Chicago Ave  | 13247        | Damen Ave &amp; Charleston St | 13288        | 41.89595 | -87.66773 | 41.92008 | -87.67785 | casual |\n",
       "| DB91D9B8DFACA07A | electric_bike | 2022-12-02 15:24:47 | 2022-12-02 15:34:14 | Wabash Ave &amp; 9th St        | TA1309000010 | Wacker Dr &amp; Washington St | KA1503000072 | 41.87068 | -87.62571 | 41.88314 | -87.63724 | member |\n",
       "\n"
      ],
      "text/plain": [
       "  ride_id          rideable_type started_at          ended_at           \n",
       "1 65DBD2F447EC51C2 electric_bike 2022-12-05 10:47:18 2022-12-05 10:56:34\n",
       "2 0C201AA7EA0EA1AD classic_bike  2022-12-18 06:42:33 2022-12-18 07:08:44\n",
       "3 E0B148CCB358A49D electric_bike 2022-12-13 08:47:45 2022-12-13 08:59:51\n",
       "4 54C5775D2B7C9188 classic_bike  2022-12-13 18:50:47 2022-12-13 19:19:48\n",
       "5 A4891F78776D35DF classic_bike  2022-12-14 16:13:39 2022-12-14 16:27:50\n",
       "6 DB91D9B8DFACA07A electric_bike 2022-12-02 15:24:47 2022-12-02 15:34:14\n",
       "  start_station_name         start_station_id end_station_name         \n",
       "1 Clifton Ave & Armitage Ave TA1307000163     Sedgwick St & Webster Ave\n",
       "2 Broadway & Belmont Ave     13277            Sedgwick St & Webster Ave\n",
       "3 Sangamon St & Lake St      TA1306000015     St. Clair St & Erie St   \n",
       "4 Shields Ave & 31st St      KA1503000038     Damen Ave & Madison St   \n",
       "5 Ashland Ave & Chicago Ave  13247            Damen Ave & Charleston St\n",
       "6 Wabash Ave & 9th St        TA1309000010     Wacker Dr & Washington St\n",
       "  end_station_id start_lat start_lng end_lat  end_lng   member_casual\n",
       "1 13191          41.91824  -87.65711 41.92217 -87.63889 member       \n",
       "2 13191          41.94011  -87.64545 41.92217 -87.63889 casual       \n",
       "3 13016          41.88592  -87.65113 41.89435 -87.62280 member       \n",
       "4 13134          41.83846  -87.63541 41.88137 -87.67493 member       \n",
       "5 13288          41.89595  -87.66773 41.92008 -87.67785 casual       \n",
       "6 KA1503000072   41.87068  -87.62571 41.88314 -87.63724 member       "
      ]
     },
     "metadata": {},
     "output_type": "display_data"
    }
   ],
   "source": [
    "## first six rows in dataset\n",
    "head(combined)"
   ]
  },
  {
   "cell_type": "code",
   "execution_count": 16,
   "id": "6b151887",
   "metadata": {
    "vscode": {
     "languageId": "r"
    }
   },
   "outputs": [
    {
     "data": {
      "text/html": [
       "<style>\n",
       ".list-inline {list-style: none; margin:0; padding: 0}\n",
       ".list-inline>li {display: inline-block}\n",
       ".list-inline>li:not(:last-child)::after {content: \"\\00b7\"; padding: 0 .5ex}\n",
       "</style>\n",
       "<ol class=list-inline><li>5859061</li><li>13</li></ol>\n"
      ],
      "text/latex": [
       "\\begin{enumerate*}\n",
       "\\item 5859061\n",
       "\\item 13\n",
       "\\end{enumerate*}\n"
      ],
      "text/markdown": [
       "1. 5859061\n",
       "2. 13\n",
       "\n",
       "\n"
      ],
      "text/plain": [
       "[1] 5859061      13"
      ]
     },
     "metadata": {},
     "output_type": "display_data"
    }
   ],
   "source": [
    "## dimension of dataset\n",
    "dim(combined)"
   ]
  },
  {
   "cell_type": "code",
   "execution_count": 17,
   "id": "ab7f2b74",
   "metadata": {
    "vscode": {
     "languageId": "r"
    }
   },
   "outputs": [
    {
     "name": "stdout",
     "output_type": "stream",
     "text": [
      "spc_tbl_ [5,859,061 × 13] (S3: spec_tbl_df/tbl_df/tbl/data.frame)\n",
      " $ ride_id           : chr [1:5859061] \"65DBD2F447EC51C2\" \"0C201AA7EA0EA1AD\" \"E0B148CCB358A49D\" \"54C5775D2B7C9188\" ...\n",
      " $ rideable_type     : chr [1:5859061] \"electric_bike\" \"classic_bike\" \"electric_bike\" \"classic_bike\" ...\n",
      " $ started_at        : POSIXct[1:5859061], format: \"2022-12-05 10:47:18\" \"2022-12-18 06:42:33\" ...\n",
      " $ ended_at          : POSIXct[1:5859061], format: \"2022-12-05 10:56:34\" \"2022-12-18 07:08:44\" ...\n",
      " $ start_station_name: chr [1:5859061] \"Clifton Ave & Armitage Ave\" \"Broadway & Belmont Ave\" \"Sangamon St & Lake St\" \"Shields Ave & 31st St\" ...\n",
      " $ start_station_id  : chr [1:5859061] \"TA1307000163\" \"13277\" \"TA1306000015\" \"KA1503000038\" ...\n",
      " $ end_station_name  : chr [1:5859061] \"Sedgwick St & Webster Ave\" \"Sedgwick St & Webster Ave\" \"St. Clair St & Erie St\" \"Damen Ave & Madison St\" ...\n",
      " $ end_station_id    : chr [1:5859061] \"13191\" \"13191\" \"13016\" \"13134\" ...\n",
      " $ start_lat         : num [1:5859061] 41.9 41.9 41.9 41.8 41.9 ...\n",
      " $ start_lng         : num [1:5859061] -87.7 -87.6 -87.7 -87.6 -87.7 ...\n",
      " $ end_lat           : num [1:5859061] 41.9 41.9 41.9 41.9 41.9 ...\n",
      " $ end_lng           : num [1:5859061] -87.6 -87.6 -87.6 -87.7 -87.7 ...\n",
      " $ member_casual     : chr [1:5859061] \"member\" \"casual\" \"member\" \"member\" ...\n",
      " - attr(*, \"spec\")=\n",
      "  .. cols(\n",
      "  ..   ride_id = \u001b[31mcol_character()\u001b[39m,\n",
      "  ..   rideable_type = \u001b[31mcol_character()\u001b[39m,\n",
      "  ..   started_at = \u001b[34mcol_datetime(format = \"\")\u001b[39m,\n",
      "  ..   ended_at = \u001b[34mcol_datetime(format = \"\")\u001b[39m,\n",
      "  ..   start_station_name = \u001b[31mcol_character()\u001b[39m,\n",
      "  ..   start_station_id = \u001b[31mcol_character()\u001b[39m,\n",
      "  ..   end_station_name = \u001b[31mcol_character()\u001b[39m,\n",
      "  ..   end_station_id = \u001b[31mcol_character()\u001b[39m,\n",
      "  ..   start_lat = \u001b[32mcol_double()\u001b[39m,\n",
      "  ..   start_lng = \u001b[32mcol_double()\u001b[39m,\n",
      "  ..   end_lat = \u001b[32mcol_double()\u001b[39m,\n",
      "  ..   end_lng = \u001b[32mcol_double()\u001b[39m,\n",
      "  ..   member_casual = \u001b[31mcol_character()\u001b[39m\n",
      "  .. )\n",
      " - attr(*, \"problems\")=<externalptr> \n"
     ]
    }
   ],
   "source": [
    "## structure of dataset\n",
    "str(combined)"
   ]
  },
  {
   "cell_type": "code",
   "execution_count": 18,
   "id": "026edcce",
   "metadata": {
    "vscode": {
     "languageId": "r"
    }
   },
   "outputs": [
    {
     "data": {
      "text/plain": [
       "   ride_id          rideable_type        started_at                    \n",
       " Length:5859061     Length:5859061     Min.   :2022-05-01 00:00:06.00  \n",
       " Class :character   Class :character   1st Qu.:2022-07-03 11:12:30.00  \n",
       " Mode  :character   Mode  :character   Median :2022-08-28 12:44:57.00  \n",
       "                                       Mean   :2022-09-19 13:39:54.23  \n",
       "                                       3rd Qu.:2022-11-08 06:30:21.00  \n",
       "                                       Max.   :2023-04-30 23:59:05.00  \n",
       "                                                                       \n",
       "    ended_at                      start_station_name start_station_id  \n",
       " Min.   :2022-05-01 00:05:17.00   Length:5859061     Length:5859061    \n",
       " 1st Qu.:2022-07-03 11:38:52.00   Class :character   Class :character  \n",
       " Median :2022-08-28 13:07:09.00   Mode  :character   Mode  :character  \n",
       " Mean   :2022-09-19 13:58:50.35                                        \n",
       " 3rd Qu.:2022-11-08 06:43:39.00                                        \n",
       " Max.   :2023-05-03 10:37:12.00                                        \n",
       "                                                                       \n",
       " end_station_name   end_station_id       start_lat       start_lng     \n",
       " Length:5859061     Length:5859061     Min.   :41.64   Min.   :-87.84  \n",
       " Class :character   Class :character   1st Qu.:41.88   1st Qu.:-87.66  \n",
       " Mode  :character   Mode  :character   Median :41.90   Median :-87.64  \n",
       "                                       Mean   :41.90   Mean   :-87.65  \n",
       "                                       3rd Qu.:41.93   3rd Qu.:-87.63  \n",
       "                                       Max.   :42.07   Max.   :-87.52  \n",
       "                                                                       \n",
       "    end_lat         end_lng       member_casual     \n",
       " Min.   : 0.00   Min.   :-88.14   Length:5859061    \n",
       " 1st Qu.:41.88   1st Qu.:-87.66   Class :character  \n",
       " Median :41.90   Median :-87.64   Mode  :character  \n",
       " Mean   :41.90   Mean   :-87.65                     \n",
       " 3rd Qu.:41.93   3rd Qu.:-87.63                     \n",
       " Max.   :42.37   Max.   :  0.00                     \n",
       " NA's   :5973    NA's   :5973                       "
      ]
     },
     "metadata": {},
     "output_type": "display_data"
    }
   ],
   "source": [
    "## summary of dataset\n",
    "summary(combined)"
   ]
  },
  {
   "cell_type": "code",
   "execution_count": 19,
   "id": "8f7e9d17",
   "metadata": {
    "vscode": {
     "languageId": "r"
    }
   },
   "outputs": [],
   "source": [
    "## dropping irrelevant columns\n",
    "combined = combined[,!names(combined)%in% c(\"start_station_id\",\"end_station_id\",\"start_lat\",\"start_lng\",\"end_lat\",\"end_lng\")]"
   ]
  },
  {
   "cell_type": "code",
   "execution_count": 20,
   "id": "5aac39f6",
   "metadata": {
    "vscode": {
     "languageId": "r"
    }
   },
   "outputs": [
    {
     "data": {
      "text/html": [
       "<style>\n",
       ".dl-inline {width: auto; margin:0; padding: 0}\n",
       ".dl-inline>dt, .dl-inline>dd {float: none; width: auto; display: inline-block}\n",
       ".dl-inline>dt::after {content: \":\\0020\"; padding-right: .5ex}\n",
       ".dl-inline>dt:not(:first-of-type) {padding-left: .5ex}\n",
       "</style><dl class=dl-inline><dt>ride_id</dt><dd>0</dd><dt>rideable_type</dt><dd>0</dd><dt>started_at</dt><dd>0</dd><dt>ended_at</dt><dd>0</dd><dt>start_station_name</dt><dd>832009</dd><dt>end_station_name</dt><dd>889661</dd><dt>member_casual</dt><dd>0</dd></dl>\n"
      ],
      "text/latex": [
       "\\begin{description*}\n",
       "\\item[ride\\textbackslash{}\\_id] 0\n",
       "\\item[rideable\\textbackslash{}\\_type] 0\n",
       "\\item[started\\textbackslash{}\\_at] 0\n",
       "\\item[ended\\textbackslash{}\\_at] 0\n",
       "\\item[start\\textbackslash{}\\_station\\textbackslash{}\\_name] 832009\n",
       "\\item[end\\textbackslash{}\\_station\\textbackslash{}\\_name] 889661\n",
       "\\item[member\\textbackslash{}\\_casual] 0\n",
       "\\end{description*}\n"
      ],
      "text/markdown": [
       "ride_id\n",
       ":   0rideable_type\n",
       ":   0started_at\n",
       ":   0ended_at\n",
       ":   0start_station_name\n",
       ":   832009end_station_name\n",
       ":   889661member_casual\n",
       ":   0\n",
       "\n"
      ],
      "text/plain": [
       "           ride_id      rideable_type         started_at           ended_at \n",
       "                 0                  0                  0                  0 \n",
       "start_station_name   end_station_name      member_casual \n",
       "            832009             889661                  0 "
      ]
     },
     "metadata": {},
     "output_type": "display_data"
    }
   ],
   "source": [
    "## checking number of null values in datatset\n",
    "colSums(is.na(combined))"
   ]
  },
  {
   "cell_type": "code",
   "execution_count": 21,
   "id": "6708a20a",
   "metadata": {
    "vscode": {
     "languageId": "r"
    }
   },
   "outputs": [],
   "source": [
    "## dropping incomplete roows in dataset\n",
    "combined_clean = combined[complete.cases(combined),]"
   ]
  },
  {
   "cell_type": "code",
   "execution_count": 22,
   "id": "71c8bf16",
   "metadata": {
    "vscode": {
     "languageId": "r"
    }
   },
   "outputs": [],
   "source": [
    "## dropping duplicate rows in dataset\n",
    "combined_clean = distinct(combined_clean)"
   ]
  },
  {
   "cell_type": "code",
   "execution_count": 23,
   "id": "6f8305b3",
   "metadata": {
    "vscode": {
     "languageId": "r"
    }
   },
   "outputs": [],
   "source": [
    "## filtering out rows with incorrect ride times\n",
    "combined_clean = combined_clean %>% filter(started_at < ended_at) "
   ]
  },
  {
   "cell_type": "code",
   "execution_count": 24,
   "id": "6a8c2437",
   "metadata": {
    "vscode": {
     "languageId": "r"
    }
   },
   "outputs": [
    {
     "data": {
      "text/html": [
       "<style>\n",
       ".dl-inline {width: auto; margin:0; padding: 0}\n",
       ".dl-inline>dt, .dl-inline>dd {float: none; width: auto; display: inline-block}\n",
       ".dl-inline>dt::after {content: \":\\0020\"; padding-right: .5ex}\n",
       ".dl-inline>dt:not(:first-of-type) {padding-left: .5ex}\n",
       "</style><dl class=dl-inline><dt>ride_id</dt><dd>0</dd><dt>rideable_type</dt><dd>0</dd><dt>started_at</dt><dd>0</dd><dt>ended_at</dt><dd>0</dd><dt>start_station_name</dt><dd>0</dd><dt>end_station_name</dt><dd>0</dd><dt>member_casual</dt><dd>0</dd></dl>\n"
      ],
      "text/latex": [
       "\\begin{description*}\n",
       "\\item[ride\\textbackslash{}\\_id] 0\n",
       "\\item[rideable\\textbackslash{}\\_type] 0\n",
       "\\item[started\\textbackslash{}\\_at] 0\n",
       "\\item[ended\\textbackslash{}\\_at] 0\n",
       "\\item[start\\textbackslash{}\\_station\\textbackslash{}\\_name] 0\n",
       "\\item[end\\textbackslash{}\\_station\\textbackslash{}\\_name] 0\n",
       "\\item[member\\textbackslash{}\\_casual] 0\n",
       "\\end{description*}\n"
      ],
      "text/markdown": [
       "ride_id\n",
       ":   0rideable_type\n",
       ":   0started_at\n",
       ":   0ended_at\n",
       ":   0start_station_name\n",
       ":   0end_station_name\n",
       ":   0member_casual\n",
       ":   0\n",
       "\n"
      ],
      "text/plain": [
       "           ride_id      rideable_type         started_at           ended_at \n",
       "                 0                  0                  0                  0 \n",
       "start_station_name   end_station_name      member_casual \n",
       "                 0                  0                  0 "
      ]
     },
     "metadata": {},
     "output_type": "display_data"
    }
   ],
   "source": [
    "## checking for null values\n",
    "colSums(is.na(combined_clean))"
   ]
  },
  {
   "cell_type": "code",
   "execution_count": 25,
   "id": "a465742e",
   "metadata": {
    "vscode": {
     "languageId": "r"
    }
   },
   "outputs": [
    {
     "data": {
      "text/html": [
       "<style>\n",
       ".list-inline {list-style: none; margin:0; padding: 0}\n",
       ".list-inline>li {display: inline-block}\n",
       ".list-inline>li:not(:last-child)::after {content: \"\\00b7\"; padding: 0 .5ex}\n",
       "</style>\n",
       "<ol class=list-inline><li>4533917</li><li>7</li></ol>\n"
      ],
      "text/latex": [
       "\\begin{enumerate*}\n",
       "\\item 4533917\n",
       "\\item 7\n",
       "\\end{enumerate*}\n"
      ],
      "text/markdown": [
       "1. 4533917\n",
       "2. 7\n",
       "\n",
       "\n"
      ],
      "text/plain": [
       "[1] 4533917       7"
      ]
     },
     "metadata": {},
     "output_type": "display_data"
    }
   ],
   "source": [
    "## dimension of dataset\n",
    "dim(combined_clean)"
   ]
  },
  {
   "cell_type": "code",
   "execution_count": 26,
   "id": "920d69ea",
   "metadata": {
    "vscode": {
     "languageId": "r"
    }
   },
   "outputs": [],
   "source": [
    "## renaming columns\n",
    "combined_clean = rename(combined_clean, customer_type = member_casual,bike_type = rideable_type)"
   ]
  },
  {
   "cell_type": "code",
   "execution_count": 27,
   "id": "ef2d258f",
   "metadata": {
    "vscode": {
     "languageId": "r"
    }
   },
   "outputs": [],
   "source": [
    "## encoding ride start time column\n",
    "combined_clean$started_at = lubridate:: ymd_hms(combined_clean$started_at)"
   ]
  },
  {
   "cell_type": "code",
   "execution_count": 28,
   "id": "416a76d7",
   "metadata": {
    "vscode": {
     "languageId": "r"
    }
   },
   "outputs": [],
   "source": [
    "## encoding ride end time column\n",
    "combined_clean$ended_at = lubridate::ymd_hms(combined_clean$ended_at)"
   ]
  },
  {
   "cell_type": "code",
   "execution_count": 29,
   "id": "af5b2214",
   "metadata": {
    "vscode": {
     "languageId": "r"
    }
   },
   "outputs": [],
   "source": [
    "combined_clean$start_hour = lubridate::hour(combined_clean$started_at)"
   ]
  },
  {
   "cell_type": "code",
   "execution_count": 30,
   "id": "9bd6e087",
   "metadata": {
    "vscode": {
     "languageId": "r"
    }
   },
   "outputs": [],
   "source": [
    "combined_clean$end_hour = lubridate::hour(combined_clean$ended_at)"
   ]
  },
  {
   "cell_type": "code",
   "execution_count": 31,
   "id": "5a21f57e",
   "metadata": {
    "vscode": {
     "languageId": "r"
    }
   },
   "outputs": [],
   "source": [
    "## extracting month from started_at column\n",
    "combined_clean$month = month(combined_clean$started_at)"
   ]
  },
  {
   "cell_type": "code",
   "execution_count": 32,
   "id": "729f5491",
   "metadata": {
    "vscode": {
     "languageId": "r"
    }
   },
   "outputs": [],
   "source": [
    "## extracting day of week from started_at column\n",
    "combined_clean$day_of_week = wday(combined_clean$started_at)"
   ]
  },
  {
   "cell_type": "code",
   "execution_count": 33,
   "id": "34a5547d",
   "metadata": {
    "vscode": {
     "languageId": "r"
    }
   },
   "outputs": [],
   "source": [
    "## creating ride_length column\n",
    "combined_clean$ride_length = difftime(combined_clean$ended_at,combined_clean$started_at,units=\"mins\")"
   ]
  },
  {
   "cell_type": "code",
   "execution_count": 34,
   "id": "36ef0492",
   "metadata": {
    "vscode": {
     "languageId": "r"
    }
   },
   "outputs": [],
   "source": [
    "combined_clean$ride_length_hour = difftime(combined_clean$ended_at,combined_clean$started_at,units=\"hour\")"
   ]
  },
  {
   "cell_type": "code",
   "execution_count": 35,
   "id": "27607d6d",
   "metadata": {
    "vscode": {
     "languageId": "r"
    }
   },
   "outputs": [],
   "source": [
    "combined_clean$ride_length_day = difftime(combined_clean$ended_at,combined_clean$started_at,units=\"day\")"
   ]
  },
  {
   "cell_type": "code",
   "execution_count": 36,
   "id": "01b5a44f",
   "metadata": {
    "vscode": {
     "languageId": "r"
    }
   },
   "outputs": [
    {
     "data": {
      "text/html": [
       "<style>\n",
       ".list-inline {list-style: none; margin:0; padding: 0}\n",
       ".list-inline>li {display: inline-block}\n",
       ".list-inline>li:not(:last-child)::after {content: \"\\00b7\"; padding: 0 .5ex}\n",
       "</style>\n",
       "<ol class=list-inline><li>4533917</li><li>14</li></ol>\n"
      ],
      "text/latex": [
       "\\begin{enumerate*}\n",
       "\\item 4533917\n",
       "\\item 14\n",
       "\\end{enumerate*}\n"
      ],
      "text/markdown": [
       "1. 4533917\n",
       "2. 14\n",
       "\n",
       "\n"
      ],
      "text/plain": [
       "[1] 4533917      14"
      ]
     },
     "metadata": {},
     "output_type": "display_data"
    }
   ],
   "source": [
    "dim(combined_clean)"
   ]
  },
  {
   "cell_type": "code",
   "execution_count": 37,
   "id": "1459aa80",
   "metadata": {
    "vscode": {
     "languageId": "r"
    }
   },
   "outputs": [],
   "source": [
    "## dropping rows that are considered outliers \n",
    "combined_clean = combined_clean[!combined_clean$ride_length< 2,]\n",
    "combined_clean = combined_clean[!combined_clean$ride_length> 1500,]"
   ]
  },
  {
   "cell_type": "code",
   "execution_count": 38,
   "id": "5a8497b7",
   "metadata": {
    "vscode": {
     "languageId": "r"
    }
   },
   "outputs": [
    {
     "data": {
      "text/html": [
       "<style>\n",
       ".list-inline {list-style: none; margin:0; padding: 0}\n",
       ".list-inline>li {display: inline-block}\n",
       ".list-inline>li:not(:last-child)::after {content: \"\\00b7\"; padding: 0 .5ex}\n",
       "</style>\n",
       "<ol class=list-inline><li>4370222</li><li>14</li></ol>\n"
      ],
      "text/latex": [
       "\\begin{enumerate*}\n",
       "\\item 4370222\n",
       "\\item 14\n",
       "\\end{enumerate*}\n"
      ],
      "text/markdown": [
       "1. 4370222\n",
       "2. 14\n",
       "\n",
       "\n"
      ],
      "text/plain": [
       "[1] 4370222      14"
      ]
     },
     "metadata": {},
     "output_type": "display_data"
    }
   ],
   "source": [
    "dim(combined_clean)"
   ]
  },
  {
   "cell_type": "code",
   "execution_count": 39,
   "id": "f114db31",
   "metadata": {
    "vscode": {
     "languageId": "r"
    }
   },
   "outputs": [
    {
     "data": {
      "text/html": [
       "<table class=\"dataframe\">\n",
       "<caption>A tibble: 4370222 × 14</caption>\n",
       "<thead>\n",
       "\t<tr><th scope=col>ride_id</th><th scope=col>bike_type</th><th scope=col>started_at</th><th scope=col>ended_at</th><th scope=col>start_station_name</th><th scope=col>end_station_name</th><th scope=col>customer_type</th><th scope=col>start_hour</th><th scope=col>end_hour</th><th scope=col>month</th><th scope=col>day_of_week</th><th scope=col>ride_length</th><th scope=col>ride_length_hour</th><th scope=col>ride_length_day</th></tr>\n",
       "\t<tr><th scope=col>&lt;chr&gt;</th><th scope=col>&lt;chr&gt;</th><th scope=col>&lt;dttm&gt;</th><th scope=col>&lt;dttm&gt;</th><th scope=col>&lt;chr&gt;</th><th scope=col>&lt;chr&gt;</th><th scope=col>&lt;chr&gt;</th><th scope=col>&lt;int&gt;</th><th scope=col>&lt;int&gt;</th><th scope=col>&lt;int&gt;</th><th scope=col>&lt;int&gt;</th><th scope=col>&lt;drtn&gt;</th><th scope=col>&lt;drtn&gt;</th><th scope=col>&lt;drtn&gt;</th></tr>\n",
       "</thead>\n",
       "<tbody>\n",
       "\t<tr><td>65DBD2F447EC51C2</td><td>electric_bike</td><td>2022-12-05 10:47:18</td><td>2022-12-05 10:56:34</td><td><span style=white-space:pre-wrap>Clifton Ave &amp; Armitage Ave   </span></td><td><span style=white-space:pre-wrap>Sedgwick St &amp; Webster Ave    </span></td><td>member</td><td>10</td><td>10</td><td>12</td><td>2</td><td> 9.266667 mins</td><td>0.15444444 hours</td><td>0.006435185 days</td></tr>\n",
       "\t<tr><td>0C201AA7EA0EA1AD</td><td>classic_bike </td><td>2022-12-18 06:42:33</td><td>2022-12-18 07:08:44</td><td><span style=white-space:pre-wrap>Broadway &amp; Belmont Ave       </span></td><td><span style=white-space:pre-wrap>Sedgwick St &amp; Webster Ave    </span></td><td>casual</td><td> 6</td><td> 7</td><td>12</td><td>1</td><td>26.183333 mins</td><td>0.43638889 hours</td><td>0.018182870 days</td></tr>\n",
       "\t<tr><td>E0B148CCB358A49D</td><td>electric_bike</td><td>2022-12-13 08:47:45</td><td>2022-12-13 08:59:51</td><td><span style=white-space:pre-wrap>Sangamon St &amp; Lake St        </span></td><td><span style=white-space:pre-wrap>St. Clair St &amp; Erie St       </span></td><td>member</td><td> 8</td><td> 8</td><td>12</td><td>3</td><td>12.100000 mins</td><td>0.20166667 hours</td><td>0.008402778 days</td></tr>\n",
       "\t<tr><td>54C5775D2B7C9188</td><td>classic_bike </td><td>2022-12-13 18:50:47</td><td>2022-12-13 19:19:48</td><td><span style=white-space:pre-wrap>Shields Ave &amp; 31st St        </span></td><td><span style=white-space:pre-wrap>Damen Ave &amp; Madison St       </span></td><td>member</td><td>18</td><td>19</td><td>12</td><td>3</td><td>29.016667 mins</td><td>0.48361111 hours</td><td>0.020150463 days</td></tr>\n",
       "\t<tr><td>A4891F78776D35DF</td><td>classic_bike </td><td>2022-12-14 16:13:39</td><td>2022-12-14 16:27:50</td><td><span style=white-space:pre-wrap>Ashland Ave &amp; Chicago Ave    </span></td><td><span style=white-space:pre-wrap>Damen Ave &amp; Charleston St    </span></td><td>casual</td><td>16</td><td>16</td><td>12</td><td>4</td><td>14.183333 mins</td><td>0.23638889 hours</td><td>0.009849537 days</td></tr>\n",
       "\t<tr><td>DB91D9B8DFACA07A</td><td>electric_bike</td><td>2022-12-02 15:24:47</td><td>2022-12-02 15:34:14</td><td><span style=white-space:pre-wrap>Wabash Ave &amp; 9th St          </span></td><td><span style=white-space:pre-wrap>Wacker Dr &amp; Washington St    </span></td><td>member</td><td>15</td><td>15</td><td>12</td><td>6</td><td> 9.450000 mins</td><td>0.15750000 hours</td><td>0.006562500 days</td></tr>\n",
       "\t<tr><td>6AD396C5760CC992</td><td>classic_bike </td><td>2022-12-20 09:02:03</td><td>2022-12-20 09:19:54</td><td><span style=white-space:pre-wrap>Leavitt St &amp; Chicago Ave     </span></td><td><span style=white-space:pre-wrap>Wacker Dr &amp; Washington St    </span></td><td>member</td><td> 9</td><td> 9</td><td>12</td><td>3</td><td>17.850000 mins</td><td>0.29750000 hours</td><td>0.012395833 days</td></tr>\n",
       "\t<tr><td>8D736E35E0075504</td><td>classic_bike </td><td>2022-12-13 14:19:49</td><td>2022-12-13 14:28:28</td><td>Humboldt Blvd &amp; Armitage Ave </td><td>Spaulding Ave &amp; Armitage Ave </td><td>member</td><td>14</td><td>14</td><td>12</td><td>3</td><td> 8.650000 mins</td><td>0.14416667 hours</td><td>0.006006944 days</td></tr>\n",
       "\t<tr><td>DDAB881F96C51DC8</td><td>classic_bike </td><td>2022-12-13 07:38:07</td><td>2022-12-13 07:57:01</td><td><span style=white-space:pre-wrap>Canal St &amp; Adams St          </span></td><td><span style=white-space:pre-wrap>St. Clair St &amp; Erie St       </span></td><td>member</td><td> 7</td><td> 7</td><td>12</td><td>3</td><td>18.900000 mins</td><td>0.31500000 hours</td><td>0.013125000 days</td></tr>\n",
       "\t<tr><td>8DDBAE51E55DAEEF</td><td>classic_bike </td><td>2022-12-21 08:57:42</td><td>2022-12-21 09:10:59</td><td>Greenview Ave &amp; Fullerton Ave</td><td>Southport Ave &amp; Waveland Ave </td><td>member</td><td> 8</td><td> 9</td><td>12</td><td>4</td><td>13.283333 mins</td><td>0.22138889 hours</td><td>0.009224537 days</td></tr>\n",
       "\t<tr><td>37BCF0C0B553F0A1</td><td>classic_bike </td><td>2022-12-12 17:56:26</td><td>2022-12-12 18:02:41</td><td><span style=white-space:pre-wrap>Canal St &amp; Adams St          </span></td><td>Sangamon St &amp; Washington Blvd</td><td>member</td><td>17</td><td>18</td><td>12</td><td>2</td><td> 6.250000 mins</td><td>0.10416667 hours</td><td>0.004340278 days</td></tr>\n",
       "\t<tr><td>1B133362A3F86A2C</td><td>classic_bike </td><td>2022-12-06 17:07:34</td><td>2022-12-06 17:14:22</td><td><span style=white-space:pre-wrap>Canal St &amp; Adams St          </span></td><td>Sangamon St &amp; Washington Blvd</td><td>member</td><td>17</td><td>17</td><td>12</td><td>3</td><td> 6.800000 mins</td><td>0.11333333 hours</td><td>0.004722222 days</td></tr>\n",
       "\t<tr><td>DF0DC4C1FF01E3EF</td><td>classic_bike </td><td>2022-12-29 17:46:08</td><td>2022-12-29 17:52:34</td><td><span style=white-space:pre-wrap>Canal St &amp; Adams St          </span></td><td>Sangamon St &amp; Washington Blvd</td><td>member</td><td>17</td><td>17</td><td>12</td><td>5</td><td> 6.433333 mins</td><td>0.10722222 hours</td><td>0.004467593 days</td></tr>\n",
       "\t<tr><td>0D58B8FC23315D59</td><td>classic_bike </td><td>2022-12-01 21:38:56</td><td>2022-12-01 21:46:05</td><td><span style=white-space:pre-wrap>Canal St &amp; Adams St          </span></td><td>Sangamon St &amp; Washington Blvd</td><td>member</td><td>21</td><td>21</td><td>12</td><td>5</td><td> 7.150000 mins</td><td>0.11916667 hours</td><td>0.004965278 days</td></tr>\n",
       "\t<tr><td>462D7A9C0323B0C9</td><td>classic_bike </td><td>2022-12-03 15:52:58</td><td>2022-12-03 15:56:26</td><td>Humboldt Blvd &amp; Armitage Ave </td><td>Spaulding Ave &amp; Armitage Ave </td><td>member</td><td>15</td><td>15</td><td>12</td><td>7</td><td> 3.466667 mins</td><td>0.05777778 hours</td><td>0.002407407 days</td></tr>\n",
       "\t<tr><td>9F827DE27022F311</td><td>electric_bike</td><td>2022-12-01 07:08:13</td><td>2022-12-01 07:18:04</td><td><span style=white-space:pre-wrap>Ashland Ave &amp; Chicago Ave    </span></td><td><span style=white-space:pre-wrap>Wacker Dr &amp; Washington St    </span></td><td>member</td><td> 7</td><td> 7</td><td>12</td><td>5</td><td> 9.850000 mins</td><td>0.16416667 hours</td><td>0.006840278 days</td></tr>\n",
       "\t<tr><td>58E5482C771A98BE</td><td>classic_bike </td><td>2022-12-28 22:01:54</td><td>2022-12-28 22:11:05</td><td><span style=white-space:pre-wrap>Broadway &amp; Belmont Ave       </span></td><td>Southport Ave &amp; Waveland Ave </td><td>member</td><td>22</td><td>22</td><td>12</td><td>4</td><td> 9.183333 mins</td><td>0.15305556 hours</td><td>0.006377315 days</td></tr>\n",
       "\t<tr><td>46FD5C26A4020ED1</td><td>classic_bike </td><td>2022-12-19 11:28:51</td><td>2022-12-19 11:52:48</td><td><span style=white-space:pre-wrap>Sedgwick St &amp; North Ave      </span></td><td><span style=white-space:pre-wrap>St. Clair St &amp; Erie St       </span></td><td>member</td><td>11</td><td>11</td><td>12</td><td>2</td><td>23.950000 mins</td><td>0.39916667 hours</td><td>0.016631944 days</td></tr>\n",
       "\t<tr><td>F27780BD0F2E0C01</td><td>classic_bike </td><td>2022-12-21 16:51:20</td><td>2022-12-21 17:00:14</td><td><span style=white-space:pre-wrap>Malcolm X College            </span></td><td>Sangamon St &amp; Washington Blvd</td><td>member</td><td>16</td><td>17</td><td>12</td><td>4</td><td> 8.900000 mins</td><td>0.14833333 hours</td><td>0.006180556 days</td></tr>\n",
       "\t<tr><td>995F741523A9DEAD</td><td>classic_bike </td><td>2022-12-26 10:46:06</td><td>2022-12-26 11:12:30</td><td><span style=white-space:pre-wrap>Ashland Ave &amp; Chicago Ave    </span></td><td><span style=white-space:pre-wrap>St. Clair St &amp; Erie St       </span></td><td>member</td><td>10</td><td>11</td><td>12</td><td>2</td><td>26.400000 mins</td><td>0.44000000 hours</td><td>0.018333333 days</td></tr>\n",
       "\t<tr><td>FF9A7FC5BCB6D029</td><td>electric_bike</td><td>2022-12-01 09:14:39</td><td>2022-12-01 09:26:56</td><td><span style=white-space:pre-wrap>Sedgwick St &amp; North Ave      </span></td><td><span style=white-space:pre-wrap>Wacker Dr &amp; Washington St    </span></td><td>member</td><td> 9</td><td> 9</td><td>12</td><td>5</td><td>12.283333 mins</td><td>0.20472222 hours</td><td>0.008530093 days</td></tr>\n",
       "\t<tr><td>1B2898656A62F1FB</td><td>electric_bike</td><td>2022-12-10 21:47:52</td><td>2022-12-10 22:07:02</td><td><span style=white-space:pre-wrap>Clifton Ave &amp; Armitage Ave   </span></td><td>Spaulding Ave &amp; Armitage Ave </td><td>casual</td><td>21</td><td>22</td><td>12</td><td>7</td><td>19.166667 mins</td><td>0.31944444 hours</td><td>0.013310185 days</td></tr>\n",
       "\t<tr><td>A332DD20175E907E</td><td>classic_bike </td><td>2022-12-03 08:49:51</td><td>2022-12-03 09:05:16</td><td><span style=white-space:pre-wrap>Broadway &amp; Belmont Ave       </span></td><td>Southport Ave &amp; Waveland Ave </td><td>casual</td><td> 8</td><td> 9</td><td>12</td><td>7</td><td>15.416667 mins</td><td>0.25694444 hours</td><td>0.010706019 days</td></tr>\n",
       "\t<tr><td>37D27BD10A147058</td><td>classic_bike </td><td>2022-12-13 06:55:00</td><td>2022-12-13 07:00:18</td><td><span style=white-space:pre-wrap>Sangamon St &amp; Lake St        </span></td><td><span style=white-space:pre-wrap>Wacker Dr &amp; Washington St    </span></td><td>member</td><td> 6</td><td> 7</td><td>12</td><td>3</td><td> 5.300000 mins</td><td>0.08833333 hours</td><td>0.003680556 days</td></tr>\n",
       "\t<tr><td>3945E996AE3304B8</td><td>electric_bike</td><td>2022-12-09 00:03:47</td><td>2022-12-09 00:15:03</td><td><span style=white-space:pre-wrap>Sedgwick St &amp; North Ave      </span></td><td>Southport Ave &amp; Waveland Ave </td><td>member</td><td> 0</td><td> 0</td><td>12</td><td>6</td><td>11.266667 mins</td><td>0.18777778 hours</td><td>0.007824074 days</td></tr>\n",
       "\t<tr><td>221B0D4EBCF9D710</td><td>electric_bike</td><td>2022-12-30 14:07:17</td><td>2022-12-30 14:15:19</td><td><span style=white-space:pre-wrap>Broadway &amp; Belmont Ave       </span></td><td>Southport Ave &amp; Waveland Ave </td><td>member</td><td>14</td><td>14</td><td>12</td><td>6</td><td> 8.033333 mins</td><td>0.13388889 hours</td><td>0.005578704 days</td></tr>\n",
       "\t<tr><td>5756E0DF84CEF779</td><td>classic_bike </td><td>2022-12-06 09:20:21</td><td>2022-12-06 09:34:17</td><td><span style=white-space:pre-wrap>Sedgwick St &amp; North Ave      </span></td><td><span style=white-space:pre-wrap>Wacker Dr &amp; Washington St    </span></td><td>member</td><td> 9</td><td> 9</td><td>12</td><td>3</td><td>13.933333 mins</td><td>0.23222222 hours</td><td>0.009675926 days</td></tr>\n",
       "\t<tr><td>B9645D9F60BFD279</td><td>classic_bike </td><td>2022-12-13 08:45:54</td><td>2022-12-13 09:00:19</td><td><span style=white-space:pre-wrap>Sedgwick St &amp; North Ave      </span></td><td><span style=white-space:pre-wrap>Wacker Dr &amp; Washington St    </span></td><td>member</td><td> 8</td><td> 9</td><td>12</td><td>3</td><td>14.416667 mins</td><td>0.24027778 hours</td><td>0.010011574 days</td></tr>\n",
       "\t<tr><td>D5E154DDC4146EFC</td><td>electric_bike</td><td>2022-12-03 09:09:55</td><td>2022-12-03 09:19:20</td><td><span style=white-space:pre-wrap>Ashland Ave &amp; Chicago Ave    </span></td><td><span style=white-space:pre-wrap>Wacker Dr &amp; Washington St    </span></td><td>member</td><td> 9</td><td> 9</td><td>12</td><td>7</td><td> 9.416667 mins</td><td>0.15694444 hours</td><td>0.006539352 days</td></tr>\n",
       "\t<tr><td>7D451A9C489FE4D2</td><td>classic_bike </td><td>2022-12-10 09:49:06</td><td>2022-12-10 10:19:17</td><td><span style=white-space:pre-wrap>Broadway &amp; Belmont Ave       </span></td><td><span style=white-space:pre-wrap>St. Clair St &amp; Erie St       </span></td><td>member</td><td> 9</td><td>10</td><td>12</td><td>7</td><td>30.183333 mins</td><td>0.50305556 hours</td><td>0.020960648 days</td></tr>\n",
       "\t<tr><td>⋮</td><td>⋮</td><td>⋮</td><td>⋮</td><td>⋮</td><td>⋮</td><td>⋮</td><td>⋮</td><td>⋮</td><td>⋮</td><td>⋮</td><td>⋮</td><td>⋮</td><td>⋮</td></tr>\n",
       "\t<tr><td>220E8DE61050FCF9</td><td>classic_bike </td><td>2022-05-26 23:38:33</td><td>2022-05-26 23:44:58</td><td>California Ave &amp; Milwaukee Ave</td><td>California Ave &amp; Milwaukee Ave</td><td>casual</td><td>23</td><td>23</td><td>5</td><td>5</td><td><span style=white-space:pre-wrap>  6.416667 mins</span></td><td>0.10694444 hours</td><td>0.004456019 days</td></tr>\n",
       "\t<tr><td>D706A1DE6C03DB04</td><td>electric_bike</td><td>2022-05-27 17:06:03</td><td>2022-05-27 18:57:45</td><td><span style=white-space:pre-wrap>Morgan Ave &amp; 14th Pl          </span></td><td><span style=white-space:pre-wrap>Morgan Ave &amp; 14th Pl          </span></td><td>casual</td><td>17</td><td>18</td><td>5</td><td>6</td><td>111.700000 mins</td><td>1.86166667 hours</td><td>0.077569444 days</td></tr>\n",
       "\t<tr><td>7953BED74D928F6C</td><td>classic_bike </td><td>2022-05-10 19:50:58</td><td>2022-05-10 20:01:19</td><td><span style=white-space:pre-wrap>California Ave &amp; Division St  </span></td><td>California Ave &amp; Milwaukee Ave</td><td>member</td><td>19</td><td>20</td><td>5</td><td>3</td><td> 10.350000 mins</td><td>0.17250000 hours</td><td>0.007187500 days</td></tr>\n",
       "\t<tr><td>100BF694B077C1A6</td><td>classic_bike </td><td>2022-05-10 16:16:28</td><td>2022-05-10 16:42:16</td><td>Sangamon St &amp; Washington Blvd </td><td><span style=white-space:pre-wrap>Morgan Ave &amp; 14th Pl          </span></td><td>casual</td><td>16</td><td>16</td><td>5</td><td>3</td><td> 25.800000 mins</td><td>0.43000000 hours</td><td>0.017916667 days</td></tr>\n",
       "\t<tr><td>8D470810816DC6A7</td><td>electric_bike</td><td>2022-05-28 14:58:59</td><td>2022-05-28 15:04:15</td><td><span style=white-space:pre-wrap>Spaulding Ave &amp; Armitage Ave  </span></td><td>California Ave &amp; Milwaukee Ave</td><td>casual</td><td>14</td><td>15</td><td>5</td><td>7</td><td><span style=white-space:pre-wrap>  5.266667 mins</span></td><td>0.08777778 hours</td><td>0.003657407 days</td></tr>\n",
       "\t<tr><td>6BCBA0ED112CEFFA</td><td><span style=white-space:pre-wrap>docked_bike  </span></td><td>2022-05-21 17:51:47</td><td>2022-05-21 18:05:40</td><td><span style=white-space:pre-wrap>Kosciuszko Park               </span></td><td>California Ave &amp; Milwaukee Ave</td><td>casual</td><td>17</td><td>18</td><td>5</td><td>7</td><td> 13.883333 mins</td><td>0.23138889 hours</td><td>0.009641204 days</td></tr>\n",
       "\t<tr><td>306F1463853F46C3</td><td>electric_bike</td><td>2022-05-29 19:56:36</td><td>2022-05-29 20:00:36</td><td><span style=white-space:pre-wrap>Kedzie Ave &amp; Milwaukee Ave    </span></td><td>California Ave &amp; Milwaukee Ave</td><td>casual</td><td>19</td><td>20</td><td>5</td><td>1</td><td><span style=white-space:pre-wrap>  4.000000 mins</span></td><td>0.06666667 hours</td><td>0.002777778 days</td></tr>\n",
       "\t<tr><td>9A51A340401243B1</td><td>classic_bike </td><td>2022-05-30 00:45:31</td><td>2022-05-30 01:29:46</td><td><span style=white-space:pre-wrap>Kedzie Ave &amp; Milwaukee Ave    </span></td><td>California Ave &amp; Milwaukee Ave</td><td>casual</td><td> 0</td><td> 1</td><td>5</td><td>2</td><td> 44.250000 mins</td><td>0.73750000 hours</td><td>0.030729167 days</td></tr>\n",
       "\t<tr><td>BD7347750E3472A7</td><td>classic_bike </td><td>2022-05-30 00:45:13</td><td>2022-05-30 01:29:35</td><td><span style=white-space:pre-wrap>Kedzie Ave &amp; Milwaukee Ave    </span></td><td>California Ave &amp; Milwaukee Ave</td><td>casual</td><td> 0</td><td> 1</td><td>5</td><td>2</td><td> 44.366667 mins</td><td>0.73944444 hours</td><td>0.030810185 days</td></tr>\n",
       "\t<tr><td>B8B21AC3E01BDA4E</td><td>electric_bike</td><td>2022-05-14 17:24:40</td><td>2022-05-14 17:46:55</td><td>Christiana Ave &amp; Lawrence Ave </td><td><span style=white-space:pre-wrap>California Ave &amp; Division St  </span></td><td>casual</td><td>17</td><td>17</td><td>5</td><td>7</td><td> 22.250000 mins</td><td>0.37083333 hours</td><td>0.015451389 days</td></tr>\n",
       "\t<tr><td>2817DB972921DF66</td><td>electric_bike</td><td>2022-05-22 15:16:12</td><td>2022-05-22 15:38:00</td><td><span style=white-space:pre-wrap>Morgan Ave &amp; 14th Pl          </span></td><td><span style=white-space:pre-wrap>Morgan Ave &amp; 14th Pl          </span></td><td>member</td><td>15</td><td>15</td><td>5</td><td>1</td><td> 21.800000 mins</td><td>0.36333333 hours</td><td>0.015138889 days</td></tr>\n",
       "\t<tr><td>3E76D54D2FA65FAD</td><td>electric_bike</td><td>2022-05-13 11:09:04</td><td>2022-05-13 11:16:48</td><td><span style=white-space:pre-wrap>Kenosha &amp; Wellington          </span></td><td><span style=white-space:pre-wrap>Kenosha &amp; Wellington          </span></td><td>casual</td><td>11</td><td>11</td><td>5</td><td>6</td><td><span style=white-space:pre-wrap>  7.733333 mins</span></td><td>0.12888889 hours</td><td>0.005370370 days</td></tr>\n",
       "\t<tr><td>1251D162A5856C84</td><td>classic_bike </td><td>2022-05-20 19:48:58</td><td>2022-05-20 19:58:41</td><td>California Ave &amp; Milwaukee Ave</td><td><span style=white-space:pre-wrap>California Ave &amp; Division St  </span></td><td>casual</td><td>19</td><td>19</td><td>5</td><td>6</td><td><span style=white-space:pre-wrap>  9.716667 mins</span></td><td>0.16194444 hours</td><td>0.006747685 days</td></tr>\n",
       "\t<tr><td>2502827402D7BEFC</td><td>electric_bike</td><td>2022-05-30 20:46:16</td><td>2022-05-30 20:57:40</td><td>California Ave &amp; Milwaukee Ave</td><td><span style=white-space:pre-wrap>California Ave &amp; Division St  </span></td><td>casual</td><td>20</td><td>20</td><td>5</td><td>2</td><td> 11.400000 mins</td><td>0.19000000 hours</td><td>0.007916667 days</td></tr>\n",
       "\t<tr><td>A3FC429B2A65B9EC</td><td>electric_bike</td><td>2022-05-17 13:00:23</td><td>2022-05-17 13:24:50</td><td>California Ave &amp; Milwaukee Ave</td><td>California Ave &amp; Milwaukee Ave</td><td>casual</td><td>13</td><td>13</td><td>5</td><td>3</td><td> 24.450000 mins</td><td>0.40750000 hours</td><td>0.016979167 days</td></tr>\n",
       "\t<tr><td>C7E0CD0BAF730094</td><td>classic_bike </td><td>2022-05-10 18:41:39</td><td>2022-05-10 18:56:51</td><td><span style=white-space:pre-wrap>Federal St &amp; Polk St          </span></td><td><span style=white-space:pre-wrap>Morgan Ave &amp; 14th Pl          </span></td><td>member</td><td>18</td><td>18</td><td>5</td><td>3</td><td> 15.200000 mins</td><td>0.25333333 hours</td><td>0.010555556 days</td></tr>\n",
       "\t<tr><td>EF57CA0661167C2D</td><td><span style=white-space:pre-wrap>docked_bike  </span></td><td>2022-05-16 19:08:10</td><td>2022-05-16 19:19:41</td><td>California Ave &amp; Milwaukee Ave</td><td><span style=white-space:pre-wrap>California Ave &amp; Division St  </span></td><td>casual</td><td>19</td><td>19</td><td>5</td><td>2</td><td> 11.516667 mins</td><td>0.19194444 hours</td><td>0.007997685 days</td></tr>\n",
       "\t<tr><td>C10AF5F688813C5B</td><td>classic_bike </td><td>2022-05-10 19:40:25</td><td>2022-05-10 19:44:20</td><td><span style=white-space:pre-wrap>Campbell Ave &amp; Montrose Ave   </span></td><td><span style=white-space:pre-wrap>Campbell Ave &amp; Montrose Ave   </span></td><td>member</td><td>19</td><td>19</td><td>5</td><td>3</td><td><span style=white-space:pre-wrap>  3.916667 mins</span></td><td>0.06527778 hours</td><td>0.002719907 days</td></tr>\n",
       "\t<tr><td>5020E651786CC694</td><td>electric_bike</td><td>2022-05-13 20:08:21</td><td>2022-05-13 20:22:53</td><td><span style=white-space:pre-wrap>Orange &amp; Addison              </span></td><td><span style=white-space:pre-wrap>Orange &amp; Addison              </span></td><td>casual</td><td>20</td><td>20</td><td>5</td><td>6</td><td> 14.533333 mins</td><td>0.24222222 hours</td><td>0.010092593 days</td></tr>\n",
       "\t<tr><td>6D22B539D463056D</td><td>classic_bike </td><td>2022-05-31 14:03:21</td><td>2022-05-31 14:31:34</td><td>California Ave &amp; Milwaukee Ave</td><td>California Ave &amp; Milwaukee Ave</td><td>casual</td><td>14</td><td>14</td><td>5</td><td>3</td><td> 28.216667 mins</td><td>0.47027778 hours</td><td>0.019594907 days</td></tr>\n",
       "\t<tr><td>8A56951F3A8665DE</td><td>electric_bike</td><td>2022-05-01 17:33:59</td><td>2022-05-01 17:37:15</td><td>California Ave &amp; Milwaukee Ave</td><td>California Ave &amp; Milwaukee Ave</td><td>casual</td><td>17</td><td>17</td><td>5</td><td>1</td><td><span style=white-space:pre-wrap>  3.266667 mins</span></td><td>0.05444444 hours</td><td>0.002268519 days</td></tr>\n",
       "\t<tr><td>32AB4F449B4F8184</td><td>electric_bike</td><td>2022-05-30 21:53:35</td><td>2022-05-30 22:12:04</td><td><span style=white-space:pre-wrap>Orange &amp; Addison              </span></td><td><span style=white-space:pre-wrap>Orange &amp; Addison              </span></td><td>casual</td><td>21</td><td>22</td><td>5</td><td>2</td><td> 18.483333 mins</td><td>0.30805556 hours</td><td>0.012835648 days</td></tr>\n",
       "\t<tr><td>CFA628793A8E1A43</td><td>electric_bike</td><td>2022-05-11 09:18:40</td><td>2022-05-11 09:46:51</td><td><span style=white-space:pre-wrap>Orange &amp; Addison              </span></td><td><span style=white-space:pre-wrap>Orange &amp; Addison              </span></td><td>casual</td><td> 9</td><td> 9</td><td>5</td><td>4</td><td> 28.183333 mins</td><td>0.46972222 hours</td><td>0.019571759 days</td></tr>\n",
       "\t<tr><td>317758B0C5D6432D</td><td>electric_bike</td><td>2022-05-11 17:59:42</td><td>2022-05-11 18:06:10</td><td><span style=white-space:pre-wrap>California Ave &amp; Division St  </span></td><td>California Ave &amp; Milwaukee Ave</td><td>casual</td><td>17</td><td>18</td><td>5</td><td>4</td><td><span style=white-space:pre-wrap>  6.466667 mins</span></td><td>0.10777778 hours</td><td>0.004490741 days</td></tr>\n",
       "\t<tr><td>7FD953DDF58DE718</td><td>classic_bike </td><td>2022-05-08 12:43:59</td><td>2022-05-08 13:10:26</td><td><span style=white-space:pre-wrap>California Ave &amp; Division St  </span></td><td><span style=white-space:pre-wrap>California Ave &amp; Division St  </span></td><td>member</td><td>12</td><td>13</td><td>5</td><td>1</td><td> 26.450000 mins</td><td>0.44083333 hours</td><td>0.018368056 days</td></tr>\n",
       "\t<tr><td>2751A20F087A39B5</td><td><span style=white-space:pre-wrap>docked_bike  </span></td><td>2022-05-16 10:44:42</td><td>2022-05-16 14:48:47</td><td><span style=white-space:pre-wrap>Campbell Ave &amp; Montrose Ave   </span></td><td><span style=white-space:pre-wrap>Campbell Ave &amp; Montrose Ave   </span></td><td>casual</td><td>10</td><td>14</td><td>5</td><td>2</td><td>244.083333 mins</td><td>4.06805556 hours</td><td>0.169502315 days</td></tr>\n",
       "\t<tr><td>9A2B15F389585725</td><td>classic_bike </td><td>2022-05-18 16:30:26</td><td>2022-05-18 16:41:16</td><td><span style=white-space:pre-wrap>Wood St &amp; Chicago Ave         </span></td><td><span style=white-space:pre-wrap>Wood St &amp; Chicago Ave         </span></td><td>member</td><td>16</td><td>16</td><td>5</td><td>4</td><td> 10.833333 mins</td><td>0.18055556 hours</td><td>0.007523148 days</td></tr>\n",
       "\t<tr><td>3E1663D37D8AB75A</td><td>classic_bike </td><td>2022-05-08 13:28:53</td><td>2022-05-08 14:35:23</td><td><span style=white-space:pre-wrap>California Ave &amp; Division St  </span></td><td><span style=white-space:pre-wrap>Wood St &amp; Chicago Ave         </span></td><td>casual</td><td>13</td><td>14</td><td>5</td><td>1</td><td> 66.500000 mins</td><td>1.10833333 hours</td><td>0.046180556 days</td></tr>\n",
       "\t<tr><td>73B9BC566EF662F4</td><td>classic_bike </td><td>2022-05-06 18:52:52</td><td>2022-05-06 19:27:02</td><td><span style=white-space:pre-wrap>Campbell Ave &amp; Montrose Ave   </span></td><td><span style=white-space:pre-wrap>Campbell Ave &amp; Montrose Ave   </span></td><td>member</td><td>18</td><td>19</td><td>5</td><td>6</td><td> 34.166667 mins</td><td>0.56944444 hours</td><td>0.023726852 days</td></tr>\n",
       "\t<tr><td>1E6E84511515C736</td><td>classic_bike </td><td>2022-05-30 20:57:52</td><td>2022-05-30 21:16:11</td><td>California Ave &amp; Milwaukee Ave</td><td>California Ave &amp; Milwaukee Ave</td><td>member</td><td>20</td><td>21</td><td>5</td><td>2</td><td> 18.316667 mins</td><td>0.30527778 hours</td><td>0.012719907 days</td></tr>\n",
       "</tbody>\n",
       "</table>\n"
      ],
      "text/latex": [
       "A tibble: 4370222 × 14\n",
       "\\begin{tabular}{llllllllllllll}\n",
       " ride\\_id & bike\\_type & started\\_at & ended\\_at & start\\_station\\_name & end\\_station\\_name & customer\\_type & start\\_hour & end\\_hour & month & day\\_of\\_week & ride\\_length & ride\\_length\\_hour & ride\\_length\\_day\\\\\n",
       " <chr> & <chr> & <dttm> & <dttm> & <chr> & <chr> & <chr> & <int> & <int> & <int> & <int> & <drtn> & <drtn> & <drtn>\\\\\n",
       "\\hline\n",
       "\t 65DBD2F447EC51C2 & electric\\_bike & 2022-12-05 10:47:18 & 2022-12-05 10:56:34 & Clifton Ave \\& Armitage Ave    & Sedgwick St \\& Webster Ave     & member & 10 & 10 & 12 & 2 &  9.266667 mins & 0.15444444 hours & 0.006435185 days\\\\\n",
       "\t 0C201AA7EA0EA1AD & classic\\_bike  & 2022-12-18 06:42:33 & 2022-12-18 07:08:44 & Broadway \\& Belmont Ave        & Sedgwick St \\& Webster Ave     & casual &  6 &  7 & 12 & 1 & 26.183333 mins & 0.43638889 hours & 0.018182870 days\\\\\n",
       "\t E0B148CCB358A49D & electric\\_bike & 2022-12-13 08:47:45 & 2022-12-13 08:59:51 & Sangamon St \\& Lake St         & St. Clair St \\& Erie St        & member &  8 &  8 & 12 & 3 & 12.100000 mins & 0.20166667 hours & 0.008402778 days\\\\\n",
       "\t 54C5775D2B7C9188 & classic\\_bike  & 2022-12-13 18:50:47 & 2022-12-13 19:19:48 & Shields Ave \\& 31st St         & Damen Ave \\& Madison St        & member & 18 & 19 & 12 & 3 & 29.016667 mins & 0.48361111 hours & 0.020150463 days\\\\\n",
       "\t A4891F78776D35DF & classic\\_bike  & 2022-12-14 16:13:39 & 2022-12-14 16:27:50 & Ashland Ave \\& Chicago Ave     & Damen Ave \\& Charleston St     & casual & 16 & 16 & 12 & 4 & 14.183333 mins & 0.23638889 hours & 0.009849537 days\\\\\n",
       "\t DB91D9B8DFACA07A & electric\\_bike & 2022-12-02 15:24:47 & 2022-12-02 15:34:14 & Wabash Ave \\& 9th St           & Wacker Dr \\& Washington St     & member & 15 & 15 & 12 & 6 &  9.450000 mins & 0.15750000 hours & 0.006562500 days\\\\\n",
       "\t 6AD396C5760CC992 & classic\\_bike  & 2022-12-20 09:02:03 & 2022-12-20 09:19:54 & Leavitt St \\& Chicago Ave      & Wacker Dr \\& Washington St     & member &  9 &  9 & 12 & 3 & 17.850000 mins & 0.29750000 hours & 0.012395833 days\\\\\n",
       "\t 8D736E35E0075504 & classic\\_bike  & 2022-12-13 14:19:49 & 2022-12-13 14:28:28 & Humboldt Blvd \\& Armitage Ave  & Spaulding Ave \\& Armitage Ave  & member & 14 & 14 & 12 & 3 &  8.650000 mins & 0.14416667 hours & 0.006006944 days\\\\\n",
       "\t DDAB881F96C51DC8 & classic\\_bike  & 2022-12-13 07:38:07 & 2022-12-13 07:57:01 & Canal St \\& Adams St           & St. Clair St \\& Erie St        & member &  7 &  7 & 12 & 3 & 18.900000 mins & 0.31500000 hours & 0.013125000 days\\\\\n",
       "\t 8DDBAE51E55DAEEF & classic\\_bike  & 2022-12-21 08:57:42 & 2022-12-21 09:10:59 & Greenview Ave \\& Fullerton Ave & Southport Ave \\& Waveland Ave  & member &  8 &  9 & 12 & 4 & 13.283333 mins & 0.22138889 hours & 0.009224537 days\\\\\n",
       "\t 37BCF0C0B553F0A1 & classic\\_bike  & 2022-12-12 17:56:26 & 2022-12-12 18:02:41 & Canal St \\& Adams St           & Sangamon St \\& Washington Blvd & member & 17 & 18 & 12 & 2 &  6.250000 mins & 0.10416667 hours & 0.004340278 days\\\\\n",
       "\t 1B133362A3F86A2C & classic\\_bike  & 2022-12-06 17:07:34 & 2022-12-06 17:14:22 & Canal St \\& Adams St           & Sangamon St \\& Washington Blvd & member & 17 & 17 & 12 & 3 &  6.800000 mins & 0.11333333 hours & 0.004722222 days\\\\\n",
       "\t DF0DC4C1FF01E3EF & classic\\_bike  & 2022-12-29 17:46:08 & 2022-12-29 17:52:34 & Canal St \\& Adams St           & Sangamon St \\& Washington Blvd & member & 17 & 17 & 12 & 5 &  6.433333 mins & 0.10722222 hours & 0.004467593 days\\\\\n",
       "\t 0D58B8FC23315D59 & classic\\_bike  & 2022-12-01 21:38:56 & 2022-12-01 21:46:05 & Canal St \\& Adams St           & Sangamon St \\& Washington Blvd & member & 21 & 21 & 12 & 5 &  7.150000 mins & 0.11916667 hours & 0.004965278 days\\\\\n",
       "\t 462D7A9C0323B0C9 & classic\\_bike  & 2022-12-03 15:52:58 & 2022-12-03 15:56:26 & Humboldt Blvd \\& Armitage Ave  & Spaulding Ave \\& Armitage Ave  & member & 15 & 15 & 12 & 7 &  3.466667 mins & 0.05777778 hours & 0.002407407 days\\\\\n",
       "\t 9F827DE27022F311 & electric\\_bike & 2022-12-01 07:08:13 & 2022-12-01 07:18:04 & Ashland Ave \\& Chicago Ave     & Wacker Dr \\& Washington St     & member &  7 &  7 & 12 & 5 &  9.850000 mins & 0.16416667 hours & 0.006840278 days\\\\\n",
       "\t 58E5482C771A98BE & classic\\_bike  & 2022-12-28 22:01:54 & 2022-12-28 22:11:05 & Broadway \\& Belmont Ave        & Southport Ave \\& Waveland Ave  & member & 22 & 22 & 12 & 4 &  9.183333 mins & 0.15305556 hours & 0.006377315 days\\\\\n",
       "\t 46FD5C26A4020ED1 & classic\\_bike  & 2022-12-19 11:28:51 & 2022-12-19 11:52:48 & Sedgwick St \\& North Ave       & St. Clair St \\& Erie St        & member & 11 & 11 & 12 & 2 & 23.950000 mins & 0.39916667 hours & 0.016631944 days\\\\\n",
       "\t F27780BD0F2E0C01 & classic\\_bike  & 2022-12-21 16:51:20 & 2022-12-21 17:00:14 & Malcolm X College             & Sangamon St \\& Washington Blvd & member & 16 & 17 & 12 & 4 &  8.900000 mins & 0.14833333 hours & 0.006180556 days\\\\\n",
       "\t 995F741523A9DEAD & classic\\_bike  & 2022-12-26 10:46:06 & 2022-12-26 11:12:30 & Ashland Ave \\& Chicago Ave     & St. Clair St \\& Erie St        & member & 10 & 11 & 12 & 2 & 26.400000 mins & 0.44000000 hours & 0.018333333 days\\\\\n",
       "\t FF9A7FC5BCB6D029 & electric\\_bike & 2022-12-01 09:14:39 & 2022-12-01 09:26:56 & Sedgwick St \\& North Ave       & Wacker Dr \\& Washington St     & member &  9 &  9 & 12 & 5 & 12.283333 mins & 0.20472222 hours & 0.008530093 days\\\\\n",
       "\t 1B2898656A62F1FB & electric\\_bike & 2022-12-10 21:47:52 & 2022-12-10 22:07:02 & Clifton Ave \\& Armitage Ave    & Spaulding Ave \\& Armitage Ave  & casual & 21 & 22 & 12 & 7 & 19.166667 mins & 0.31944444 hours & 0.013310185 days\\\\\n",
       "\t A332DD20175E907E & classic\\_bike  & 2022-12-03 08:49:51 & 2022-12-03 09:05:16 & Broadway \\& Belmont Ave        & Southport Ave \\& Waveland Ave  & casual &  8 &  9 & 12 & 7 & 15.416667 mins & 0.25694444 hours & 0.010706019 days\\\\\n",
       "\t 37D27BD10A147058 & classic\\_bike  & 2022-12-13 06:55:00 & 2022-12-13 07:00:18 & Sangamon St \\& Lake St         & Wacker Dr \\& Washington St     & member &  6 &  7 & 12 & 3 &  5.300000 mins & 0.08833333 hours & 0.003680556 days\\\\\n",
       "\t 3945E996AE3304B8 & electric\\_bike & 2022-12-09 00:03:47 & 2022-12-09 00:15:03 & Sedgwick St \\& North Ave       & Southport Ave \\& Waveland Ave  & member &  0 &  0 & 12 & 6 & 11.266667 mins & 0.18777778 hours & 0.007824074 days\\\\\n",
       "\t 221B0D4EBCF9D710 & electric\\_bike & 2022-12-30 14:07:17 & 2022-12-30 14:15:19 & Broadway \\& Belmont Ave        & Southport Ave \\& Waveland Ave  & member & 14 & 14 & 12 & 6 &  8.033333 mins & 0.13388889 hours & 0.005578704 days\\\\\n",
       "\t 5756E0DF84CEF779 & classic\\_bike  & 2022-12-06 09:20:21 & 2022-12-06 09:34:17 & Sedgwick St \\& North Ave       & Wacker Dr \\& Washington St     & member &  9 &  9 & 12 & 3 & 13.933333 mins & 0.23222222 hours & 0.009675926 days\\\\\n",
       "\t B9645D9F60BFD279 & classic\\_bike  & 2022-12-13 08:45:54 & 2022-12-13 09:00:19 & Sedgwick St \\& North Ave       & Wacker Dr \\& Washington St     & member &  8 &  9 & 12 & 3 & 14.416667 mins & 0.24027778 hours & 0.010011574 days\\\\\n",
       "\t D5E154DDC4146EFC & electric\\_bike & 2022-12-03 09:09:55 & 2022-12-03 09:19:20 & Ashland Ave \\& Chicago Ave     & Wacker Dr \\& Washington St     & member &  9 &  9 & 12 & 7 &  9.416667 mins & 0.15694444 hours & 0.006539352 days\\\\\n",
       "\t 7D451A9C489FE4D2 & classic\\_bike  & 2022-12-10 09:49:06 & 2022-12-10 10:19:17 & Broadway \\& Belmont Ave        & St. Clair St \\& Erie St        & member &  9 & 10 & 12 & 7 & 30.183333 mins & 0.50305556 hours & 0.020960648 days\\\\\n",
       "\t ⋮ & ⋮ & ⋮ & ⋮ & ⋮ & ⋮ & ⋮ & ⋮ & ⋮ & ⋮ & ⋮ & ⋮ & ⋮ & ⋮\\\\\n",
       "\t 220E8DE61050FCF9 & classic\\_bike  & 2022-05-26 23:38:33 & 2022-05-26 23:44:58 & California Ave \\& Milwaukee Ave & California Ave \\& Milwaukee Ave & casual & 23 & 23 & 5 & 5 &   6.416667 mins & 0.10694444 hours & 0.004456019 days\\\\\n",
       "\t D706A1DE6C03DB04 & electric\\_bike & 2022-05-27 17:06:03 & 2022-05-27 18:57:45 & Morgan Ave \\& 14th Pl           & Morgan Ave \\& 14th Pl           & casual & 17 & 18 & 5 & 6 & 111.700000 mins & 1.86166667 hours & 0.077569444 days\\\\\n",
       "\t 7953BED74D928F6C & classic\\_bike  & 2022-05-10 19:50:58 & 2022-05-10 20:01:19 & California Ave \\& Division St   & California Ave \\& Milwaukee Ave & member & 19 & 20 & 5 & 3 &  10.350000 mins & 0.17250000 hours & 0.007187500 days\\\\\n",
       "\t 100BF694B077C1A6 & classic\\_bike  & 2022-05-10 16:16:28 & 2022-05-10 16:42:16 & Sangamon St \\& Washington Blvd  & Morgan Ave \\& 14th Pl           & casual & 16 & 16 & 5 & 3 &  25.800000 mins & 0.43000000 hours & 0.017916667 days\\\\\n",
       "\t 8D470810816DC6A7 & electric\\_bike & 2022-05-28 14:58:59 & 2022-05-28 15:04:15 & Spaulding Ave \\& Armitage Ave   & California Ave \\& Milwaukee Ave & casual & 14 & 15 & 5 & 7 &   5.266667 mins & 0.08777778 hours & 0.003657407 days\\\\\n",
       "\t 6BCBA0ED112CEFFA & docked\\_bike   & 2022-05-21 17:51:47 & 2022-05-21 18:05:40 & Kosciuszko Park                & California Ave \\& Milwaukee Ave & casual & 17 & 18 & 5 & 7 &  13.883333 mins & 0.23138889 hours & 0.009641204 days\\\\\n",
       "\t 306F1463853F46C3 & electric\\_bike & 2022-05-29 19:56:36 & 2022-05-29 20:00:36 & Kedzie Ave \\& Milwaukee Ave     & California Ave \\& Milwaukee Ave & casual & 19 & 20 & 5 & 1 &   4.000000 mins & 0.06666667 hours & 0.002777778 days\\\\\n",
       "\t 9A51A340401243B1 & classic\\_bike  & 2022-05-30 00:45:31 & 2022-05-30 01:29:46 & Kedzie Ave \\& Milwaukee Ave     & California Ave \\& Milwaukee Ave & casual &  0 &  1 & 5 & 2 &  44.250000 mins & 0.73750000 hours & 0.030729167 days\\\\\n",
       "\t BD7347750E3472A7 & classic\\_bike  & 2022-05-30 00:45:13 & 2022-05-30 01:29:35 & Kedzie Ave \\& Milwaukee Ave     & California Ave \\& Milwaukee Ave & casual &  0 &  1 & 5 & 2 &  44.366667 mins & 0.73944444 hours & 0.030810185 days\\\\\n",
       "\t B8B21AC3E01BDA4E & electric\\_bike & 2022-05-14 17:24:40 & 2022-05-14 17:46:55 & Christiana Ave \\& Lawrence Ave  & California Ave \\& Division St   & casual & 17 & 17 & 5 & 7 &  22.250000 mins & 0.37083333 hours & 0.015451389 days\\\\\n",
       "\t 2817DB972921DF66 & electric\\_bike & 2022-05-22 15:16:12 & 2022-05-22 15:38:00 & Morgan Ave \\& 14th Pl           & Morgan Ave \\& 14th Pl           & member & 15 & 15 & 5 & 1 &  21.800000 mins & 0.36333333 hours & 0.015138889 days\\\\\n",
       "\t 3E76D54D2FA65FAD & electric\\_bike & 2022-05-13 11:09:04 & 2022-05-13 11:16:48 & Kenosha \\& Wellington           & Kenosha \\& Wellington           & casual & 11 & 11 & 5 & 6 &   7.733333 mins & 0.12888889 hours & 0.005370370 days\\\\\n",
       "\t 1251D162A5856C84 & classic\\_bike  & 2022-05-20 19:48:58 & 2022-05-20 19:58:41 & California Ave \\& Milwaukee Ave & California Ave \\& Division St   & casual & 19 & 19 & 5 & 6 &   9.716667 mins & 0.16194444 hours & 0.006747685 days\\\\\n",
       "\t 2502827402D7BEFC & electric\\_bike & 2022-05-30 20:46:16 & 2022-05-30 20:57:40 & California Ave \\& Milwaukee Ave & California Ave \\& Division St   & casual & 20 & 20 & 5 & 2 &  11.400000 mins & 0.19000000 hours & 0.007916667 days\\\\\n",
       "\t A3FC429B2A65B9EC & electric\\_bike & 2022-05-17 13:00:23 & 2022-05-17 13:24:50 & California Ave \\& Milwaukee Ave & California Ave \\& Milwaukee Ave & casual & 13 & 13 & 5 & 3 &  24.450000 mins & 0.40750000 hours & 0.016979167 days\\\\\n",
       "\t C7E0CD0BAF730094 & classic\\_bike  & 2022-05-10 18:41:39 & 2022-05-10 18:56:51 & Federal St \\& Polk St           & Morgan Ave \\& 14th Pl           & member & 18 & 18 & 5 & 3 &  15.200000 mins & 0.25333333 hours & 0.010555556 days\\\\\n",
       "\t EF57CA0661167C2D & docked\\_bike   & 2022-05-16 19:08:10 & 2022-05-16 19:19:41 & California Ave \\& Milwaukee Ave & California Ave \\& Division St   & casual & 19 & 19 & 5 & 2 &  11.516667 mins & 0.19194444 hours & 0.007997685 days\\\\\n",
       "\t C10AF5F688813C5B & classic\\_bike  & 2022-05-10 19:40:25 & 2022-05-10 19:44:20 & Campbell Ave \\& Montrose Ave    & Campbell Ave \\& Montrose Ave    & member & 19 & 19 & 5 & 3 &   3.916667 mins & 0.06527778 hours & 0.002719907 days\\\\\n",
       "\t 5020E651786CC694 & electric\\_bike & 2022-05-13 20:08:21 & 2022-05-13 20:22:53 & Orange \\& Addison               & Orange \\& Addison               & casual & 20 & 20 & 5 & 6 &  14.533333 mins & 0.24222222 hours & 0.010092593 days\\\\\n",
       "\t 6D22B539D463056D & classic\\_bike  & 2022-05-31 14:03:21 & 2022-05-31 14:31:34 & California Ave \\& Milwaukee Ave & California Ave \\& Milwaukee Ave & casual & 14 & 14 & 5 & 3 &  28.216667 mins & 0.47027778 hours & 0.019594907 days\\\\\n",
       "\t 8A56951F3A8665DE & electric\\_bike & 2022-05-01 17:33:59 & 2022-05-01 17:37:15 & California Ave \\& Milwaukee Ave & California Ave \\& Milwaukee Ave & casual & 17 & 17 & 5 & 1 &   3.266667 mins & 0.05444444 hours & 0.002268519 days\\\\\n",
       "\t 32AB4F449B4F8184 & electric\\_bike & 2022-05-30 21:53:35 & 2022-05-30 22:12:04 & Orange \\& Addison               & Orange \\& Addison               & casual & 21 & 22 & 5 & 2 &  18.483333 mins & 0.30805556 hours & 0.012835648 days\\\\\n",
       "\t CFA628793A8E1A43 & electric\\_bike & 2022-05-11 09:18:40 & 2022-05-11 09:46:51 & Orange \\& Addison               & Orange \\& Addison               & casual &  9 &  9 & 5 & 4 &  28.183333 mins & 0.46972222 hours & 0.019571759 days\\\\\n",
       "\t 317758B0C5D6432D & electric\\_bike & 2022-05-11 17:59:42 & 2022-05-11 18:06:10 & California Ave \\& Division St   & California Ave \\& Milwaukee Ave & casual & 17 & 18 & 5 & 4 &   6.466667 mins & 0.10777778 hours & 0.004490741 days\\\\\n",
       "\t 7FD953DDF58DE718 & classic\\_bike  & 2022-05-08 12:43:59 & 2022-05-08 13:10:26 & California Ave \\& Division St   & California Ave \\& Division St   & member & 12 & 13 & 5 & 1 &  26.450000 mins & 0.44083333 hours & 0.018368056 days\\\\\n",
       "\t 2751A20F087A39B5 & docked\\_bike   & 2022-05-16 10:44:42 & 2022-05-16 14:48:47 & Campbell Ave \\& Montrose Ave    & Campbell Ave \\& Montrose Ave    & casual & 10 & 14 & 5 & 2 & 244.083333 mins & 4.06805556 hours & 0.169502315 days\\\\\n",
       "\t 9A2B15F389585725 & classic\\_bike  & 2022-05-18 16:30:26 & 2022-05-18 16:41:16 & Wood St \\& Chicago Ave          & Wood St \\& Chicago Ave          & member & 16 & 16 & 5 & 4 &  10.833333 mins & 0.18055556 hours & 0.007523148 days\\\\\n",
       "\t 3E1663D37D8AB75A & classic\\_bike  & 2022-05-08 13:28:53 & 2022-05-08 14:35:23 & California Ave \\& Division St   & Wood St \\& Chicago Ave          & casual & 13 & 14 & 5 & 1 &  66.500000 mins & 1.10833333 hours & 0.046180556 days\\\\\n",
       "\t 73B9BC566EF662F4 & classic\\_bike  & 2022-05-06 18:52:52 & 2022-05-06 19:27:02 & Campbell Ave \\& Montrose Ave    & Campbell Ave \\& Montrose Ave    & member & 18 & 19 & 5 & 6 &  34.166667 mins & 0.56944444 hours & 0.023726852 days\\\\\n",
       "\t 1E6E84511515C736 & classic\\_bike  & 2022-05-30 20:57:52 & 2022-05-30 21:16:11 & California Ave \\& Milwaukee Ave & California Ave \\& Milwaukee Ave & member & 20 & 21 & 5 & 2 &  18.316667 mins & 0.30527778 hours & 0.012719907 days\\\\\n",
       "\\end{tabular}\n"
      ],
      "text/markdown": [
       "\n",
       "A tibble: 4370222 × 14\n",
       "\n",
       "| ride_id &lt;chr&gt; | bike_type &lt;chr&gt; | started_at &lt;dttm&gt; | ended_at &lt;dttm&gt; | start_station_name &lt;chr&gt; | end_station_name &lt;chr&gt; | customer_type &lt;chr&gt; | start_hour &lt;int&gt; | end_hour &lt;int&gt; | month &lt;int&gt; | day_of_week &lt;int&gt; | ride_length &lt;drtn&gt; | ride_length_hour &lt;drtn&gt; | ride_length_day &lt;drtn&gt; |\n",
       "|---|---|---|---|---|---|---|---|---|---|---|---|---|---|\n",
       "| 65DBD2F447EC51C2 | electric_bike | 2022-12-05 10:47:18 | 2022-12-05 10:56:34 | Clifton Ave &amp; Armitage Ave    | Sedgwick St &amp; Webster Ave     | member | 10 | 10 | 12 | 2 |  9.266667 mins | 0.15444444 hours | 0.006435185 days |\n",
       "| 0C201AA7EA0EA1AD | classic_bike  | 2022-12-18 06:42:33 | 2022-12-18 07:08:44 | Broadway &amp; Belmont Ave        | Sedgwick St &amp; Webster Ave     | casual |  6 |  7 | 12 | 1 | 26.183333 mins | 0.43638889 hours | 0.018182870 days |\n",
       "| E0B148CCB358A49D | electric_bike | 2022-12-13 08:47:45 | 2022-12-13 08:59:51 | Sangamon St &amp; Lake St         | St. Clair St &amp; Erie St        | member |  8 |  8 | 12 | 3 | 12.100000 mins | 0.20166667 hours | 0.008402778 days |\n",
       "| 54C5775D2B7C9188 | classic_bike  | 2022-12-13 18:50:47 | 2022-12-13 19:19:48 | Shields Ave &amp; 31st St         | Damen Ave &amp; Madison St        | member | 18 | 19 | 12 | 3 | 29.016667 mins | 0.48361111 hours | 0.020150463 days |\n",
       "| A4891F78776D35DF | classic_bike  | 2022-12-14 16:13:39 | 2022-12-14 16:27:50 | Ashland Ave &amp; Chicago Ave     | Damen Ave &amp; Charleston St     | casual | 16 | 16 | 12 | 4 | 14.183333 mins | 0.23638889 hours | 0.009849537 days |\n",
       "| DB91D9B8DFACA07A | electric_bike | 2022-12-02 15:24:47 | 2022-12-02 15:34:14 | Wabash Ave &amp; 9th St           | Wacker Dr &amp; Washington St     | member | 15 | 15 | 12 | 6 |  9.450000 mins | 0.15750000 hours | 0.006562500 days |\n",
       "| 6AD396C5760CC992 | classic_bike  | 2022-12-20 09:02:03 | 2022-12-20 09:19:54 | Leavitt St &amp; Chicago Ave      | Wacker Dr &amp; Washington St     | member |  9 |  9 | 12 | 3 | 17.850000 mins | 0.29750000 hours | 0.012395833 days |\n",
       "| 8D736E35E0075504 | classic_bike  | 2022-12-13 14:19:49 | 2022-12-13 14:28:28 | Humboldt Blvd &amp; Armitage Ave  | Spaulding Ave &amp; Armitage Ave  | member | 14 | 14 | 12 | 3 |  8.650000 mins | 0.14416667 hours | 0.006006944 days |\n",
       "| DDAB881F96C51DC8 | classic_bike  | 2022-12-13 07:38:07 | 2022-12-13 07:57:01 | Canal St &amp; Adams St           | St. Clair St &amp; Erie St        | member |  7 |  7 | 12 | 3 | 18.900000 mins | 0.31500000 hours | 0.013125000 days |\n",
       "| 8DDBAE51E55DAEEF | classic_bike  | 2022-12-21 08:57:42 | 2022-12-21 09:10:59 | Greenview Ave &amp; Fullerton Ave | Southport Ave &amp; Waveland Ave  | member |  8 |  9 | 12 | 4 | 13.283333 mins | 0.22138889 hours | 0.009224537 days |\n",
       "| 37BCF0C0B553F0A1 | classic_bike  | 2022-12-12 17:56:26 | 2022-12-12 18:02:41 | Canal St &amp; Adams St           | Sangamon St &amp; Washington Blvd | member | 17 | 18 | 12 | 2 |  6.250000 mins | 0.10416667 hours | 0.004340278 days |\n",
       "| 1B133362A3F86A2C | classic_bike  | 2022-12-06 17:07:34 | 2022-12-06 17:14:22 | Canal St &amp; Adams St           | Sangamon St &amp; Washington Blvd | member | 17 | 17 | 12 | 3 |  6.800000 mins | 0.11333333 hours | 0.004722222 days |\n",
       "| DF0DC4C1FF01E3EF | classic_bike  | 2022-12-29 17:46:08 | 2022-12-29 17:52:34 | Canal St &amp; Adams St           | Sangamon St &amp; Washington Blvd | member | 17 | 17 | 12 | 5 |  6.433333 mins | 0.10722222 hours | 0.004467593 days |\n",
       "| 0D58B8FC23315D59 | classic_bike  | 2022-12-01 21:38:56 | 2022-12-01 21:46:05 | Canal St &amp; Adams St           | Sangamon St &amp; Washington Blvd | member | 21 | 21 | 12 | 5 |  7.150000 mins | 0.11916667 hours | 0.004965278 days |\n",
       "| 462D7A9C0323B0C9 | classic_bike  | 2022-12-03 15:52:58 | 2022-12-03 15:56:26 | Humboldt Blvd &amp; Armitage Ave  | Spaulding Ave &amp; Armitage Ave  | member | 15 | 15 | 12 | 7 |  3.466667 mins | 0.05777778 hours | 0.002407407 days |\n",
       "| 9F827DE27022F311 | electric_bike | 2022-12-01 07:08:13 | 2022-12-01 07:18:04 | Ashland Ave &amp; Chicago Ave     | Wacker Dr &amp; Washington St     | member |  7 |  7 | 12 | 5 |  9.850000 mins | 0.16416667 hours | 0.006840278 days |\n",
       "| 58E5482C771A98BE | classic_bike  | 2022-12-28 22:01:54 | 2022-12-28 22:11:05 | Broadway &amp; Belmont Ave        | Southport Ave &amp; Waveland Ave  | member | 22 | 22 | 12 | 4 |  9.183333 mins | 0.15305556 hours | 0.006377315 days |\n",
       "| 46FD5C26A4020ED1 | classic_bike  | 2022-12-19 11:28:51 | 2022-12-19 11:52:48 | Sedgwick St &amp; North Ave       | St. Clair St &amp; Erie St        | member | 11 | 11 | 12 | 2 | 23.950000 mins | 0.39916667 hours | 0.016631944 days |\n",
       "| F27780BD0F2E0C01 | classic_bike  | 2022-12-21 16:51:20 | 2022-12-21 17:00:14 | Malcolm X College             | Sangamon St &amp; Washington Blvd | member | 16 | 17 | 12 | 4 |  8.900000 mins | 0.14833333 hours | 0.006180556 days |\n",
       "| 995F741523A9DEAD | classic_bike  | 2022-12-26 10:46:06 | 2022-12-26 11:12:30 | Ashland Ave &amp; Chicago Ave     | St. Clair St &amp; Erie St        | member | 10 | 11 | 12 | 2 | 26.400000 mins | 0.44000000 hours | 0.018333333 days |\n",
       "| FF9A7FC5BCB6D029 | electric_bike | 2022-12-01 09:14:39 | 2022-12-01 09:26:56 | Sedgwick St &amp; North Ave       | Wacker Dr &amp; Washington St     | member |  9 |  9 | 12 | 5 | 12.283333 mins | 0.20472222 hours | 0.008530093 days |\n",
       "| 1B2898656A62F1FB | electric_bike | 2022-12-10 21:47:52 | 2022-12-10 22:07:02 | Clifton Ave &amp; Armitage Ave    | Spaulding Ave &amp; Armitage Ave  | casual | 21 | 22 | 12 | 7 | 19.166667 mins | 0.31944444 hours | 0.013310185 days |\n",
       "| A332DD20175E907E | classic_bike  | 2022-12-03 08:49:51 | 2022-12-03 09:05:16 | Broadway &amp; Belmont Ave        | Southport Ave &amp; Waveland Ave  | casual |  8 |  9 | 12 | 7 | 15.416667 mins | 0.25694444 hours | 0.010706019 days |\n",
       "| 37D27BD10A147058 | classic_bike  | 2022-12-13 06:55:00 | 2022-12-13 07:00:18 | Sangamon St &amp; Lake St         | Wacker Dr &amp; Washington St     | member |  6 |  7 | 12 | 3 |  5.300000 mins | 0.08833333 hours | 0.003680556 days |\n",
       "| 3945E996AE3304B8 | electric_bike | 2022-12-09 00:03:47 | 2022-12-09 00:15:03 | Sedgwick St &amp; North Ave       | Southport Ave &amp; Waveland Ave  | member |  0 |  0 | 12 | 6 | 11.266667 mins | 0.18777778 hours | 0.007824074 days |\n",
       "| 221B0D4EBCF9D710 | electric_bike | 2022-12-30 14:07:17 | 2022-12-30 14:15:19 | Broadway &amp; Belmont Ave        | Southport Ave &amp; Waveland Ave  | member | 14 | 14 | 12 | 6 |  8.033333 mins | 0.13388889 hours | 0.005578704 days |\n",
       "| 5756E0DF84CEF779 | classic_bike  | 2022-12-06 09:20:21 | 2022-12-06 09:34:17 | Sedgwick St &amp; North Ave       | Wacker Dr &amp; Washington St     | member |  9 |  9 | 12 | 3 | 13.933333 mins | 0.23222222 hours | 0.009675926 days |\n",
       "| B9645D9F60BFD279 | classic_bike  | 2022-12-13 08:45:54 | 2022-12-13 09:00:19 | Sedgwick St &amp; North Ave       | Wacker Dr &amp; Washington St     | member |  8 |  9 | 12 | 3 | 14.416667 mins | 0.24027778 hours | 0.010011574 days |\n",
       "| D5E154DDC4146EFC | electric_bike | 2022-12-03 09:09:55 | 2022-12-03 09:19:20 | Ashland Ave &amp; Chicago Ave     | Wacker Dr &amp; Washington St     | member |  9 |  9 | 12 | 7 |  9.416667 mins | 0.15694444 hours | 0.006539352 days |\n",
       "| 7D451A9C489FE4D2 | classic_bike  | 2022-12-10 09:49:06 | 2022-12-10 10:19:17 | Broadway &amp; Belmont Ave        | St. Clair St &amp; Erie St        | member |  9 | 10 | 12 | 7 | 30.183333 mins | 0.50305556 hours | 0.020960648 days |\n",
       "| ⋮ | ⋮ | ⋮ | ⋮ | ⋮ | ⋮ | ⋮ | ⋮ | ⋮ | ⋮ | ⋮ | ⋮ | ⋮ | ⋮ |\n",
       "| 220E8DE61050FCF9 | classic_bike  | 2022-05-26 23:38:33 | 2022-05-26 23:44:58 | California Ave &amp; Milwaukee Ave | California Ave &amp; Milwaukee Ave | casual | 23 | 23 | 5 | 5 |   6.416667 mins | 0.10694444 hours | 0.004456019 days |\n",
       "| D706A1DE6C03DB04 | electric_bike | 2022-05-27 17:06:03 | 2022-05-27 18:57:45 | Morgan Ave &amp; 14th Pl           | Morgan Ave &amp; 14th Pl           | casual | 17 | 18 | 5 | 6 | 111.700000 mins | 1.86166667 hours | 0.077569444 days |\n",
       "| 7953BED74D928F6C | classic_bike  | 2022-05-10 19:50:58 | 2022-05-10 20:01:19 | California Ave &amp; Division St   | California Ave &amp; Milwaukee Ave | member | 19 | 20 | 5 | 3 |  10.350000 mins | 0.17250000 hours | 0.007187500 days |\n",
       "| 100BF694B077C1A6 | classic_bike  | 2022-05-10 16:16:28 | 2022-05-10 16:42:16 | Sangamon St &amp; Washington Blvd  | Morgan Ave &amp; 14th Pl           | casual | 16 | 16 | 5 | 3 |  25.800000 mins | 0.43000000 hours | 0.017916667 days |\n",
       "| 8D470810816DC6A7 | electric_bike | 2022-05-28 14:58:59 | 2022-05-28 15:04:15 | Spaulding Ave &amp; Armitage Ave   | California Ave &amp; Milwaukee Ave | casual | 14 | 15 | 5 | 7 |   5.266667 mins | 0.08777778 hours | 0.003657407 days |\n",
       "| 6BCBA0ED112CEFFA | docked_bike   | 2022-05-21 17:51:47 | 2022-05-21 18:05:40 | Kosciuszko Park                | California Ave &amp; Milwaukee Ave | casual | 17 | 18 | 5 | 7 |  13.883333 mins | 0.23138889 hours | 0.009641204 days |\n",
       "| 306F1463853F46C3 | electric_bike | 2022-05-29 19:56:36 | 2022-05-29 20:00:36 | Kedzie Ave &amp; Milwaukee Ave     | California Ave &amp; Milwaukee Ave | casual | 19 | 20 | 5 | 1 |   4.000000 mins | 0.06666667 hours | 0.002777778 days |\n",
       "| 9A51A340401243B1 | classic_bike  | 2022-05-30 00:45:31 | 2022-05-30 01:29:46 | Kedzie Ave &amp; Milwaukee Ave     | California Ave &amp; Milwaukee Ave | casual |  0 |  1 | 5 | 2 |  44.250000 mins | 0.73750000 hours | 0.030729167 days |\n",
       "| BD7347750E3472A7 | classic_bike  | 2022-05-30 00:45:13 | 2022-05-30 01:29:35 | Kedzie Ave &amp; Milwaukee Ave     | California Ave &amp; Milwaukee Ave | casual |  0 |  1 | 5 | 2 |  44.366667 mins | 0.73944444 hours | 0.030810185 days |\n",
       "| B8B21AC3E01BDA4E | electric_bike | 2022-05-14 17:24:40 | 2022-05-14 17:46:55 | Christiana Ave &amp; Lawrence Ave  | California Ave &amp; Division St   | casual | 17 | 17 | 5 | 7 |  22.250000 mins | 0.37083333 hours | 0.015451389 days |\n",
       "| 2817DB972921DF66 | electric_bike | 2022-05-22 15:16:12 | 2022-05-22 15:38:00 | Morgan Ave &amp; 14th Pl           | Morgan Ave &amp; 14th Pl           | member | 15 | 15 | 5 | 1 |  21.800000 mins | 0.36333333 hours | 0.015138889 days |\n",
       "| 3E76D54D2FA65FAD | electric_bike | 2022-05-13 11:09:04 | 2022-05-13 11:16:48 | Kenosha &amp; Wellington           | Kenosha &amp; Wellington           | casual | 11 | 11 | 5 | 6 |   7.733333 mins | 0.12888889 hours | 0.005370370 days |\n",
       "| 1251D162A5856C84 | classic_bike  | 2022-05-20 19:48:58 | 2022-05-20 19:58:41 | California Ave &amp; Milwaukee Ave | California Ave &amp; Division St   | casual | 19 | 19 | 5 | 6 |   9.716667 mins | 0.16194444 hours | 0.006747685 days |\n",
       "| 2502827402D7BEFC | electric_bike | 2022-05-30 20:46:16 | 2022-05-30 20:57:40 | California Ave &amp; Milwaukee Ave | California Ave &amp; Division St   | casual | 20 | 20 | 5 | 2 |  11.400000 mins | 0.19000000 hours | 0.007916667 days |\n",
       "| A3FC429B2A65B9EC | electric_bike | 2022-05-17 13:00:23 | 2022-05-17 13:24:50 | California Ave &amp; Milwaukee Ave | California Ave &amp; Milwaukee Ave | casual | 13 | 13 | 5 | 3 |  24.450000 mins | 0.40750000 hours | 0.016979167 days |\n",
       "| C7E0CD0BAF730094 | classic_bike  | 2022-05-10 18:41:39 | 2022-05-10 18:56:51 | Federal St &amp; Polk St           | Morgan Ave &amp; 14th Pl           | member | 18 | 18 | 5 | 3 |  15.200000 mins | 0.25333333 hours | 0.010555556 days |\n",
       "| EF57CA0661167C2D | docked_bike   | 2022-05-16 19:08:10 | 2022-05-16 19:19:41 | California Ave &amp; Milwaukee Ave | California Ave &amp; Division St   | casual | 19 | 19 | 5 | 2 |  11.516667 mins | 0.19194444 hours | 0.007997685 days |\n",
       "| C10AF5F688813C5B | classic_bike  | 2022-05-10 19:40:25 | 2022-05-10 19:44:20 | Campbell Ave &amp; Montrose Ave    | Campbell Ave &amp; Montrose Ave    | member | 19 | 19 | 5 | 3 |   3.916667 mins | 0.06527778 hours | 0.002719907 days |\n",
       "| 5020E651786CC694 | electric_bike | 2022-05-13 20:08:21 | 2022-05-13 20:22:53 | Orange &amp; Addison               | Orange &amp; Addison               | casual | 20 | 20 | 5 | 6 |  14.533333 mins | 0.24222222 hours | 0.010092593 days |\n",
       "| 6D22B539D463056D | classic_bike  | 2022-05-31 14:03:21 | 2022-05-31 14:31:34 | California Ave &amp; Milwaukee Ave | California Ave &amp; Milwaukee Ave | casual | 14 | 14 | 5 | 3 |  28.216667 mins | 0.47027778 hours | 0.019594907 days |\n",
       "| 8A56951F3A8665DE | electric_bike | 2022-05-01 17:33:59 | 2022-05-01 17:37:15 | California Ave &amp; Milwaukee Ave | California Ave &amp; Milwaukee Ave | casual | 17 | 17 | 5 | 1 |   3.266667 mins | 0.05444444 hours | 0.002268519 days |\n",
       "| 32AB4F449B4F8184 | electric_bike | 2022-05-30 21:53:35 | 2022-05-30 22:12:04 | Orange &amp; Addison               | Orange &amp; Addison               | casual | 21 | 22 | 5 | 2 |  18.483333 mins | 0.30805556 hours | 0.012835648 days |\n",
       "| CFA628793A8E1A43 | electric_bike | 2022-05-11 09:18:40 | 2022-05-11 09:46:51 | Orange &amp; Addison               | Orange &amp; Addison               | casual |  9 |  9 | 5 | 4 |  28.183333 mins | 0.46972222 hours | 0.019571759 days |\n",
       "| 317758B0C5D6432D | electric_bike | 2022-05-11 17:59:42 | 2022-05-11 18:06:10 | California Ave &amp; Division St   | California Ave &amp; Milwaukee Ave | casual | 17 | 18 | 5 | 4 |   6.466667 mins | 0.10777778 hours | 0.004490741 days |\n",
       "| 7FD953DDF58DE718 | classic_bike  | 2022-05-08 12:43:59 | 2022-05-08 13:10:26 | California Ave &amp; Division St   | California Ave &amp; Division St   | member | 12 | 13 | 5 | 1 |  26.450000 mins | 0.44083333 hours | 0.018368056 days |\n",
       "| 2751A20F087A39B5 | docked_bike   | 2022-05-16 10:44:42 | 2022-05-16 14:48:47 | Campbell Ave &amp; Montrose Ave    | Campbell Ave &amp; Montrose Ave    | casual | 10 | 14 | 5 | 2 | 244.083333 mins | 4.06805556 hours | 0.169502315 days |\n",
       "| 9A2B15F389585725 | classic_bike  | 2022-05-18 16:30:26 | 2022-05-18 16:41:16 | Wood St &amp; Chicago Ave          | Wood St &amp; Chicago Ave          | member | 16 | 16 | 5 | 4 |  10.833333 mins | 0.18055556 hours | 0.007523148 days |\n",
       "| 3E1663D37D8AB75A | classic_bike  | 2022-05-08 13:28:53 | 2022-05-08 14:35:23 | California Ave &amp; Division St   | Wood St &amp; Chicago Ave          | casual | 13 | 14 | 5 | 1 |  66.500000 mins | 1.10833333 hours | 0.046180556 days |\n",
       "| 73B9BC566EF662F4 | classic_bike  | 2022-05-06 18:52:52 | 2022-05-06 19:27:02 | Campbell Ave &amp; Montrose Ave    | Campbell Ave &amp; Montrose Ave    | member | 18 | 19 | 5 | 6 |  34.166667 mins | 0.56944444 hours | 0.023726852 days |\n",
       "| 1E6E84511515C736 | classic_bike  | 2022-05-30 20:57:52 | 2022-05-30 21:16:11 | California Ave &amp; Milwaukee Ave | California Ave &amp; Milwaukee Ave | member | 20 | 21 | 5 | 2 |  18.316667 mins | 0.30527778 hours | 0.012719907 days |\n",
       "\n"
      ],
      "text/plain": [
       "        ride_id          bike_type     started_at          ended_at           \n",
       "1       65DBD2F447EC51C2 electric_bike 2022-12-05 10:47:18 2022-12-05 10:56:34\n",
       "2       0C201AA7EA0EA1AD classic_bike  2022-12-18 06:42:33 2022-12-18 07:08:44\n",
       "3       E0B148CCB358A49D electric_bike 2022-12-13 08:47:45 2022-12-13 08:59:51\n",
       "4       54C5775D2B7C9188 classic_bike  2022-12-13 18:50:47 2022-12-13 19:19:48\n",
       "5       A4891F78776D35DF classic_bike  2022-12-14 16:13:39 2022-12-14 16:27:50\n",
       "6       DB91D9B8DFACA07A electric_bike 2022-12-02 15:24:47 2022-12-02 15:34:14\n",
       "7       6AD396C5760CC992 classic_bike  2022-12-20 09:02:03 2022-12-20 09:19:54\n",
       "8       8D736E35E0075504 classic_bike  2022-12-13 14:19:49 2022-12-13 14:28:28\n",
       "9       DDAB881F96C51DC8 classic_bike  2022-12-13 07:38:07 2022-12-13 07:57:01\n",
       "10      8DDBAE51E55DAEEF classic_bike  2022-12-21 08:57:42 2022-12-21 09:10:59\n",
       "11      37BCF0C0B553F0A1 classic_bike  2022-12-12 17:56:26 2022-12-12 18:02:41\n",
       "12      1B133362A3F86A2C classic_bike  2022-12-06 17:07:34 2022-12-06 17:14:22\n",
       "13      DF0DC4C1FF01E3EF classic_bike  2022-12-29 17:46:08 2022-12-29 17:52:34\n",
       "14      0D58B8FC23315D59 classic_bike  2022-12-01 21:38:56 2022-12-01 21:46:05\n",
       "15      462D7A9C0323B0C9 classic_bike  2022-12-03 15:52:58 2022-12-03 15:56:26\n",
       "16      9F827DE27022F311 electric_bike 2022-12-01 07:08:13 2022-12-01 07:18:04\n",
       "17      58E5482C771A98BE classic_bike  2022-12-28 22:01:54 2022-12-28 22:11:05\n",
       "18      46FD5C26A4020ED1 classic_bike  2022-12-19 11:28:51 2022-12-19 11:52:48\n",
       "19      F27780BD0F2E0C01 classic_bike  2022-12-21 16:51:20 2022-12-21 17:00:14\n",
       "20      995F741523A9DEAD classic_bike  2022-12-26 10:46:06 2022-12-26 11:12:30\n",
       "21      FF9A7FC5BCB6D029 electric_bike 2022-12-01 09:14:39 2022-12-01 09:26:56\n",
       "22      1B2898656A62F1FB electric_bike 2022-12-10 21:47:52 2022-12-10 22:07:02\n",
       "23      A332DD20175E907E classic_bike  2022-12-03 08:49:51 2022-12-03 09:05:16\n",
       "24      37D27BD10A147058 classic_bike  2022-12-13 06:55:00 2022-12-13 07:00:18\n",
       "25      3945E996AE3304B8 electric_bike 2022-12-09 00:03:47 2022-12-09 00:15:03\n",
       "26      221B0D4EBCF9D710 electric_bike 2022-12-30 14:07:17 2022-12-30 14:15:19\n",
       "27      5756E0DF84CEF779 classic_bike  2022-12-06 09:20:21 2022-12-06 09:34:17\n",
       "28      B9645D9F60BFD279 classic_bike  2022-12-13 08:45:54 2022-12-13 09:00:19\n",
       "29      D5E154DDC4146EFC electric_bike 2022-12-03 09:09:55 2022-12-03 09:19:20\n",
       "30      7D451A9C489FE4D2 classic_bike  2022-12-10 09:49:06 2022-12-10 10:19:17\n",
       "⋮       ⋮                ⋮             ⋮                   ⋮                  \n",
       "4370193 220E8DE61050FCF9 classic_bike  2022-05-26 23:38:33 2022-05-26 23:44:58\n",
       "4370194 D706A1DE6C03DB04 electric_bike 2022-05-27 17:06:03 2022-05-27 18:57:45\n",
       "4370195 7953BED74D928F6C classic_bike  2022-05-10 19:50:58 2022-05-10 20:01:19\n",
       "4370196 100BF694B077C1A6 classic_bike  2022-05-10 16:16:28 2022-05-10 16:42:16\n",
       "4370197 8D470810816DC6A7 electric_bike 2022-05-28 14:58:59 2022-05-28 15:04:15\n",
       "4370198 6BCBA0ED112CEFFA docked_bike   2022-05-21 17:51:47 2022-05-21 18:05:40\n",
       "4370199 306F1463853F46C3 electric_bike 2022-05-29 19:56:36 2022-05-29 20:00:36\n",
       "4370200 9A51A340401243B1 classic_bike  2022-05-30 00:45:31 2022-05-30 01:29:46\n",
       "4370201 BD7347750E3472A7 classic_bike  2022-05-30 00:45:13 2022-05-30 01:29:35\n",
       "4370202 B8B21AC3E01BDA4E electric_bike 2022-05-14 17:24:40 2022-05-14 17:46:55\n",
       "4370203 2817DB972921DF66 electric_bike 2022-05-22 15:16:12 2022-05-22 15:38:00\n",
       "4370204 3E76D54D2FA65FAD electric_bike 2022-05-13 11:09:04 2022-05-13 11:16:48\n",
       "4370205 1251D162A5856C84 classic_bike  2022-05-20 19:48:58 2022-05-20 19:58:41\n",
       "4370206 2502827402D7BEFC electric_bike 2022-05-30 20:46:16 2022-05-30 20:57:40\n",
       "4370207 A3FC429B2A65B9EC electric_bike 2022-05-17 13:00:23 2022-05-17 13:24:50\n",
       "4370208 C7E0CD0BAF730094 classic_bike  2022-05-10 18:41:39 2022-05-10 18:56:51\n",
       "4370209 EF57CA0661167C2D docked_bike   2022-05-16 19:08:10 2022-05-16 19:19:41\n",
       "4370210 C10AF5F688813C5B classic_bike  2022-05-10 19:40:25 2022-05-10 19:44:20\n",
       "4370211 5020E651786CC694 electric_bike 2022-05-13 20:08:21 2022-05-13 20:22:53\n",
       "4370212 6D22B539D463056D classic_bike  2022-05-31 14:03:21 2022-05-31 14:31:34\n",
       "4370213 8A56951F3A8665DE electric_bike 2022-05-01 17:33:59 2022-05-01 17:37:15\n",
       "4370214 32AB4F449B4F8184 electric_bike 2022-05-30 21:53:35 2022-05-30 22:12:04\n",
       "4370215 CFA628793A8E1A43 electric_bike 2022-05-11 09:18:40 2022-05-11 09:46:51\n",
       "4370216 317758B0C5D6432D electric_bike 2022-05-11 17:59:42 2022-05-11 18:06:10\n",
       "4370217 7FD953DDF58DE718 classic_bike  2022-05-08 12:43:59 2022-05-08 13:10:26\n",
       "4370218 2751A20F087A39B5 docked_bike   2022-05-16 10:44:42 2022-05-16 14:48:47\n",
       "4370219 9A2B15F389585725 classic_bike  2022-05-18 16:30:26 2022-05-18 16:41:16\n",
       "4370220 3E1663D37D8AB75A classic_bike  2022-05-08 13:28:53 2022-05-08 14:35:23\n",
       "4370221 73B9BC566EF662F4 classic_bike  2022-05-06 18:52:52 2022-05-06 19:27:02\n",
       "4370222 1E6E84511515C736 classic_bike  2022-05-30 20:57:52 2022-05-30 21:16:11\n",
       "        start_station_name             end_station_name              \n",
       "1       Clifton Ave & Armitage Ave     Sedgwick St & Webster Ave     \n",
       "2       Broadway & Belmont Ave         Sedgwick St & Webster Ave     \n",
       "3       Sangamon St & Lake St          St. Clair St & Erie St        \n",
       "4       Shields Ave & 31st St          Damen Ave & Madison St        \n",
       "5       Ashland Ave & Chicago Ave      Damen Ave & Charleston St     \n",
       "6       Wabash Ave & 9th St            Wacker Dr & Washington St     \n",
       "7       Leavitt St & Chicago Ave       Wacker Dr & Washington St     \n",
       "8       Humboldt Blvd & Armitage Ave   Spaulding Ave & Armitage Ave  \n",
       "9       Canal St & Adams St            St. Clair St & Erie St        \n",
       "10      Greenview Ave & Fullerton Ave  Southport Ave & Waveland Ave  \n",
       "11      Canal St & Adams St            Sangamon St & Washington Blvd \n",
       "12      Canal St & Adams St            Sangamon St & Washington Blvd \n",
       "13      Canal St & Adams St            Sangamon St & Washington Blvd \n",
       "14      Canal St & Adams St            Sangamon St & Washington Blvd \n",
       "15      Humboldt Blvd & Armitage Ave   Spaulding Ave & Armitage Ave  \n",
       "16      Ashland Ave & Chicago Ave      Wacker Dr & Washington St     \n",
       "17      Broadway & Belmont Ave         Southport Ave & Waveland Ave  \n",
       "18      Sedgwick St & North Ave        St. Clair St & Erie St        \n",
       "19      Malcolm X College              Sangamon St & Washington Blvd \n",
       "20      Ashland Ave & Chicago Ave      St. Clair St & Erie St        \n",
       "21      Sedgwick St & North Ave        Wacker Dr & Washington St     \n",
       "22      Clifton Ave & Armitage Ave     Spaulding Ave & Armitage Ave  \n",
       "23      Broadway & Belmont Ave         Southport Ave & Waveland Ave  \n",
       "24      Sangamon St & Lake St          Wacker Dr & Washington St     \n",
       "25      Sedgwick St & North Ave        Southport Ave & Waveland Ave  \n",
       "26      Broadway & Belmont Ave         Southport Ave & Waveland Ave  \n",
       "27      Sedgwick St & North Ave        Wacker Dr & Washington St     \n",
       "28      Sedgwick St & North Ave        Wacker Dr & Washington St     \n",
       "29      Ashland Ave & Chicago Ave      Wacker Dr & Washington St     \n",
       "30      Broadway & Belmont Ave         St. Clair St & Erie St        \n",
       "⋮       ⋮                              ⋮                             \n",
       "4370193 California Ave & Milwaukee Ave California Ave & Milwaukee Ave\n",
       "4370194 Morgan Ave & 14th Pl           Morgan Ave & 14th Pl          \n",
       "4370195 California Ave & Division St   California Ave & Milwaukee Ave\n",
       "4370196 Sangamon St & Washington Blvd  Morgan Ave & 14th Pl          \n",
       "4370197 Spaulding Ave & Armitage Ave   California Ave & Milwaukee Ave\n",
       "4370198 Kosciuszko Park                California Ave & Milwaukee Ave\n",
       "4370199 Kedzie Ave & Milwaukee Ave     California Ave & Milwaukee Ave\n",
       "4370200 Kedzie Ave & Milwaukee Ave     California Ave & Milwaukee Ave\n",
       "4370201 Kedzie Ave & Milwaukee Ave     California Ave & Milwaukee Ave\n",
       "4370202 Christiana Ave & Lawrence Ave  California Ave & Division St  \n",
       "4370203 Morgan Ave & 14th Pl           Morgan Ave & 14th Pl          \n",
       "4370204 Kenosha & Wellington           Kenosha & Wellington          \n",
       "4370205 California Ave & Milwaukee Ave California Ave & Division St  \n",
       "4370206 California Ave & Milwaukee Ave California Ave & Division St  \n",
       "4370207 California Ave & Milwaukee Ave California Ave & Milwaukee Ave\n",
       "4370208 Federal St & Polk St           Morgan Ave & 14th Pl          \n",
       "4370209 California Ave & Milwaukee Ave California Ave & Division St  \n",
       "4370210 Campbell Ave & Montrose Ave    Campbell Ave & Montrose Ave   \n",
       "4370211 Orange & Addison               Orange & Addison              \n",
       "4370212 California Ave & Milwaukee Ave California Ave & Milwaukee Ave\n",
       "4370213 California Ave & Milwaukee Ave California Ave & Milwaukee Ave\n",
       "4370214 Orange & Addison               Orange & Addison              \n",
       "4370215 Orange & Addison               Orange & Addison              \n",
       "4370216 California Ave & Division St   California Ave & Milwaukee Ave\n",
       "4370217 California Ave & Division St   California Ave & Division St  \n",
       "4370218 Campbell Ave & Montrose Ave    Campbell Ave & Montrose Ave   \n",
       "4370219 Wood St & Chicago Ave          Wood St & Chicago Ave         \n",
       "4370220 California Ave & Division St   Wood St & Chicago Ave         \n",
       "4370221 Campbell Ave & Montrose Ave    Campbell Ave & Montrose Ave   \n",
       "4370222 California Ave & Milwaukee Ave California Ave & Milwaukee Ave\n",
       "        customer_type start_hour end_hour month day_of_week ride_length    \n",
       "1       member        10         10       12    2            9.266667 mins \n",
       "2       casual         6          7       12    1           26.183333 mins \n",
       "3       member         8          8       12    3           12.100000 mins \n",
       "4       member        18         19       12    3           29.016667 mins \n",
       "5       casual        16         16       12    4           14.183333 mins \n",
       "6       member        15         15       12    6            9.450000 mins \n",
       "7       member         9          9       12    3           17.850000 mins \n",
       "8       member        14         14       12    3            8.650000 mins \n",
       "9       member         7          7       12    3           18.900000 mins \n",
       "10      member         8          9       12    4           13.283333 mins \n",
       "11      member        17         18       12    2            6.250000 mins \n",
       "12      member        17         17       12    3            6.800000 mins \n",
       "13      member        17         17       12    5            6.433333 mins \n",
       "14      member        21         21       12    5            7.150000 mins \n",
       "15      member        15         15       12    7            3.466667 mins \n",
       "16      member         7          7       12    5            9.850000 mins \n",
       "17      member        22         22       12    4            9.183333 mins \n",
       "18      member        11         11       12    2           23.950000 mins \n",
       "19      member        16         17       12    4            8.900000 mins \n",
       "20      member        10         11       12    2           26.400000 mins \n",
       "21      member         9          9       12    5           12.283333 mins \n",
       "22      casual        21         22       12    7           19.166667 mins \n",
       "23      casual         8          9       12    7           15.416667 mins \n",
       "24      member         6          7       12    3            5.300000 mins \n",
       "25      member         0          0       12    6           11.266667 mins \n",
       "26      member        14         14       12    6            8.033333 mins \n",
       "27      member         9          9       12    3           13.933333 mins \n",
       "28      member         8          9       12    3           14.416667 mins \n",
       "29      member         9          9       12    7            9.416667 mins \n",
       "30      member         9         10       12    7           30.183333 mins \n",
       "⋮       ⋮             ⋮          ⋮        ⋮     ⋮           ⋮              \n",
       "4370193 casual        23         23       5     5             6.416667 mins\n",
       "4370194 casual        17         18       5     6           111.700000 mins\n",
       "4370195 member        19         20       5     3            10.350000 mins\n",
       "4370196 casual        16         16       5     3            25.800000 mins\n",
       "4370197 casual        14         15       5     7             5.266667 mins\n",
       "4370198 casual        17         18       5     7            13.883333 mins\n",
       "4370199 casual        19         20       5     1             4.000000 mins\n",
       "4370200 casual         0          1       5     2            44.250000 mins\n",
       "4370201 casual         0          1       5     2            44.366667 mins\n",
       "4370202 casual        17         17       5     7            22.250000 mins\n",
       "4370203 member        15         15       5     1            21.800000 mins\n",
       "4370204 casual        11         11       5     6             7.733333 mins\n",
       "4370205 casual        19         19       5     6             9.716667 mins\n",
       "4370206 casual        20         20       5     2            11.400000 mins\n",
       "4370207 casual        13         13       5     3            24.450000 mins\n",
       "4370208 member        18         18       5     3            15.200000 mins\n",
       "4370209 casual        19         19       5     2            11.516667 mins\n",
       "4370210 member        19         19       5     3             3.916667 mins\n",
       "4370211 casual        20         20       5     6            14.533333 mins\n",
       "4370212 casual        14         14       5     3            28.216667 mins\n",
       "4370213 casual        17         17       5     1             3.266667 mins\n",
       "4370214 casual        21         22       5     2            18.483333 mins\n",
       "4370215 casual         9          9       5     4            28.183333 mins\n",
       "4370216 casual        17         18       5     4             6.466667 mins\n",
       "4370217 member        12         13       5     1            26.450000 mins\n",
       "4370218 casual        10         14       5     2           244.083333 mins\n",
       "4370219 member        16         16       5     4            10.833333 mins\n",
       "4370220 casual        13         14       5     1            66.500000 mins\n",
       "4370221 member        18         19       5     6            34.166667 mins\n",
       "4370222 member        20         21       5     2            18.316667 mins\n",
       "        ride_length_hour ride_length_day \n",
       "1       0.15444444 hours 0.006435185 days\n",
       "2       0.43638889 hours 0.018182870 days\n",
       "3       0.20166667 hours 0.008402778 days\n",
       "4       0.48361111 hours 0.020150463 days\n",
       "5       0.23638889 hours 0.009849537 days\n",
       "6       0.15750000 hours 0.006562500 days\n",
       "7       0.29750000 hours 0.012395833 days\n",
       "8       0.14416667 hours 0.006006944 days\n",
       "9       0.31500000 hours 0.013125000 days\n",
       "10      0.22138889 hours 0.009224537 days\n",
       "11      0.10416667 hours 0.004340278 days\n",
       "12      0.11333333 hours 0.004722222 days\n",
       "13      0.10722222 hours 0.004467593 days\n",
       "14      0.11916667 hours 0.004965278 days\n",
       "15      0.05777778 hours 0.002407407 days\n",
       "16      0.16416667 hours 0.006840278 days\n",
       "17      0.15305556 hours 0.006377315 days\n",
       "18      0.39916667 hours 0.016631944 days\n",
       "19      0.14833333 hours 0.006180556 days\n",
       "20      0.44000000 hours 0.018333333 days\n",
       "21      0.20472222 hours 0.008530093 days\n",
       "22      0.31944444 hours 0.013310185 days\n",
       "23      0.25694444 hours 0.010706019 days\n",
       "24      0.08833333 hours 0.003680556 days\n",
       "25      0.18777778 hours 0.007824074 days\n",
       "26      0.13388889 hours 0.005578704 days\n",
       "27      0.23222222 hours 0.009675926 days\n",
       "28      0.24027778 hours 0.010011574 days\n",
       "29      0.15694444 hours 0.006539352 days\n",
       "30      0.50305556 hours 0.020960648 days\n",
       "⋮       ⋮                ⋮               \n",
       "4370193 0.10694444 hours 0.004456019 days\n",
       "4370194 1.86166667 hours 0.077569444 days\n",
       "4370195 0.17250000 hours 0.007187500 days\n",
       "4370196 0.43000000 hours 0.017916667 days\n",
       "4370197 0.08777778 hours 0.003657407 days\n",
       "4370198 0.23138889 hours 0.009641204 days\n",
       "4370199 0.06666667 hours 0.002777778 days\n",
       "4370200 0.73750000 hours 0.030729167 days\n",
       "4370201 0.73944444 hours 0.030810185 days\n",
       "4370202 0.37083333 hours 0.015451389 days\n",
       "4370203 0.36333333 hours 0.015138889 days\n",
       "4370204 0.12888889 hours 0.005370370 days\n",
       "4370205 0.16194444 hours 0.006747685 days\n",
       "4370206 0.19000000 hours 0.007916667 days\n",
       "4370207 0.40750000 hours 0.016979167 days\n",
       "4370208 0.25333333 hours 0.010555556 days\n",
       "4370209 0.19194444 hours 0.007997685 days\n",
       "4370210 0.06527778 hours 0.002719907 days\n",
       "4370211 0.24222222 hours 0.010092593 days\n",
       "4370212 0.47027778 hours 0.019594907 days\n",
       "4370213 0.05444444 hours 0.002268519 days\n",
       "4370214 0.30805556 hours 0.012835648 days\n",
       "4370215 0.46972222 hours 0.019571759 days\n",
       "4370216 0.10777778 hours 0.004490741 days\n",
       "4370217 0.44083333 hours 0.018368056 days\n",
       "4370218 4.06805556 hours 0.169502315 days\n",
       "4370219 0.18055556 hours 0.007523148 days\n",
       "4370220 1.10833333 hours 0.046180556 days\n",
       "4370221 0.56944444 hours 0.023726852 days\n",
       "4370222 0.30527778 hours 0.012719907 days"
      ]
     },
     "metadata": {},
     "output_type": "display_data"
    }
   ],
   "source": [
    "View(combined_clean)"
   ]
  },
  {
   "cell_type": "code",
   "execution_count": 40,
   "id": "8546d18b",
   "metadata": {
    "vscode": {
     "languageId": "r"
    }
   },
   "outputs": [],
   "source": [
    "combined_2 = combined_clean"
   ]
  },
  {
   "cell_type": "code",
   "execution_count": 41,
   "id": "c660628e",
   "metadata": {
    "vscode": {
     "languageId": "r"
    }
   },
   "outputs": [],
   "source": [
    "## encoding day of week column\n",
    "combined_2 = combined_2%>% mutate(day_of_week = recode(day_of_week,\n",
    "                                                      \"1\" = \"Sunday\",\"2\" = \"Monday\",\"3\" = \"Tuesday\",\"4\" = \"Wednesday\",\n",
    "                                                      \"4\" = \"Thursday\",\"5\" = \"Friday\",\"6\" = \"Saturday\",\"7\" = \"Saturday\"))"
   ]
  },
  {
   "cell_type": "code",
   "execution_count": 42,
   "id": "c02ca3a2",
   "metadata": {
    "vscode": {
     "languageId": "r"
    }
   },
   "outputs": [],
   "source": [
    "## encoding month column\n",
    "combined_2 = combined_2%>% mutate(month = recode(month,\n",
    "                                                      \"12\" = \"December-22\",\"1\" = \"January-23\",\"2\" = \"February-23\",\"3\" = \"March-23\",\"4\" = \"April-23\",\n",
    "                                                      \"11\" = \"November-22\",\"10\" = \"October-22\",\"9\" = \"September-22\",\n",
    "                                                      \"8\" = \"August-22\",\"7\" = \"July-22\",\"6\" = \"June-22\",\"5\" = \"May-22\"))  "
   ]
  },
  {
   "cell_type": "code",
   "execution_count": 43,
   "id": "34a1de4a",
   "metadata": {
    "vscode": {
     "languageId": "r"
    }
   },
   "outputs": [
    {
     "data": {
      "text/html": [
       "<table class=\"dataframe\">\n",
       "<caption>A tibble: 4370222 × 14</caption>\n",
       "<thead>\n",
       "\t<tr><th scope=col>ride_id</th><th scope=col>bike_type</th><th scope=col>started_at</th><th scope=col>ended_at</th><th scope=col>start_station_name</th><th scope=col>end_station_name</th><th scope=col>customer_type</th><th scope=col>start_hour</th><th scope=col>end_hour</th><th scope=col>month</th><th scope=col>day_of_week</th><th scope=col>ride_length</th><th scope=col>ride_length_hour</th><th scope=col>ride_length_day</th></tr>\n",
       "\t<tr><th scope=col>&lt;chr&gt;</th><th scope=col>&lt;chr&gt;</th><th scope=col>&lt;dttm&gt;</th><th scope=col>&lt;dttm&gt;</th><th scope=col>&lt;chr&gt;</th><th scope=col>&lt;chr&gt;</th><th scope=col>&lt;chr&gt;</th><th scope=col>&lt;int&gt;</th><th scope=col>&lt;int&gt;</th><th scope=col>&lt;chr&gt;</th><th scope=col>&lt;chr&gt;</th><th scope=col>&lt;drtn&gt;</th><th scope=col>&lt;drtn&gt;</th><th scope=col>&lt;drtn&gt;</th></tr>\n",
       "</thead>\n",
       "<tbody>\n",
       "\t<tr><td>65DBD2F447EC51C2</td><td>electric_bike</td><td>2022-12-05 10:47:18</td><td>2022-12-05 10:56:34</td><td><span style=white-space:pre-wrap>Clifton Ave &amp; Armitage Ave   </span></td><td><span style=white-space:pre-wrap>Sedgwick St &amp; Webster Ave    </span></td><td>member</td><td>10</td><td>10</td><td>December-22</td><td><span style=white-space:pre-wrap>Monday  </span></td><td> 9.266667 mins</td><td>0.15444444 hours</td><td>0.006435185 days</td></tr>\n",
       "\t<tr><td>0C201AA7EA0EA1AD</td><td>classic_bike </td><td>2022-12-18 06:42:33</td><td>2022-12-18 07:08:44</td><td><span style=white-space:pre-wrap>Broadway &amp; Belmont Ave       </span></td><td><span style=white-space:pre-wrap>Sedgwick St &amp; Webster Ave    </span></td><td>casual</td><td> 6</td><td> 7</td><td>December-22</td><td><span style=white-space:pre-wrap>Sunday  </span></td><td>26.183333 mins</td><td>0.43638889 hours</td><td>0.018182870 days</td></tr>\n",
       "\t<tr><td>E0B148CCB358A49D</td><td>electric_bike</td><td>2022-12-13 08:47:45</td><td>2022-12-13 08:59:51</td><td><span style=white-space:pre-wrap>Sangamon St &amp; Lake St        </span></td><td><span style=white-space:pre-wrap>St. Clair St &amp; Erie St       </span></td><td>member</td><td> 8</td><td> 8</td><td>December-22</td><td>Tuesday </td><td>12.100000 mins</td><td>0.20166667 hours</td><td>0.008402778 days</td></tr>\n",
       "\t<tr><td>54C5775D2B7C9188</td><td>classic_bike </td><td>2022-12-13 18:50:47</td><td>2022-12-13 19:19:48</td><td><span style=white-space:pre-wrap>Shields Ave &amp; 31st St        </span></td><td><span style=white-space:pre-wrap>Damen Ave &amp; Madison St       </span></td><td>member</td><td>18</td><td>19</td><td>December-22</td><td>Tuesday </td><td>29.016667 mins</td><td>0.48361111 hours</td><td>0.020150463 days</td></tr>\n",
       "\t<tr><td>A4891F78776D35DF</td><td>classic_bike </td><td>2022-12-14 16:13:39</td><td>2022-12-14 16:27:50</td><td><span style=white-space:pre-wrap>Ashland Ave &amp; Chicago Ave    </span></td><td><span style=white-space:pre-wrap>Damen Ave &amp; Charleston St    </span></td><td>casual</td><td>16</td><td>16</td><td>December-22</td><td>Thursday</td><td>14.183333 mins</td><td>0.23638889 hours</td><td>0.009849537 days</td></tr>\n",
       "\t<tr><td>DB91D9B8DFACA07A</td><td>electric_bike</td><td>2022-12-02 15:24:47</td><td>2022-12-02 15:34:14</td><td><span style=white-space:pre-wrap>Wabash Ave &amp; 9th St          </span></td><td><span style=white-space:pre-wrap>Wacker Dr &amp; Washington St    </span></td><td>member</td><td>15</td><td>15</td><td>December-22</td><td>Saturday</td><td> 9.450000 mins</td><td>0.15750000 hours</td><td>0.006562500 days</td></tr>\n",
       "\t<tr><td>6AD396C5760CC992</td><td>classic_bike </td><td>2022-12-20 09:02:03</td><td>2022-12-20 09:19:54</td><td><span style=white-space:pre-wrap>Leavitt St &amp; Chicago Ave     </span></td><td><span style=white-space:pre-wrap>Wacker Dr &amp; Washington St    </span></td><td>member</td><td> 9</td><td> 9</td><td>December-22</td><td>Tuesday </td><td>17.850000 mins</td><td>0.29750000 hours</td><td>0.012395833 days</td></tr>\n",
       "\t<tr><td>8D736E35E0075504</td><td>classic_bike </td><td>2022-12-13 14:19:49</td><td>2022-12-13 14:28:28</td><td>Humboldt Blvd &amp; Armitage Ave </td><td>Spaulding Ave &amp; Armitage Ave </td><td>member</td><td>14</td><td>14</td><td>December-22</td><td>Tuesday </td><td> 8.650000 mins</td><td>0.14416667 hours</td><td>0.006006944 days</td></tr>\n",
       "\t<tr><td>DDAB881F96C51DC8</td><td>classic_bike </td><td>2022-12-13 07:38:07</td><td>2022-12-13 07:57:01</td><td><span style=white-space:pre-wrap>Canal St &amp; Adams St          </span></td><td><span style=white-space:pre-wrap>St. Clair St &amp; Erie St       </span></td><td>member</td><td> 7</td><td> 7</td><td>December-22</td><td>Tuesday </td><td>18.900000 mins</td><td>0.31500000 hours</td><td>0.013125000 days</td></tr>\n",
       "\t<tr><td>8DDBAE51E55DAEEF</td><td>classic_bike </td><td>2022-12-21 08:57:42</td><td>2022-12-21 09:10:59</td><td>Greenview Ave &amp; Fullerton Ave</td><td>Southport Ave &amp; Waveland Ave </td><td>member</td><td> 8</td><td> 9</td><td>December-22</td><td>Thursday</td><td>13.283333 mins</td><td>0.22138889 hours</td><td>0.009224537 days</td></tr>\n",
       "\t<tr><td>37BCF0C0B553F0A1</td><td>classic_bike </td><td>2022-12-12 17:56:26</td><td>2022-12-12 18:02:41</td><td><span style=white-space:pre-wrap>Canal St &amp; Adams St          </span></td><td>Sangamon St &amp; Washington Blvd</td><td>member</td><td>17</td><td>18</td><td>December-22</td><td><span style=white-space:pre-wrap>Monday  </span></td><td> 6.250000 mins</td><td>0.10416667 hours</td><td>0.004340278 days</td></tr>\n",
       "\t<tr><td>1B133362A3F86A2C</td><td>classic_bike </td><td>2022-12-06 17:07:34</td><td>2022-12-06 17:14:22</td><td><span style=white-space:pre-wrap>Canal St &amp; Adams St          </span></td><td>Sangamon St &amp; Washington Blvd</td><td>member</td><td>17</td><td>17</td><td>December-22</td><td>Tuesday </td><td> 6.800000 mins</td><td>0.11333333 hours</td><td>0.004722222 days</td></tr>\n",
       "\t<tr><td>DF0DC4C1FF01E3EF</td><td>classic_bike </td><td>2022-12-29 17:46:08</td><td>2022-12-29 17:52:34</td><td><span style=white-space:pre-wrap>Canal St &amp; Adams St          </span></td><td>Sangamon St &amp; Washington Blvd</td><td>member</td><td>17</td><td>17</td><td>December-22</td><td><span style=white-space:pre-wrap>Friday  </span></td><td> 6.433333 mins</td><td>0.10722222 hours</td><td>0.004467593 days</td></tr>\n",
       "\t<tr><td>0D58B8FC23315D59</td><td>classic_bike </td><td>2022-12-01 21:38:56</td><td>2022-12-01 21:46:05</td><td><span style=white-space:pre-wrap>Canal St &amp; Adams St          </span></td><td>Sangamon St &amp; Washington Blvd</td><td>member</td><td>21</td><td>21</td><td>December-22</td><td><span style=white-space:pre-wrap>Friday  </span></td><td> 7.150000 mins</td><td>0.11916667 hours</td><td>0.004965278 days</td></tr>\n",
       "\t<tr><td>462D7A9C0323B0C9</td><td>classic_bike </td><td>2022-12-03 15:52:58</td><td>2022-12-03 15:56:26</td><td>Humboldt Blvd &amp; Armitage Ave </td><td>Spaulding Ave &amp; Armitage Ave </td><td>member</td><td>15</td><td>15</td><td>December-22</td><td>Saturday</td><td> 3.466667 mins</td><td>0.05777778 hours</td><td>0.002407407 days</td></tr>\n",
       "\t<tr><td>9F827DE27022F311</td><td>electric_bike</td><td>2022-12-01 07:08:13</td><td>2022-12-01 07:18:04</td><td><span style=white-space:pre-wrap>Ashland Ave &amp; Chicago Ave    </span></td><td><span style=white-space:pre-wrap>Wacker Dr &amp; Washington St    </span></td><td>member</td><td> 7</td><td> 7</td><td>December-22</td><td><span style=white-space:pre-wrap>Friday  </span></td><td> 9.850000 mins</td><td>0.16416667 hours</td><td>0.006840278 days</td></tr>\n",
       "\t<tr><td>58E5482C771A98BE</td><td>classic_bike </td><td>2022-12-28 22:01:54</td><td>2022-12-28 22:11:05</td><td><span style=white-space:pre-wrap>Broadway &amp; Belmont Ave       </span></td><td>Southport Ave &amp; Waveland Ave </td><td>member</td><td>22</td><td>22</td><td>December-22</td><td>Thursday</td><td> 9.183333 mins</td><td>0.15305556 hours</td><td>0.006377315 days</td></tr>\n",
       "\t<tr><td>46FD5C26A4020ED1</td><td>classic_bike </td><td>2022-12-19 11:28:51</td><td>2022-12-19 11:52:48</td><td><span style=white-space:pre-wrap>Sedgwick St &amp; North Ave      </span></td><td><span style=white-space:pre-wrap>St. Clair St &amp; Erie St       </span></td><td>member</td><td>11</td><td>11</td><td>December-22</td><td><span style=white-space:pre-wrap>Monday  </span></td><td>23.950000 mins</td><td>0.39916667 hours</td><td>0.016631944 days</td></tr>\n",
       "\t<tr><td>F27780BD0F2E0C01</td><td>classic_bike </td><td>2022-12-21 16:51:20</td><td>2022-12-21 17:00:14</td><td><span style=white-space:pre-wrap>Malcolm X College            </span></td><td>Sangamon St &amp; Washington Blvd</td><td>member</td><td>16</td><td>17</td><td>December-22</td><td>Thursday</td><td> 8.900000 mins</td><td>0.14833333 hours</td><td>0.006180556 days</td></tr>\n",
       "\t<tr><td>995F741523A9DEAD</td><td>classic_bike </td><td>2022-12-26 10:46:06</td><td>2022-12-26 11:12:30</td><td><span style=white-space:pre-wrap>Ashland Ave &amp; Chicago Ave    </span></td><td><span style=white-space:pre-wrap>St. Clair St &amp; Erie St       </span></td><td>member</td><td>10</td><td>11</td><td>December-22</td><td><span style=white-space:pre-wrap>Monday  </span></td><td>26.400000 mins</td><td>0.44000000 hours</td><td>0.018333333 days</td></tr>\n",
       "\t<tr><td>FF9A7FC5BCB6D029</td><td>electric_bike</td><td>2022-12-01 09:14:39</td><td>2022-12-01 09:26:56</td><td><span style=white-space:pre-wrap>Sedgwick St &amp; North Ave      </span></td><td><span style=white-space:pre-wrap>Wacker Dr &amp; Washington St    </span></td><td>member</td><td> 9</td><td> 9</td><td>December-22</td><td><span style=white-space:pre-wrap>Friday  </span></td><td>12.283333 mins</td><td>0.20472222 hours</td><td>0.008530093 days</td></tr>\n",
       "\t<tr><td>1B2898656A62F1FB</td><td>electric_bike</td><td>2022-12-10 21:47:52</td><td>2022-12-10 22:07:02</td><td><span style=white-space:pre-wrap>Clifton Ave &amp; Armitage Ave   </span></td><td>Spaulding Ave &amp; Armitage Ave </td><td>casual</td><td>21</td><td>22</td><td>December-22</td><td>Saturday</td><td>19.166667 mins</td><td>0.31944444 hours</td><td>0.013310185 days</td></tr>\n",
       "\t<tr><td>A332DD20175E907E</td><td>classic_bike </td><td>2022-12-03 08:49:51</td><td>2022-12-03 09:05:16</td><td><span style=white-space:pre-wrap>Broadway &amp; Belmont Ave       </span></td><td>Southport Ave &amp; Waveland Ave </td><td>casual</td><td> 8</td><td> 9</td><td>December-22</td><td>Saturday</td><td>15.416667 mins</td><td>0.25694444 hours</td><td>0.010706019 days</td></tr>\n",
       "\t<tr><td>37D27BD10A147058</td><td>classic_bike </td><td>2022-12-13 06:55:00</td><td>2022-12-13 07:00:18</td><td><span style=white-space:pre-wrap>Sangamon St &amp; Lake St        </span></td><td><span style=white-space:pre-wrap>Wacker Dr &amp; Washington St    </span></td><td>member</td><td> 6</td><td> 7</td><td>December-22</td><td>Tuesday </td><td> 5.300000 mins</td><td>0.08833333 hours</td><td>0.003680556 days</td></tr>\n",
       "\t<tr><td>3945E996AE3304B8</td><td>electric_bike</td><td>2022-12-09 00:03:47</td><td>2022-12-09 00:15:03</td><td><span style=white-space:pre-wrap>Sedgwick St &amp; North Ave      </span></td><td>Southport Ave &amp; Waveland Ave </td><td>member</td><td> 0</td><td> 0</td><td>December-22</td><td>Saturday</td><td>11.266667 mins</td><td>0.18777778 hours</td><td>0.007824074 days</td></tr>\n",
       "\t<tr><td>221B0D4EBCF9D710</td><td>electric_bike</td><td>2022-12-30 14:07:17</td><td>2022-12-30 14:15:19</td><td><span style=white-space:pre-wrap>Broadway &amp; Belmont Ave       </span></td><td>Southport Ave &amp; Waveland Ave </td><td>member</td><td>14</td><td>14</td><td>December-22</td><td>Saturday</td><td> 8.033333 mins</td><td>0.13388889 hours</td><td>0.005578704 days</td></tr>\n",
       "\t<tr><td>5756E0DF84CEF779</td><td>classic_bike </td><td>2022-12-06 09:20:21</td><td>2022-12-06 09:34:17</td><td><span style=white-space:pre-wrap>Sedgwick St &amp; North Ave      </span></td><td><span style=white-space:pre-wrap>Wacker Dr &amp; Washington St    </span></td><td>member</td><td> 9</td><td> 9</td><td>December-22</td><td>Tuesday </td><td>13.933333 mins</td><td>0.23222222 hours</td><td>0.009675926 days</td></tr>\n",
       "\t<tr><td>B9645D9F60BFD279</td><td>classic_bike </td><td>2022-12-13 08:45:54</td><td>2022-12-13 09:00:19</td><td><span style=white-space:pre-wrap>Sedgwick St &amp; North Ave      </span></td><td><span style=white-space:pre-wrap>Wacker Dr &amp; Washington St    </span></td><td>member</td><td> 8</td><td> 9</td><td>December-22</td><td>Tuesday </td><td>14.416667 mins</td><td>0.24027778 hours</td><td>0.010011574 days</td></tr>\n",
       "\t<tr><td>D5E154DDC4146EFC</td><td>electric_bike</td><td>2022-12-03 09:09:55</td><td>2022-12-03 09:19:20</td><td><span style=white-space:pre-wrap>Ashland Ave &amp; Chicago Ave    </span></td><td><span style=white-space:pre-wrap>Wacker Dr &amp; Washington St    </span></td><td>member</td><td> 9</td><td> 9</td><td>December-22</td><td>Saturday</td><td> 9.416667 mins</td><td>0.15694444 hours</td><td>0.006539352 days</td></tr>\n",
       "\t<tr><td>7D451A9C489FE4D2</td><td>classic_bike </td><td>2022-12-10 09:49:06</td><td>2022-12-10 10:19:17</td><td><span style=white-space:pre-wrap>Broadway &amp; Belmont Ave       </span></td><td><span style=white-space:pre-wrap>St. Clair St &amp; Erie St       </span></td><td>member</td><td> 9</td><td>10</td><td>December-22</td><td>Saturday</td><td>30.183333 mins</td><td>0.50305556 hours</td><td>0.020960648 days</td></tr>\n",
       "\t<tr><td>⋮</td><td>⋮</td><td>⋮</td><td>⋮</td><td>⋮</td><td>⋮</td><td>⋮</td><td>⋮</td><td>⋮</td><td>⋮</td><td>⋮</td><td>⋮</td><td>⋮</td><td>⋮</td></tr>\n",
       "\t<tr><td>220E8DE61050FCF9</td><td>classic_bike </td><td>2022-05-26 23:38:33</td><td>2022-05-26 23:44:58</td><td>California Ave &amp; Milwaukee Ave</td><td>California Ave &amp; Milwaukee Ave</td><td>casual</td><td>23</td><td>23</td><td>May-22</td><td><span style=white-space:pre-wrap>Friday  </span></td><td><span style=white-space:pre-wrap>  6.416667 mins</span></td><td>0.10694444 hours</td><td>0.004456019 days</td></tr>\n",
       "\t<tr><td>D706A1DE6C03DB04</td><td>electric_bike</td><td>2022-05-27 17:06:03</td><td>2022-05-27 18:57:45</td><td><span style=white-space:pre-wrap>Morgan Ave &amp; 14th Pl          </span></td><td><span style=white-space:pre-wrap>Morgan Ave &amp; 14th Pl          </span></td><td>casual</td><td>17</td><td>18</td><td>May-22</td><td>Saturday</td><td>111.700000 mins</td><td>1.86166667 hours</td><td>0.077569444 days</td></tr>\n",
       "\t<tr><td>7953BED74D928F6C</td><td>classic_bike </td><td>2022-05-10 19:50:58</td><td>2022-05-10 20:01:19</td><td><span style=white-space:pre-wrap>California Ave &amp; Division St  </span></td><td>California Ave &amp; Milwaukee Ave</td><td>member</td><td>19</td><td>20</td><td>May-22</td><td>Tuesday </td><td> 10.350000 mins</td><td>0.17250000 hours</td><td>0.007187500 days</td></tr>\n",
       "\t<tr><td>100BF694B077C1A6</td><td>classic_bike </td><td>2022-05-10 16:16:28</td><td>2022-05-10 16:42:16</td><td>Sangamon St &amp; Washington Blvd </td><td><span style=white-space:pre-wrap>Morgan Ave &amp; 14th Pl          </span></td><td>casual</td><td>16</td><td>16</td><td>May-22</td><td>Tuesday </td><td> 25.800000 mins</td><td>0.43000000 hours</td><td>0.017916667 days</td></tr>\n",
       "\t<tr><td>8D470810816DC6A7</td><td>electric_bike</td><td>2022-05-28 14:58:59</td><td>2022-05-28 15:04:15</td><td><span style=white-space:pre-wrap>Spaulding Ave &amp; Armitage Ave  </span></td><td>California Ave &amp; Milwaukee Ave</td><td>casual</td><td>14</td><td>15</td><td>May-22</td><td>Saturday</td><td><span style=white-space:pre-wrap>  5.266667 mins</span></td><td>0.08777778 hours</td><td>0.003657407 days</td></tr>\n",
       "\t<tr><td>6BCBA0ED112CEFFA</td><td><span style=white-space:pre-wrap>docked_bike  </span></td><td>2022-05-21 17:51:47</td><td>2022-05-21 18:05:40</td><td><span style=white-space:pre-wrap>Kosciuszko Park               </span></td><td>California Ave &amp; Milwaukee Ave</td><td>casual</td><td>17</td><td>18</td><td>May-22</td><td>Saturday</td><td> 13.883333 mins</td><td>0.23138889 hours</td><td>0.009641204 days</td></tr>\n",
       "\t<tr><td>306F1463853F46C3</td><td>electric_bike</td><td>2022-05-29 19:56:36</td><td>2022-05-29 20:00:36</td><td><span style=white-space:pre-wrap>Kedzie Ave &amp; Milwaukee Ave    </span></td><td>California Ave &amp; Milwaukee Ave</td><td>casual</td><td>19</td><td>20</td><td>May-22</td><td><span style=white-space:pre-wrap>Sunday  </span></td><td><span style=white-space:pre-wrap>  4.000000 mins</span></td><td>0.06666667 hours</td><td>0.002777778 days</td></tr>\n",
       "\t<tr><td>9A51A340401243B1</td><td>classic_bike </td><td>2022-05-30 00:45:31</td><td>2022-05-30 01:29:46</td><td><span style=white-space:pre-wrap>Kedzie Ave &amp; Milwaukee Ave    </span></td><td>California Ave &amp; Milwaukee Ave</td><td>casual</td><td> 0</td><td> 1</td><td>May-22</td><td><span style=white-space:pre-wrap>Monday  </span></td><td> 44.250000 mins</td><td>0.73750000 hours</td><td>0.030729167 days</td></tr>\n",
       "\t<tr><td>BD7347750E3472A7</td><td>classic_bike </td><td>2022-05-30 00:45:13</td><td>2022-05-30 01:29:35</td><td><span style=white-space:pre-wrap>Kedzie Ave &amp; Milwaukee Ave    </span></td><td>California Ave &amp; Milwaukee Ave</td><td>casual</td><td> 0</td><td> 1</td><td>May-22</td><td><span style=white-space:pre-wrap>Monday  </span></td><td> 44.366667 mins</td><td>0.73944444 hours</td><td>0.030810185 days</td></tr>\n",
       "\t<tr><td>B8B21AC3E01BDA4E</td><td>electric_bike</td><td>2022-05-14 17:24:40</td><td>2022-05-14 17:46:55</td><td>Christiana Ave &amp; Lawrence Ave </td><td><span style=white-space:pre-wrap>California Ave &amp; Division St  </span></td><td>casual</td><td>17</td><td>17</td><td>May-22</td><td>Saturday</td><td> 22.250000 mins</td><td>0.37083333 hours</td><td>0.015451389 days</td></tr>\n",
       "\t<tr><td>2817DB972921DF66</td><td>electric_bike</td><td>2022-05-22 15:16:12</td><td>2022-05-22 15:38:00</td><td><span style=white-space:pre-wrap>Morgan Ave &amp; 14th Pl          </span></td><td><span style=white-space:pre-wrap>Morgan Ave &amp; 14th Pl          </span></td><td>member</td><td>15</td><td>15</td><td>May-22</td><td><span style=white-space:pre-wrap>Sunday  </span></td><td> 21.800000 mins</td><td>0.36333333 hours</td><td>0.015138889 days</td></tr>\n",
       "\t<tr><td>3E76D54D2FA65FAD</td><td>electric_bike</td><td>2022-05-13 11:09:04</td><td>2022-05-13 11:16:48</td><td><span style=white-space:pre-wrap>Kenosha &amp; Wellington          </span></td><td><span style=white-space:pre-wrap>Kenosha &amp; Wellington          </span></td><td>casual</td><td>11</td><td>11</td><td>May-22</td><td>Saturday</td><td><span style=white-space:pre-wrap>  7.733333 mins</span></td><td>0.12888889 hours</td><td>0.005370370 days</td></tr>\n",
       "\t<tr><td>1251D162A5856C84</td><td>classic_bike </td><td>2022-05-20 19:48:58</td><td>2022-05-20 19:58:41</td><td>California Ave &amp; Milwaukee Ave</td><td><span style=white-space:pre-wrap>California Ave &amp; Division St  </span></td><td>casual</td><td>19</td><td>19</td><td>May-22</td><td>Saturday</td><td><span style=white-space:pre-wrap>  9.716667 mins</span></td><td>0.16194444 hours</td><td>0.006747685 days</td></tr>\n",
       "\t<tr><td>2502827402D7BEFC</td><td>electric_bike</td><td>2022-05-30 20:46:16</td><td>2022-05-30 20:57:40</td><td>California Ave &amp; Milwaukee Ave</td><td><span style=white-space:pre-wrap>California Ave &amp; Division St  </span></td><td>casual</td><td>20</td><td>20</td><td>May-22</td><td><span style=white-space:pre-wrap>Monday  </span></td><td> 11.400000 mins</td><td>0.19000000 hours</td><td>0.007916667 days</td></tr>\n",
       "\t<tr><td>A3FC429B2A65B9EC</td><td>electric_bike</td><td>2022-05-17 13:00:23</td><td>2022-05-17 13:24:50</td><td>California Ave &amp; Milwaukee Ave</td><td>California Ave &amp; Milwaukee Ave</td><td>casual</td><td>13</td><td>13</td><td>May-22</td><td>Tuesday </td><td> 24.450000 mins</td><td>0.40750000 hours</td><td>0.016979167 days</td></tr>\n",
       "\t<tr><td>C7E0CD0BAF730094</td><td>classic_bike </td><td>2022-05-10 18:41:39</td><td>2022-05-10 18:56:51</td><td><span style=white-space:pre-wrap>Federal St &amp; Polk St          </span></td><td><span style=white-space:pre-wrap>Morgan Ave &amp; 14th Pl          </span></td><td>member</td><td>18</td><td>18</td><td>May-22</td><td>Tuesday </td><td> 15.200000 mins</td><td>0.25333333 hours</td><td>0.010555556 days</td></tr>\n",
       "\t<tr><td>EF57CA0661167C2D</td><td><span style=white-space:pre-wrap>docked_bike  </span></td><td>2022-05-16 19:08:10</td><td>2022-05-16 19:19:41</td><td>California Ave &amp; Milwaukee Ave</td><td><span style=white-space:pre-wrap>California Ave &amp; Division St  </span></td><td>casual</td><td>19</td><td>19</td><td>May-22</td><td><span style=white-space:pre-wrap>Monday  </span></td><td> 11.516667 mins</td><td>0.19194444 hours</td><td>0.007997685 days</td></tr>\n",
       "\t<tr><td>C10AF5F688813C5B</td><td>classic_bike </td><td>2022-05-10 19:40:25</td><td>2022-05-10 19:44:20</td><td><span style=white-space:pre-wrap>Campbell Ave &amp; Montrose Ave   </span></td><td><span style=white-space:pre-wrap>Campbell Ave &amp; Montrose Ave   </span></td><td>member</td><td>19</td><td>19</td><td>May-22</td><td>Tuesday </td><td><span style=white-space:pre-wrap>  3.916667 mins</span></td><td>0.06527778 hours</td><td>0.002719907 days</td></tr>\n",
       "\t<tr><td>5020E651786CC694</td><td>electric_bike</td><td>2022-05-13 20:08:21</td><td>2022-05-13 20:22:53</td><td><span style=white-space:pre-wrap>Orange &amp; Addison              </span></td><td><span style=white-space:pre-wrap>Orange &amp; Addison              </span></td><td>casual</td><td>20</td><td>20</td><td>May-22</td><td>Saturday</td><td> 14.533333 mins</td><td>0.24222222 hours</td><td>0.010092593 days</td></tr>\n",
       "\t<tr><td>6D22B539D463056D</td><td>classic_bike </td><td>2022-05-31 14:03:21</td><td>2022-05-31 14:31:34</td><td>California Ave &amp; Milwaukee Ave</td><td>California Ave &amp; Milwaukee Ave</td><td>casual</td><td>14</td><td>14</td><td>May-22</td><td>Tuesday </td><td> 28.216667 mins</td><td>0.47027778 hours</td><td>0.019594907 days</td></tr>\n",
       "\t<tr><td>8A56951F3A8665DE</td><td>electric_bike</td><td>2022-05-01 17:33:59</td><td>2022-05-01 17:37:15</td><td>California Ave &amp; Milwaukee Ave</td><td>California Ave &amp; Milwaukee Ave</td><td>casual</td><td>17</td><td>17</td><td>May-22</td><td><span style=white-space:pre-wrap>Sunday  </span></td><td><span style=white-space:pre-wrap>  3.266667 mins</span></td><td>0.05444444 hours</td><td>0.002268519 days</td></tr>\n",
       "\t<tr><td>32AB4F449B4F8184</td><td>electric_bike</td><td>2022-05-30 21:53:35</td><td>2022-05-30 22:12:04</td><td><span style=white-space:pre-wrap>Orange &amp; Addison              </span></td><td><span style=white-space:pre-wrap>Orange &amp; Addison              </span></td><td>casual</td><td>21</td><td>22</td><td>May-22</td><td><span style=white-space:pre-wrap>Monday  </span></td><td> 18.483333 mins</td><td>0.30805556 hours</td><td>0.012835648 days</td></tr>\n",
       "\t<tr><td>CFA628793A8E1A43</td><td>electric_bike</td><td>2022-05-11 09:18:40</td><td>2022-05-11 09:46:51</td><td><span style=white-space:pre-wrap>Orange &amp; Addison              </span></td><td><span style=white-space:pre-wrap>Orange &amp; Addison              </span></td><td>casual</td><td> 9</td><td> 9</td><td>May-22</td><td>Thursday</td><td> 28.183333 mins</td><td>0.46972222 hours</td><td>0.019571759 days</td></tr>\n",
       "\t<tr><td>317758B0C5D6432D</td><td>electric_bike</td><td>2022-05-11 17:59:42</td><td>2022-05-11 18:06:10</td><td><span style=white-space:pre-wrap>California Ave &amp; Division St  </span></td><td>California Ave &amp; Milwaukee Ave</td><td>casual</td><td>17</td><td>18</td><td>May-22</td><td>Thursday</td><td><span style=white-space:pre-wrap>  6.466667 mins</span></td><td>0.10777778 hours</td><td>0.004490741 days</td></tr>\n",
       "\t<tr><td>7FD953DDF58DE718</td><td>classic_bike </td><td>2022-05-08 12:43:59</td><td>2022-05-08 13:10:26</td><td><span style=white-space:pre-wrap>California Ave &amp; Division St  </span></td><td><span style=white-space:pre-wrap>California Ave &amp; Division St  </span></td><td>member</td><td>12</td><td>13</td><td>May-22</td><td><span style=white-space:pre-wrap>Sunday  </span></td><td> 26.450000 mins</td><td>0.44083333 hours</td><td>0.018368056 days</td></tr>\n",
       "\t<tr><td>2751A20F087A39B5</td><td><span style=white-space:pre-wrap>docked_bike  </span></td><td>2022-05-16 10:44:42</td><td>2022-05-16 14:48:47</td><td><span style=white-space:pre-wrap>Campbell Ave &amp; Montrose Ave   </span></td><td><span style=white-space:pre-wrap>Campbell Ave &amp; Montrose Ave   </span></td><td>casual</td><td>10</td><td>14</td><td>May-22</td><td><span style=white-space:pre-wrap>Monday  </span></td><td>244.083333 mins</td><td>4.06805556 hours</td><td>0.169502315 days</td></tr>\n",
       "\t<tr><td>9A2B15F389585725</td><td>classic_bike </td><td>2022-05-18 16:30:26</td><td>2022-05-18 16:41:16</td><td><span style=white-space:pre-wrap>Wood St &amp; Chicago Ave         </span></td><td><span style=white-space:pre-wrap>Wood St &amp; Chicago Ave         </span></td><td>member</td><td>16</td><td>16</td><td>May-22</td><td>Thursday</td><td> 10.833333 mins</td><td>0.18055556 hours</td><td>0.007523148 days</td></tr>\n",
       "\t<tr><td>3E1663D37D8AB75A</td><td>classic_bike </td><td>2022-05-08 13:28:53</td><td>2022-05-08 14:35:23</td><td><span style=white-space:pre-wrap>California Ave &amp; Division St  </span></td><td><span style=white-space:pre-wrap>Wood St &amp; Chicago Ave         </span></td><td>casual</td><td>13</td><td>14</td><td>May-22</td><td><span style=white-space:pre-wrap>Sunday  </span></td><td> 66.500000 mins</td><td>1.10833333 hours</td><td>0.046180556 days</td></tr>\n",
       "\t<tr><td>73B9BC566EF662F4</td><td>classic_bike </td><td>2022-05-06 18:52:52</td><td>2022-05-06 19:27:02</td><td><span style=white-space:pre-wrap>Campbell Ave &amp; Montrose Ave   </span></td><td><span style=white-space:pre-wrap>Campbell Ave &amp; Montrose Ave   </span></td><td>member</td><td>18</td><td>19</td><td>May-22</td><td>Saturday</td><td> 34.166667 mins</td><td>0.56944444 hours</td><td>0.023726852 days</td></tr>\n",
       "\t<tr><td>1E6E84511515C736</td><td>classic_bike </td><td>2022-05-30 20:57:52</td><td>2022-05-30 21:16:11</td><td>California Ave &amp; Milwaukee Ave</td><td>California Ave &amp; Milwaukee Ave</td><td>member</td><td>20</td><td>21</td><td>May-22</td><td><span style=white-space:pre-wrap>Monday  </span></td><td> 18.316667 mins</td><td>0.30527778 hours</td><td>0.012719907 days</td></tr>\n",
       "</tbody>\n",
       "</table>\n"
      ],
      "text/latex": [
       "A tibble: 4370222 × 14\n",
       "\\begin{tabular}{llllllllllllll}\n",
       " ride\\_id & bike\\_type & started\\_at & ended\\_at & start\\_station\\_name & end\\_station\\_name & customer\\_type & start\\_hour & end\\_hour & month & day\\_of\\_week & ride\\_length & ride\\_length\\_hour & ride\\_length\\_day\\\\\n",
       " <chr> & <chr> & <dttm> & <dttm> & <chr> & <chr> & <chr> & <int> & <int> & <chr> & <chr> & <drtn> & <drtn> & <drtn>\\\\\n",
       "\\hline\n",
       "\t 65DBD2F447EC51C2 & electric\\_bike & 2022-12-05 10:47:18 & 2022-12-05 10:56:34 & Clifton Ave \\& Armitage Ave    & Sedgwick St \\& Webster Ave     & member & 10 & 10 & December-22 & Monday   &  9.266667 mins & 0.15444444 hours & 0.006435185 days\\\\\n",
       "\t 0C201AA7EA0EA1AD & classic\\_bike  & 2022-12-18 06:42:33 & 2022-12-18 07:08:44 & Broadway \\& Belmont Ave        & Sedgwick St \\& Webster Ave     & casual &  6 &  7 & December-22 & Sunday   & 26.183333 mins & 0.43638889 hours & 0.018182870 days\\\\\n",
       "\t E0B148CCB358A49D & electric\\_bike & 2022-12-13 08:47:45 & 2022-12-13 08:59:51 & Sangamon St \\& Lake St         & St. Clair St \\& Erie St        & member &  8 &  8 & December-22 & Tuesday  & 12.100000 mins & 0.20166667 hours & 0.008402778 days\\\\\n",
       "\t 54C5775D2B7C9188 & classic\\_bike  & 2022-12-13 18:50:47 & 2022-12-13 19:19:48 & Shields Ave \\& 31st St         & Damen Ave \\& Madison St        & member & 18 & 19 & December-22 & Tuesday  & 29.016667 mins & 0.48361111 hours & 0.020150463 days\\\\\n",
       "\t A4891F78776D35DF & classic\\_bike  & 2022-12-14 16:13:39 & 2022-12-14 16:27:50 & Ashland Ave \\& Chicago Ave     & Damen Ave \\& Charleston St     & casual & 16 & 16 & December-22 & Thursday & 14.183333 mins & 0.23638889 hours & 0.009849537 days\\\\\n",
       "\t DB91D9B8DFACA07A & electric\\_bike & 2022-12-02 15:24:47 & 2022-12-02 15:34:14 & Wabash Ave \\& 9th St           & Wacker Dr \\& Washington St     & member & 15 & 15 & December-22 & Saturday &  9.450000 mins & 0.15750000 hours & 0.006562500 days\\\\\n",
       "\t 6AD396C5760CC992 & classic\\_bike  & 2022-12-20 09:02:03 & 2022-12-20 09:19:54 & Leavitt St \\& Chicago Ave      & Wacker Dr \\& Washington St     & member &  9 &  9 & December-22 & Tuesday  & 17.850000 mins & 0.29750000 hours & 0.012395833 days\\\\\n",
       "\t 8D736E35E0075504 & classic\\_bike  & 2022-12-13 14:19:49 & 2022-12-13 14:28:28 & Humboldt Blvd \\& Armitage Ave  & Spaulding Ave \\& Armitage Ave  & member & 14 & 14 & December-22 & Tuesday  &  8.650000 mins & 0.14416667 hours & 0.006006944 days\\\\\n",
       "\t DDAB881F96C51DC8 & classic\\_bike  & 2022-12-13 07:38:07 & 2022-12-13 07:57:01 & Canal St \\& Adams St           & St. Clair St \\& Erie St        & member &  7 &  7 & December-22 & Tuesday  & 18.900000 mins & 0.31500000 hours & 0.013125000 days\\\\\n",
       "\t 8DDBAE51E55DAEEF & classic\\_bike  & 2022-12-21 08:57:42 & 2022-12-21 09:10:59 & Greenview Ave \\& Fullerton Ave & Southport Ave \\& Waveland Ave  & member &  8 &  9 & December-22 & Thursday & 13.283333 mins & 0.22138889 hours & 0.009224537 days\\\\\n",
       "\t 37BCF0C0B553F0A1 & classic\\_bike  & 2022-12-12 17:56:26 & 2022-12-12 18:02:41 & Canal St \\& Adams St           & Sangamon St \\& Washington Blvd & member & 17 & 18 & December-22 & Monday   &  6.250000 mins & 0.10416667 hours & 0.004340278 days\\\\\n",
       "\t 1B133362A3F86A2C & classic\\_bike  & 2022-12-06 17:07:34 & 2022-12-06 17:14:22 & Canal St \\& Adams St           & Sangamon St \\& Washington Blvd & member & 17 & 17 & December-22 & Tuesday  &  6.800000 mins & 0.11333333 hours & 0.004722222 days\\\\\n",
       "\t DF0DC4C1FF01E3EF & classic\\_bike  & 2022-12-29 17:46:08 & 2022-12-29 17:52:34 & Canal St \\& Adams St           & Sangamon St \\& Washington Blvd & member & 17 & 17 & December-22 & Friday   &  6.433333 mins & 0.10722222 hours & 0.004467593 days\\\\\n",
       "\t 0D58B8FC23315D59 & classic\\_bike  & 2022-12-01 21:38:56 & 2022-12-01 21:46:05 & Canal St \\& Adams St           & Sangamon St \\& Washington Blvd & member & 21 & 21 & December-22 & Friday   &  7.150000 mins & 0.11916667 hours & 0.004965278 days\\\\\n",
       "\t 462D7A9C0323B0C9 & classic\\_bike  & 2022-12-03 15:52:58 & 2022-12-03 15:56:26 & Humboldt Blvd \\& Armitage Ave  & Spaulding Ave \\& Armitage Ave  & member & 15 & 15 & December-22 & Saturday &  3.466667 mins & 0.05777778 hours & 0.002407407 days\\\\\n",
       "\t 9F827DE27022F311 & electric\\_bike & 2022-12-01 07:08:13 & 2022-12-01 07:18:04 & Ashland Ave \\& Chicago Ave     & Wacker Dr \\& Washington St     & member &  7 &  7 & December-22 & Friday   &  9.850000 mins & 0.16416667 hours & 0.006840278 days\\\\\n",
       "\t 58E5482C771A98BE & classic\\_bike  & 2022-12-28 22:01:54 & 2022-12-28 22:11:05 & Broadway \\& Belmont Ave        & Southport Ave \\& Waveland Ave  & member & 22 & 22 & December-22 & Thursday &  9.183333 mins & 0.15305556 hours & 0.006377315 days\\\\\n",
       "\t 46FD5C26A4020ED1 & classic\\_bike  & 2022-12-19 11:28:51 & 2022-12-19 11:52:48 & Sedgwick St \\& North Ave       & St. Clair St \\& Erie St        & member & 11 & 11 & December-22 & Monday   & 23.950000 mins & 0.39916667 hours & 0.016631944 days\\\\\n",
       "\t F27780BD0F2E0C01 & classic\\_bike  & 2022-12-21 16:51:20 & 2022-12-21 17:00:14 & Malcolm X College             & Sangamon St \\& Washington Blvd & member & 16 & 17 & December-22 & Thursday &  8.900000 mins & 0.14833333 hours & 0.006180556 days\\\\\n",
       "\t 995F741523A9DEAD & classic\\_bike  & 2022-12-26 10:46:06 & 2022-12-26 11:12:30 & Ashland Ave \\& Chicago Ave     & St. Clair St \\& Erie St        & member & 10 & 11 & December-22 & Monday   & 26.400000 mins & 0.44000000 hours & 0.018333333 days\\\\\n",
       "\t FF9A7FC5BCB6D029 & electric\\_bike & 2022-12-01 09:14:39 & 2022-12-01 09:26:56 & Sedgwick St \\& North Ave       & Wacker Dr \\& Washington St     & member &  9 &  9 & December-22 & Friday   & 12.283333 mins & 0.20472222 hours & 0.008530093 days\\\\\n",
       "\t 1B2898656A62F1FB & electric\\_bike & 2022-12-10 21:47:52 & 2022-12-10 22:07:02 & Clifton Ave \\& Armitage Ave    & Spaulding Ave \\& Armitage Ave  & casual & 21 & 22 & December-22 & Saturday & 19.166667 mins & 0.31944444 hours & 0.013310185 days\\\\\n",
       "\t A332DD20175E907E & classic\\_bike  & 2022-12-03 08:49:51 & 2022-12-03 09:05:16 & Broadway \\& Belmont Ave        & Southport Ave \\& Waveland Ave  & casual &  8 &  9 & December-22 & Saturday & 15.416667 mins & 0.25694444 hours & 0.010706019 days\\\\\n",
       "\t 37D27BD10A147058 & classic\\_bike  & 2022-12-13 06:55:00 & 2022-12-13 07:00:18 & Sangamon St \\& Lake St         & Wacker Dr \\& Washington St     & member &  6 &  7 & December-22 & Tuesday  &  5.300000 mins & 0.08833333 hours & 0.003680556 days\\\\\n",
       "\t 3945E996AE3304B8 & electric\\_bike & 2022-12-09 00:03:47 & 2022-12-09 00:15:03 & Sedgwick St \\& North Ave       & Southport Ave \\& Waveland Ave  & member &  0 &  0 & December-22 & Saturday & 11.266667 mins & 0.18777778 hours & 0.007824074 days\\\\\n",
       "\t 221B0D4EBCF9D710 & electric\\_bike & 2022-12-30 14:07:17 & 2022-12-30 14:15:19 & Broadway \\& Belmont Ave        & Southport Ave \\& Waveland Ave  & member & 14 & 14 & December-22 & Saturday &  8.033333 mins & 0.13388889 hours & 0.005578704 days\\\\\n",
       "\t 5756E0DF84CEF779 & classic\\_bike  & 2022-12-06 09:20:21 & 2022-12-06 09:34:17 & Sedgwick St \\& North Ave       & Wacker Dr \\& Washington St     & member &  9 &  9 & December-22 & Tuesday  & 13.933333 mins & 0.23222222 hours & 0.009675926 days\\\\\n",
       "\t B9645D9F60BFD279 & classic\\_bike  & 2022-12-13 08:45:54 & 2022-12-13 09:00:19 & Sedgwick St \\& North Ave       & Wacker Dr \\& Washington St     & member &  8 &  9 & December-22 & Tuesday  & 14.416667 mins & 0.24027778 hours & 0.010011574 days\\\\\n",
       "\t D5E154DDC4146EFC & electric\\_bike & 2022-12-03 09:09:55 & 2022-12-03 09:19:20 & Ashland Ave \\& Chicago Ave     & Wacker Dr \\& Washington St     & member &  9 &  9 & December-22 & Saturday &  9.416667 mins & 0.15694444 hours & 0.006539352 days\\\\\n",
       "\t 7D451A9C489FE4D2 & classic\\_bike  & 2022-12-10 09:49:06 & 2022-12-10 10:19:17 & Broadway \\& Belmont Ave        & St. Clair St \\& Erie St        & member &  9 & 10 & December-22 & Saturday & 30.183333 mins & 0.50305556 hours & 0.020960648 days\\\\\n",
       "\t ⋮ & ⋮ & ⋮ & ⋮ & ⋮ & ⋮ & ⋮ & ⋮ & ⋮ & ⋮ & ⋮ & ⋮ & ⋮ & ⋮\\\\\n",
       "\t 220E8DE61050FCF9 & classic\\_bike  & 2022-05-26 23:38:33 & 2022-05-26 23:44:58 & California Ave \\& Milwaukee Ave & California Ave \\& Milwaukee Ave & casual & 23 & 23 & May-22 & Friday   &   6.416667 mins & 0.10694444 hours & 0.004456019 days\\\\\n",
       "\t D706A1DE6C03DB04 & electric\\_bike & 2022-05-27 17:06:03 & 2022-05-27 18:57:45 & Morgan Ave \\& 14th Pl           & Morgan Ave \\& 14th Pl           & casual & 17 & 18 & May-22 & Saturday & 111.700000 mins & 1.86166667 hours & 0.077569444 days\\\\\n",
       "\t 7953BED74D928F6C & classic\\_bike  & 2022-05-10 19:50:58 & 2022-05-10 20:01:19 & California Ave \\& Division St   & California Ave \\& Milwaukee Ave & member & 19 & 20 & May-22 & Tuesday  &  10.350000 mins & 0.17250000 hours & 0.007187500 days\\\\\n",
       "\t 100BF694B077C1A6 & classic\\_bike  & 2022-05-10 16:16:28 & 2022-05-10 16:42:16 & Sangamon St \\& Washington Blvd  & Morgan Ave \\& 14th Pl           & casual & 16 & 16 & May-22 & Tuesday  &  25.800000 mins & 0.43000000 hours & 0.017916667 days\\\\\n",
       "\t 8D470810816DC6A7 & electric\\_bike & 2022-05-28 14:58:59 & 2022-05-28 15:04:15 & Spaulding Ave \\& Armitage Ave   & California Ave \\& Milwaukee Ave & casual & 14 & 15 & May-22 & Saturday &   5.266667 mins & 0.08777778 hours & 0.003657407 days\\\\\n",
       "\t 6BCBA0ED112CEFFA & docked\\_bike   & 2022-05-21 17:51:47 & 2022-05-21 18:05:40 & Kosciuszko Park                & California Ave \\& Milwaukee Ave & casual & 17 & 18 & May-22 & Saturday &  13.883333 mins & 0.23138889 hours & 0.009641204 days\\\\\n",
       "\t 306F1463853F46C3 & electric\\_bike & 2022-05-29 19:56:36 & 2022-05-29 20:00:36 & Kedzie Ave \\& Milwaukee Ave     & California Ave \\& Milwaukee Ave & casual & 19 & 20 & May-22 & Sunday   &   4.000000 mins & 0.06666667 hours & 0.002777778 days\\\\\n",
       "\t 9A51A340401243B1 & classic\\_bike  & 2022-05-30 00:45:31 & 2022-05-30 01:29:46 & Kedzie Ave \\& Milwaukee Ave     & California Ave \\& Milwaukee Ave & casual &  0 &  1 & May-22 & Monday   &  44.250000 mins & 0.73750000 hours & 0.030729167 days\\\\\n",
       "\t BD7347750E3472A7 & classic\\_bike  & 2022-05-30 00:45:13 & 2022-05-30 01:29:35 & Kedzie Ave \\& Milwaukee Ave     & California Ave \\& Milwaukee Ave & casual &  0 &  1 & May-22 & Monday   &  44.366667 mins & 0.73944444 hours & 0.030810185 days\\\\\n",
       "\t B8B21AC3E01BDA4E & electric\\_bike & 2022-05-14 17:24:40 & 2022-05-14 17:46:55 & Christiana Ave \\& Lawrence Ave  & California Ave \\& Division St   & casual & 17 & 17 & May-22 & Saturday &  22.250000 mins & 0.37083333 hours & 0.015451389 days\\\\\n",
       "\t 2817DB972921DF66 & electric\\_bike & 2022-05-22 15:16:12 & 2022-05-22 15:38:00 & Morgan Ave \\& 14th Pl           & Morgan Ave \\& 14th Pl           & member & 15 & 15 & May-22 & Sunday   &  21.800000 mins & 0.36333333 hours & 0.015138889 days\\\\\n",
       "\t 3E76D54D2FA65FAD & electric\\_bike & 2022-05-13 11:09:04 & 2022-05-13 11:16:48 & Kenosha \\& Wellington           & Kenosha \\& Wellington           & casual & 11 & 11 & May-22 & Saturday &   7.733333 mins & 0.12888889 hours & 0.005370370 days\\\\\n",
       "\t 1251D162A5856C84 & classic\\_bike  & 2022-05-20 19:48:58 & 2022-05-20 19:58:41 & California Ave \\& Milwaukee Ave & California Ave \\& Division St   & casual & 19 & 19 & May-22 & Saturday &   9.716667 mins & 0.16194444 hours & 0.006747685 days\\\\\n",
       "\t 2502827402D7BEFC & electric\\_bike & 2022-05-30 20:46:16 & 2022-05-30 20:57:40 & California Ave \\& Milwaukee Ave & California Ave \\& Division St   & casual & 20 & 20 & May-22 & Monday   &  11.400000 mins & 0.19000000 hours & 0.007916667 days\\\\\n",
       "\t A3FC429B2A65B9EC & electric\\_bike & 2022-05-17 13:00:23 & 2022-05-17 13:24:50 & California Ave \\& Milwaukee Ave & California Ave \\& Milwaukee Ave & casual & 13 & 13 & May-22 & Tuesday  &  24.450000 mins & 0.40750000 hours & 0.016979167 days\\\\\n",
       "\t C7E0CD0BAF730094 & classic\\_bike  & 2022-05-10 18:41:39 & 2022-05-10 18:56:51 & Federal St \\& Polk St           & Morgan Ave \\& 14th Pl           & member & 18 & 18 & May-22 & Tuesday  &  15.200000 mins & 0.25333333 hours & 0.010555556 days\\\\\n",
       "\t EF57CA0661167C2D & docked\\_bike   & 2022-05-16 19:08:10 & 2022-05-16 19:19:41 & California Ave \\& Milwaukee Ave & California Ave \\& Division St   & casual & 19 & 19 & May-22 & Monday   &  11.516667 mins & 0.19194444 hours & 0.007997685 days\\\\\n",
       "\t C10AF5F688813C5B & classic\\_bike  & 2022-05-10 19:40:25 & 2022-05-10 19:44:20 & Campbell Ave \\& Montrose Ave    & Campbell Ave \\& Montrose Ave    & member & 19 & 19 & May-22 & Tuesday  &   3.916667 mins & 0.06527778 hours & 0.002719907 days\\\\\n",
       "\t 5020E651786CC694 & electric\\_bike & 2022-05-13 20:08:21 & 2022-05-13 20:22:53 & Orange \\& Addison               & Orange \\& Addison               & casual & 20 & 20 & May-22 & Saturday &  14.533333 mins & 0.24222222 hours & 0.010092593 days\\\\\n",
       "\t 6D22B539D463056D & classic\\_bike  & 2022-05-31 14:03:21 & 2022-05-31 14:31:34 & California Ave \\& Milwaukee Ave & California Ave \\& Milwaukee Ave & casual & 14 & 14 & May-22 & Tuesday  &  28.216667 mins & 0.47027778 hours & 0.019594907 days\\\\\n",
       "\t 8A56951F3A8665DE & electric\\_bike & 2022-05-01 17:33:59 & 2022-05-01 17:37:15 & California Ave \\& Milwaukee Ave & California Ave \\& Milwaukee Ave & casual & 17 & 17 & May-22 & Sunday   &   3.266667 mins & 0.05444444 hours & 0.002268519 days\\\\\n",
       "\t 32AB4F449B4F8184 & electric\\_bike & 2022-05-30 21:53:35 & 2022-05-30 22:12:04 & Orange \\& Addison               & Orange \\& Addison               & casual & 21 & 22 & May-22 & Monday   &  18.483333 mins & 0.30805556 hours & 0.012835648 days\\\\\n",
       "\t CFA628793A8E1A43 & electric\\_bike & 2022-05-11 09:18:40 & 2022-05-11 09:46:51 & Orange \\& Addison               & Orange \\& Addison               & casual &  9 &  9 & May-22 & Thursday &  28.183333 mins & 0.46972222 hours & 0.019571759 days\\\\\n",
       "\t 317758B0C5D6432D & electric\\_bike & 2022-05-11 17:59:42 & 2022-05-11 18:06:10 & California Ave \\& Division St   & California Ave \\& Milwaukee Ave & casual & 17 & 18 & May-22 & Thursday &   6.466667 mins & 0.10777778 hours & 0.004490741 days\\\\\n",
       "\t 7FD953DDF58DE718 & classic\\_bike  & 2022-05-08 12:43:59 & 2022-05-08 13:10:26 & California Ave \\& Division St   & California Ave \\& Division St   & member & 12 & 13 & May-22 & Sunday   &  26.450000 mins & 0.44083333 hours & 0.018368056 days\\\\\n",
       "\t 2751A20F087A39B5 & docked\\_bike   & 2022-05-16 10:44:42 & 2022-05-16 14:48:47 & Campbell Ave \\& Montrose Ave    & Campbell Ave \\& Montrose Ave    & casual & 10 & 14 & May-22 & Monday   & 244.083333 mins & 4.06805556 hours & 0.169502315 days\\\\\n",
       "\t 9A2B15F389585725 & classic\\_bike  & 2022-05-18 16:30:26 & 2022-05-18 16:41:16 & Wood St \\& Chicago Ave          & Wood St \\& Chicago Ave          & member & 16 & 16 & May-22 & Thursday &  10.833333 mins & 0.18055556 hours & 0.007523148 days\\\\\n",
       "\t 3E1663D37D8AB75A & classic\\_bike  & 2022-05-08 13:28:53 & 2022-05-08 14:35:23 & California Ave \\& Division St   & Wood St \\& Chicago Ave          & casual & 13 & 14 & May-22 & Sunday   &  66.500000 mins & 1.10833333 hours & 0.046180556 days\\\\\n",
       "\t 73B9BC566EF662F4 & classic\\_bike  & 2022-05-06 18:52:52 & 2022-05-06 19:27:02 & Campbell Ave \\& Montrose Ave    & Campbell Ave \\& Montrose Ave    & member & 18 & 19 & May-22 & Saturday &  34.166667 mins & 0.56944444 hours & 0.023726852 days\\\\\n",
       "\t 1E6E84511515C736 & classic\\_bike  & 2022-05-30 20:57:52 & 2022-05-30 21:16:11 & California Ave \\& Milwaukee Ave & California Ave \\& Milwaukee Ave & member & 20 & 21 & May-22 & Monday   &  18.316667 mins & 0.30527778 hours & 0.012719907 days\\\\\n",
       "\\end{tabular}\n"
      ],
      "text/markdown": [
       "\n",
       "A tibble: 4370222 × 14\n",
       "\n",
       "| ride_id &lt;chr&gt; | bike_type &lt;chr&gt; | started_at &lt;dttm&gt; | ended_at &lt;dttm&gt; | start_station_name &lt;chr&gt; | end_station_name &lt;chr&gt; | customer_type &lt;chr&gt; | start_hour &lt;int&gt; | end_hour &lt;int&gt; | month &lt;chr&gt; | day_of_week &lt;chr&gt; | ride_length &lt;drtn&gt; | ride_length_hour &lt;drtn&gt; | ride_length_day &lt;drtn&gt; |\n",
       "|---|---|---|---|---|---|---|---|---|---|---|---|---|---|\n",
       "| 65DBD2F447EC51C2 | electric_bike | 2022-12-05 10:47:18 | 2022-12-05 10:56:34 | Clifton Ave &amp; Armitage Ave    | Sedgwick St &amp; Webster Ave     | member | 10 | 10 | December-22 | Monday   |  9.266667 mins | 0.15444444 hours | 0.006435185 days |\n",
       "| 0C201AA7EA0EA1AD | classic_bike  | 2022-12-18 06:42:33 | 2022-12-18 07:08:44 | Broadway &amp; Belmont Ave        | Sedgwick St &amp; Webster Ave     | casual |  6 |  7 | December-22 | Sunday   | 26.183333 mins | 0.43638889 hours | 0.018182870 days |\n",
       "| E0B148CCB358A49D | electric_bike | 2022-12-13 08:47:45 | 2022-12-13 08:59:51 | Sangamon St &amp; Lake St         | St. Clair St &amp; Erie St        | member |  8 |  8 | December-22 | Tuesday  | 12.100000 mins | 0.20166667 hours | 0.008402778 days |\n",
       "| 54C5775D2B7C9188 | classic_bike  | 2022-12-13 18:50:47 | 2022-12-13 19:19:48 | Shields Ave &amp; 31st St         | Damen Ave &amp; Madison St        | member | 18 | 19 | December-22 | Tuesday  | 29.016667 mins | 0.48361111 hours | 0.020150463 days |\n",
       "| A4891F78776D35DF | classic_bike  | 2022-12-14 16:13:39 | 2022-12-14 16:27:50 | Ashland Ave &amp; Chicago Ave     | Damen Ave &amp; Charleston St     | casual | 16 | 16 | December-22 | Thursday | 14.183333 mins | 0.23638889 hours | 0.009849537 days |\n",
       "| DB91D9B8DFACA07A | electric_bike | 2022-12-02 15:24:47 | 2022-12-02 15:34:14 | Wabash Ave &amp; 9th St           | Wacker Dr &amp; Washington St     | member | 15 | 15 | December-22 | Saturday |  9.450000 mins | 0.15750000 hours | 0.006562500 days |\n",
       "| 6AD396C5760CC992 | classic_bike  | 2022-12-20 09:02:03 | 2022-12-20 09:19:54 | Leavitt St &amp; Chicago Ave      | Wacker Dr &amp; Washington St     | member |  9 |  9 | December-22 | Tuesday  | 17.850000 mins | 0.29750000 hours | 0.012395833 days |\n",
       "| 8D736E35E0075504 | classic_bike  | 2022-12-13 14:19:49 | 2022-12-13 14:28:28 | Humboldt Blvd &amp; Armitage Ave  | Spaulding Ave &amp; Armitage Ave  | member | 14 | 14 | December-22 | Tuesday  |  8.650000 mins | 0.14416667 hours | 0.006006944 days |\n",
       "| DDAB881F96C51DC8 | classic_bike  | 2022-12-13 07:38:07 | 2022-12-13 07:57:01 | Canal St &amp; Adams St           | St. Clair St &amp; Erie St        | member |  7 |  7 | December-22 | Tuesday  | 18.900000 mins | 0.31500000 hours | 0.013125000 days |\n",
       "| 8DDBAE51E55DAEEF | classic_bike  | 2022-12-21 08:57:42 | 2022-12-21 09:10:59 | Greenview Ave &amp; Fullerton Ave | Southport Ave &amp; Waveland Ave  | member |  8 |  9 | December-22 | Thursday | 13.283333 mins | 0.22138889 hours | 0.009224537 days |\n",
       "| 37BCF0C0B553F0A1 | classic_bike  | 2022-12-12 17:56:26 | 2022-12-12 18:02:41 | Canal St &amp; Adams St           | Sangamon St &amp; Washington Blvd | member | 17 | 18 | December-22 | Monday   |  6.250000 mins | 0.10416667 hours | 0.004340278 days |\n",
       "| 1B133362A3F86A2C | classic_bike  | 2022-12-06 17:07:34 | 2022-12-06 17:14:22 | Canal St &amp; Adams St           | Sangamon St &amp; Washington Blvd | member | 17 | 17 | December-22 | Tuesday  |  6.800000 mins | 0.11333333 hours | 0.004722222 days |\n",
       "| DF0DC4C1FF01E3EF | classic_bike  | 2022-12-29 17:46:08 | 2022-12-29 17:52:34 | Canal St &amp; Adams St           | Sangamon St &amp; Washington Blvd | member | 17 | 17 | December-22 | Friday   |  6.433333 mins | 0.10722222 hours | 0.004467593 days |\n",
       "| 0D58B8FC23315D59 | classic_bike  | 2022-12-01 21:38:56 | 2022-12-01 21:46:05 | Canal St &amp; Adams St           | Sangamon St &amp; Washington Blvd | member | 21 | 21 | December-22 | Friday   |  7.150000 mins | 0.11916667 hours | 0.004965278 days |\n",
       "| 462D7A9C0323B0C9 | classic_bike  | 2022-12-03 15:52:58 | 2022-12-03 15:56:26 | Humboldt Blvd &amp; Armitage Ave  | Spaulding Ave &amp; Armitage Ave  | member | 15 | 15 | December-22 | Saturday |  3.466667 mins | 0.05777778 hours | 0.002407407 days |\n",
       "| 9F827DE27022F311 | electric_bike | 2022-12-01 07:08:13 | 2022-12-01 07:18:04 | Ashland Ave &amp; Chicago Ave     | Wacker Dr &amp; Washington St     | member |  7 |  7 | December-22 | Friday   |  9.850000 mins | 0.16416667 hours | 0.006840278 days |\n",
       "| 58E5482C771A98BE | classic_bike  | 2022-12-28 22:01:54 | 2022-12-28 22:11:05 | Broadway &amp; Belmont Ave        | Southport Ave &amp; Waveland Ave  | member | 22 | 22 | December-22 | Thursday |  9.183333 mins | 0.15305556 hours | 0.006377315 days |\n",
       "| 46FD5C26A4020ED1 | classic_bike  | 2022-12-19 11:28:51 | 2022-12-19 11:52:48 | Sedgwick St &amp; North Ave       | St. Clair St &amp; Erie St        | member | 11 | 11 | December-22 | Monday   | 23.950000 mins | 0.39916667 hours | 0.016631944 days |\n",
       "| F27780BD0F2E0C01 | classic_bike  | 2022-12-21 16:51:20 | 2022-12-21 17:00:14 | Malcolm X College             | Sangamon St &amp; Washington Blvd | member | 16 | 17 | December-22 | Thursday |  8.900000 mins | 0.14833333 hours | 0.006180556 days |\n",
       "| 995F741523A9DEAD | classic_bike  | 2022-12-26 10:46:06 | 2022-12-26 11:12:30 | Ashland Ave &amp; Chicago Ave     | St. Clair St &amp; Erie St        | member | 10 | 11 | December-22 | Monday   | 26.400000 mins | 0.44000000 hours | 0.018333333 days |\n",
       "| FF9A7FC5BCB6D029 | electric_bike | 2022-12-01 09:14:39 | 2022-12-01 09:26:56 | Sedgwick St &amp; North Ave       | Wacker Dr &amp; Washington St     | member |  9 |  9 | December-22 | Friday   | 12.283333 mins | 0.20472222 hours | 0.008530093 days |\n",
       "| 1B2898656A62F1FB | electric_bike | 2022-12-10 21:47:52 | 2022-12-10 22:07:02 | Clifton Ave &amp; Armitage Ave    | Spaulding Ave &amp; Armitage Ave  | casual | 21 | 22 | December-22 | Saturday | 19.166667 mins | 0.31944444 hours | 0.013310185 days |\n",
       "| A332DD20175E907E | classic_bike  | 2022-12-03 08:49:51 | 2022-12-03 09:05:16 | Broadway &amp; Belmont Ave        | Southport Ave &amp; Waveland Ave  | casual |  8 |  9 | December-22 | Saturday | 15.416667 mins | 0.25694444 hours | 0.010706019 days |\n",
       "| 37D27BD10A147058 | classic_bike  | 2022-12-13 06:55:00 | 2022-12-13 07:00:18 | Sangamon St &amp; Lake St         | Wacker Dr &amp; Washington St     | member |  6 |  7 | December-22 | Tuesday  |  5.300000 mins | 0.08833333 hours | 0.003680556 days |\n",
       "| 3945E996AE3304B8 | electric_bike | 2022-12-09 00:03:47 | 2022-12-09 00:15:03 | Sedgwick St &amp; North Ave       | Southport Ave &amp; Waveland Ave  | member |  0 |  0 | December-22 | Saturday | 11.266667 mins | 0.18777778 hours | 0.007824074 days |\n",
       "| 221B0D4EBCF9D710 | electric_bike | 2022-12-30 14:07:17 | 2022-12-30 14:15:19 | Broadway &amp; Belmont Ave        | Southport Ave &amp; Waveland Ave  | member | 14 | 14 | December-22 | Saturday |  8.033333 mins | 0.13388889 hours | 0.005578704 days |\n",
       "| 5756E0DF84CEF779 | classic_bike  | 2022-12-06 09:20:21 | 2022-12-06 09:34:17 | Sedgwick St &amp; North Ave       | Wacker Dr &amp; Washington St     | member |  9 |  9 | December-22 | Tuesday  | 13.933333 mins | 0.23222222 hours | 0.009675926 days |\n",
       "| B9645D9F60BFD279 | classic_bike  | 2022-12-13 08:45:54 | 2022-12-13 09:00:19 | Sedgwick St &amp; North Ave       | Wacker Dr &amp; Washington St     | member |  8 |  9 | December-22 | Tuesday  | 14.416667 mins | 0.24027778 hours | 0.010011574 days |\n",
       "| D5E154DDC4146EFC | electric_bike | 2022-12-03 09:09:55 | 2022-12-03 09:19:20 | Ashland Ave &amp; Chicago Ave     | Wacker Dr &amp; Washington St     | member |  9 |  9 | December-22 | Saturday |  9.416667 mins | 0.15694444 hours | 0.006539352 days |\n",
       "| 7D451A9C489FE4D2 | classic_bike  | 2022-12-10 09:49:06 | 2022-12-10 10:19:17 | Broadway &amp; Belmont Ave        | St. Clair St &amp; Erie St        | member |  9 | 10 | December-22 | Saturday | 30.183333 mins | 0.50305556 hours | 0.020960648 days |\n",
       "| ⋮ | ⋮ | ⋮ | ⋮ | ⋮ | ⋮ | ⋮ | ⋮ | ⋮ | ⋮ | ⋮ | ⋮ | ⋮ | ⋮ |\n",
       "| 220E8DE61050FCF9 | classic_bike  | 2022-05-26 23:38:33 | 2022-05-26 23:44:58 | California Ave &amp; Milwaukee Ave | California Ave &amp; Milwaukee Ave | casual | 23 | 23 | May-22 | Friday   |   6.416667 mins | 0.10694444 hours | 0.004456019 days |\n",
       "| D706A1DE6C03DB04 | electric_bike | 2022-05-27 17:06:03 | 2022-05-27 18:57:45 | Morgan Ave &amp; 14th Pl           | Morgan Ave &amp; 14th Pl           | casual | 17 | 18 | May-22 | Saturday | 111.700000 mins | 1.86166667 hours | 0.077569444 days |\n",
       "| 7953BED74D928F6C | classic_bike  | 2022-05-10 19:50:58 | 2022-05-10 20:01:19 | California Ave &amp; Division St   | California Ave &amp; Milwaukee Ave | member | 19 | 20 | May-22 | Tuesday  |  10.350000 mins | 0.17250000 hours | 0.007187500 days |\n",
       "| 100BF694B077C1A6 | classic_bike  | 2022-05-10 16:16:28 | 2022-05-10 16:42:16 | Sangamon St &amp; Washington Blvd  | Morgan Ave &amp; 14th Pl           | casual | 16 | 16 | May-22 | Tuesday  |  25.800000 mins | 0.43000000 hours | 0.017916667 days |\n",
       "| 8D470810816DC6A7 | electric_bike | 2022-05-28 14:58:59 | 2022-05-28 15:04:15 | Spaulding Ave &amp; Armitage Ave   | California Ave &amp; Milwaukee Ave | casual | 14 | 15 | May-22 | Saturday |   5.266667 mins | 0.08777778 hours | 0.003657407 days |\n",
       "| 6BCBA0ED112CEFFA | docked_bike   | 2022-05-21 17:51:47 | 2022-05-21 18:05:40 | Kosciuszko Park                | California Ave &amp; Milwaukee Ave | casual | 17 | 18 | May-22 | Saturday |  13.883333 mins | 0.23138889 hours | 0.009641204 days |\n",
       "| 306F1463853F46C3 | electric_bike | 2022-05-29 19:56:36 | 2022-05-29 20:00:36 | Kedzie Ave &amp; Milwaukee Ave     | California Ave &amp; Milwaukee Ave | casual | 19 | 20 | May-22 | Sunday   |   4.000000 mins | 0.06666667 hours | 0.002777778 days |\n",
       "| 9A51A340401243B1 | classic_bike  | 2022-05-30 00:45:31 | 2022-05-30 01:29:46 | Kedzie Ave &amp; Milwaukee Ave     | California Ave &amp; Milwaukee Ave | casual |  0 |  1 | May-22 | Monday   |  44.250000 mins | 0.73750000 hours | 0.030729167 days |\n",
       "| BD7347750E3472A7 | classic_bike  | 2022-05-30 00:45:13 | 2022-05-30 01:29:35 | Kedzie Ave &amp; Milwaukee Ave     | California Ave &amp; Milwaukee Ave | casual |  0 |  1 | May-22 | Monday   |  44.366667 mins | 0.73944444 hours | 0.030810185 days |\n",
       "| B8B21AC3E01BDA4E | electric_bike | 2022-05-14 17:24:40 | 2022-05-14 17:46:55 | Christiana Ave &amp; Lawrence Ave  | California Ave &amp; Division St   | casual | 17 | 17 | May-22 | Saturday |  22.250000 mins | 0.37083333 hours | 0.015451389 days |\n",
       "| 2817DB972921DF66 | electric_bike | 2022-05-22 15:16:12 | 2022-05-22 15:38:00 | Morgan Ave &amp; 14th Pl           | Morgan Ave &amp; 14th Pl           | member | 15 | 15 | May-22 | Sunday   |  21.800000 mins | 0.36333333 hours | 0.015138889 days |\n",
       "| 3E76D54D2FA65FAD | electric_bike | 2022-05-13 11:09:04 | 2022-05-13 11:16:48 | Kenosha &amp; Wellington           | Kenosha &amp; Wellington           | casual | 11 | 11 | May-22 | Saturday |   7.733333 mins | 0.12888889 hours | 0.005370370 days |\n",
       "| 1251D162A5856C84 | classic_bike  | 2022-05-20 19:48:58 | 2022-05-20 19:58:41 | California Ave &amp; Milwaukee Ave | California Ave &amp; Division St   | casual | 19 | 19 | May-22 | Saturday |   9.716667 mins | 0.16194444 hours | 0.006747685 days |\n",
       "| 2502827402D7BEFC | electric_bike | 2022-05-30 20:46:16 | 2022-05-30 20:57:40 | California Ave &amp; Milwaukee Ave | California Ave &amp; Division St   | casual | 20 | 20 | May-22 | Monday   |  11.400000 mins | 0.19000000 hours | 0.007916667 days |\n",
       "| A3FC429B2A65B9EC | electric_bike | 2022-05-17 13:00:23 | 2022-05-17 13:24:50 | California Ave &amp; Milwaukee Ave | California Ave &amp; Milwaukee Ave | casual | 13 | 13 | May-22 | Tuesday  |  24.450000 mins | 0.40750000 hours | 0.016979167 days |\n",
       "| C7E0CD0BAF730094 | classic_bike  | 2022-05-10 18:41:39 | 2022-05-10 18:56:51 | Federal St &amp; Polk St           | Morgan Ave &amp; 14th Pl           | member | 18 | 18 | May-22 | Tuesday  |  15.200000 mins | 0.25333333 hours | 0.010555556 days |\n",
       "| EF57CA0661167C2D | docked_bike   | 2022-05-16 19:08:10 | 2022-05-16 19:19:41 | California Ave &amp; Milwaukee Ave | California Ave &amp; Division St   | casual | 19 | 19 | May-22 | Monday   |  11.516667 mins | 0.19194444 hours | 0.007997685 days |\n",
       "| C10AF5F688813C5B | classic_bike  | 2022-05-10 19:40:25 | 2022-05-10 19:44:20 | Campbell Ave &amp; Montrose Ave    | Campbell Ave &amp; Montrose Ave    | member | 19 | 19 | May-22 | Tuesday  |   3.916667 mins | 0.06527778 hours | 0.002719907 days |\n",
       "| 5020E651786CC694 | electric_bike | 2022-05-13 20:08:21 | 2022-05-13 20:22:53 | Orange &amp; Addison               | Orange &amp; Addison               | casual | 20 | 20 | May-22 | Saturday |  14.533333 mins | 0.24222222 hours | 0.010092593 days |\n",
       "| 6D22B539D463056D | classic_bike  | 2022-05-31 14:03:21 | 2022-05-31 14:31:34 | California Ave &amp; Milwaukee Ave | California Ave &amp; Milwaukee Ave | casual | 14 | 14 | May-22 | Tuesday  |  28.216667 mins | 0.47027778 hours | 0.019594907 days |\n",
       "| 8A56951F3A8665DE | electric_bike | 2022-05-01 17:33:59 | 2022-05-01 17:37:15 | California Ave &amp; Milwaukee Ave | California Ave &amp; Milwaukee Ave | casual | 17 | 17 | May-22 | Sunday   |   3.266667 mins | 0.05444444 hours | 0.002268519 days |\n",
       "| 32AB4F449B4F8184 | electric_bike | 2022-05-30 21:53:35 | 2022-05-30 22:12:04 | Orange &amp; Addison               | Orange &amp; Addison               | casual | 21 | 22 | May-22 | Monday   |  18.483333 mins | 0.30805556 hours | 0.012835648 days |\n",
       "| CFA628793A8E1A43 | electric_bike | 2022-05-11 09:18:40 | 2022-05-11 09:46:51 | Orange &amp; Addison               | Orange &amp; Addison               | casual |  9 |  9 | May-22 | Thursday |  28.183333 mins | 0.46972222 hours | 0.019571759 days |\n",
       "| 317758B0C5D6432D | electric_bike | 2022-05-11 17:59:42 | 2022-05-11 18:06:10 | California Ave &amp; Division St   | California Ave &amp; Milwaukee Ave | casual | 17 | 18 | May-22 | Thursday |   6.466667 mins | 0.10777778 hours | 0.004490741 days |\n",
       "| 7FD953DDF58DE718 | classic_bike  | 2022-05-08 12:43:59 | 2022-05-08 13:10:26 | California Ave &amp; Division St   | California Ave &amp; Division St   | member | 12 | 13 | May-22 | Sunday   |  26.450000 mins | 0.44083333 hours | 0.018368056 days |\n",
       "| 2751A20F087A39B5 | docked_bike   | 2022-05-16 10:44:42 | 2022-05-16 14:48:47 | Campbell Ave &amp; Montrose Ave    | Campbell Ave &amp; Montrose Ave    | casual | 10 | 14 | May-22 | Monday   | 244.083333 mins | 4.06805556 hours | 0.169502315 days |\n",
       "| 9A2B15F389585725 | classic_bike  | 2022-05-18 16:30:26 | 2022-05-18 16:41:16 | Wood St &amp; Chicago Ave          | Wood St &amp; Chicago Ave          | member | 16 | 16 | May-22 | Thursday |  10.833333 mins | 0.18055556 hours | 0.007523148 days |\n",
       "| 3E1663D37D8AB75A | classic_bike  | 2022-05-08 13:28:53 | 2022-05-08 14:35:23 | California Ave &amp; Division St   | Wood St &amp; Chicago Ave          | casual | 13 | 14 | May-22 | Sunday   |  66.500000 mins | 1.10833333 hours | 0.046180556 days |\n",
       "| 73B9BC566EF662F4 | classic_bike  | 2022-05-06 18:52:52 | 2022-05-06 19:27:02 | Campbell Ave &amp; Montrose Ave    | Campbell Ave &amp; Montrose Ave    | member | 18 | 19 | May-22 | Saturday |  34.166667 mins | 0.56944444 hours | 0.023726852 days |\n",
       "| 1E6E84511515C736 | classic_bike  | 2022-05-30 20:57:52 | 2022-05-30 21:16:11 | California Ave &amp; Milwaukee Ave | California Ave &amp; Milwaukee Ave | member | 20 | 21 | May-22 | Monday   |  18.316667 mins | 0.30527778 hours | 0.012719907 days |\n",
       "\n"
      ],
      "text/plain": [
       "        ride_id          bike_type     started_at          ended_at           \n",
       "1       65DBD2F447EC51C2 electric_bike 2022-12-05 10:47:18 2022-12-05 10:56:34\n",
       "2       0C201AA7EA0EA1AD classic_bike  2022-12-18 06:42:33 2022-12-18 07:08:44\n",
       "3       E0B148CCB358A49D electric_bike 2022-12-13 08:47:45 2022-12-13 08:59:51\n",
       "4       54C5775D2B7C9188 classic_bike  2022-12-13 18:50:47 2022-12-13 19:19:48\n",
       "5       A4891F78776D35DF classic_bike  2022-12-14 16:13:39 2022-12-14 16:27:50\n",
       "6       DB91D9B8DFACA07A electric_bike 2022-12-02 15:24:47 2022-12-02 15:34:14\n",
       "7       6AD396C5760CC992 classic_bike  2022-12-20 09:02:03 2022-12-20 09:19:54\n",
       "8       8D736E35E0075504 classic_bike  2022-12-13 14:19:49 2022-12-13 14:28:28\n",
       "9       DDAB881F96C51DC8 classic_bike  2022-12-13 07:38:07 2022-12-13 07:57:01\n",
       "10      8DDBAE51E55DAEEF classic_bike  2022-12-21 08:57:42 2022-12-21 09:10:59\n",
       "11      37BCF0C0B553F0A1 classic_bike  2022-12-12 17:56:26 2022-12-12 18:02:41\n",
       "12      1B133362A3F86A2C classic_bike  2022-12-06 17:07:34 2022-12-06 17:14:22\n",
       "13      DF0DC4C1FF01E3EF classic_bike  2022-12-29 17:46:08 2022-12-29 17:52:34\n",
       "14      0D58B8FC23315D59 classic_bike  2022-12-01 21:38:56 2022-12-01 21:46:05\n",
       "15      462D7A9C0323B0C9 classic_bike  2022-12-03 15:52:58 2022-12-03 15:56:26\n",
       "16      9F827DE27022F311 electric_bike 2022-12-01 07:08:13 2022-12-01 07:18:04\n",
       "17      58E5482C771A98BE classic_bike  2022-12-28 22:01:54 2022-12-28 22:11:05\n",
       "18      46FD5C26A4020ED1 classic_bike  2022-12-19 11:28:51 2022-12-19 11:52:48\n",
       "19      F27780BD0F2E0C01 classic_bike  2022-12-21 16:51:20 2022-12-21 17:00:14\n",
       "20      995F741523A9DEAD classic_bike  2022-12-26 10:46:06 2022-12-26 11:12:30\n",
       "21      FF9A7FC5BCB6D029 electric_bike 2022-12-01 09:14:39 2022-12-01 09:26:56\n",
       "22      1B2898656A62F1FB electric_bike 2022-12-10 21:47:52 2022-12-10 22:07:02\n",
       "23      A332DD20175E907E classic_bike  2022-12-03 08:49:51 2022-12-03 09:05:16\n",
       "24      37D27BD10A147058 classic_bike  2022-12-13 06:55:00 2022-12-13 07:00:18\n",
       "25      3945E996AE3304B8 electric_bike 2022-12-09 00:03:47 2022-12-09 00:15:03\n",
       "26      221B0D4EBCF9D710 electric_bike 2022-12-30 14:07:17 2022-12-30 14:15:19\n",
       "27      5756E0DF84CEF779 classic_bike  2022-12-06 09:20:21 2022-12-06 09:34:17\n",
       "28      B9645D9F60BFD279 classic_bike  2022-12-13 08:45:54 2022-12-13 09:00:19\n",
       "29      D5E154DDC4146EFC electric_bike 2022-12-03 09:09:55 2022-12-03 09:19:20\n",
       "30      7D451A9C489FE4D2 classic_bike  2022-12-10 09:49:06 2022-12-10 10:19:17\n",
       "⋮       ⋮                ⋮             ⋮                   ⋮                  \n",
       "4370193 220E8DE61050FCF9 classic_bike  2022-05-26 23:38:33 2022-05-26 23:44:58\n",
       "4370194 D706A1DE6C03DB04 electric_bike 2022-05-27 17:06:03 2022-05-27 18:57:45\n",
       "4370195 7953BED74D928F6C classic_bike  2022-05-10 19:50:58 2022-05-10 20:01:19\n",
       "4370196 100BF694B077C1A6 classic_bike  2022-05-10 16:16:28 2022-05-10 16:42:16\n",
       "4370197 8D470810816DC6A7 electric_bike 2022-05-28 14:58:59 2022-05-28 15:04:15\n",
       "4370198 6BCBA0ED112CEFFA docked_bike   2022-05-21 17:51:47 2022-05-21 18:05:40\n",
       "4370199 306F1463853F46C3 electric_bike 2022-05-29 19:56:36 2022-05-29 20:00:36\n",
       "4370200 9A51A340401243B1 classic_bike  2022-05-30 00:45:31 2022-05-30 01:29:46\n",
       "4370201 BD7347750E3472A7 classic_bike  2022-05-30 00:45:13 2022-05-30 01:29:35\n",
       "4370202 B8B21AC3E01BDA4E electric_bike 2022-05-14 17:24:40 2022-05-14 17:46:55\n",
       "4370203 2817DB972921DF66 electric_bike 2022-05-22 15:16:12 2022-05-22 15:38:00\n",
       "4370204 3E76D54D2FA65FAD electric_bike 2022-05-13 11:09:04 2022-05-13 11:16:48\n",
       "4370205 1251D162A5856C84 classic_bike  2022-05-20 19:48:58 2022-05-20 19:58:41\n",
       "4370206 2502827402D7BEFC electric_bike 2022-05-30 20:46:16 2022-05-30 20:57:40\n",
       "4370207 A3FC429B2A65B9EC electric_bike 2022-05-17 13:00:23 2022-05-17 13:24:50\n",
       "4370208 C7E0CD0BAF730094 classic_bike  2022-05-10 18:41:39 2022-05-10 18:56:51\n",
       "4370209 EF57CA0661167C2D docked_bike   2022-05-16 19:08:10 2022-05-16 19:19:41\n",
       "4370210 C10AF5F688813C5B classic_bike  2022-05-10 19:40:25 2022-05-10 19:44:20\n",
       "4370211 5020E651786CC694 electric_bike 2022-05-13 20:08:21 2022-05-13 20:22:53\n",
       "4370212 6D22B539D463056D classic_bike  2022-05-31 14:03:21 2022-05-31 14:31:34\n",
       "4370213 8A56951F3A8665DE electric_bike 2022-05-01 17:33:59 2022-05-01 17:37:15\n",
       "4370214 32AB4F449B4F8184 electric_bike 2022-05-30 21:53:35 2022-05-30 22:12:04\n",
       "4370215 CFA628793A8E1A43 electric_bike 2022-05-11 09:18:40 2022-05-11 09:46:51\n",
       "4370216 317758B0C5D6432D electric_bike 2022-05-11 17:59:42 2022-05-11 18:06:10\n",
       "4370217 7FD953DDF58DE718 classic_bike  2022-05-08 12:43:59 2022-05-08 13:10:26\n",
       "4370218 2751A20F087A39B5 docked_bike   2022-05-16 10:44:42 2022-05-16 14:48:47\n",
       "4370219 9A2B15F389585725 classic_bike  2022-05-18 16:30:26 2022-05-18 16:41:16\n",
       "4370220 3E1663D37D8AB75A classic_bike  2022-05-08 13:28:53 2022-05-08 14:35:23\n",
       "4370221 73B9BC566EF662F4 classic_bike  2022-05-06 18:52:52 2022-05-06 19:27:02\n",
       "4370222 1E6E84511515C736 classic_bike  2022-05-30 20:57:52 2022-05-30 21:16:11\n",
       "        start_station_name             end_station_name              \n",
       "1       Clifton Ave & Armitage Ave     Sedgwick St & Webster Ave     \n",
       "2       Broadway & Belmont Ave         Sedgwick St & Webster Ave     \n",
       "3       Sangamon St & Lake St          St. Clair St & Erie St        \n",
       "4       Shields Ave & 31st St          Damen Ave & Madison St        \n",
       "5       Ashland Ave & Chicago Ave      Damen Ave & Charleston St     \n",
       "6       Wabash Ave & 9th St            Wacker Dr & Washington St     \n",
       "7       Leavitt St & Chicago Ave       Wacker Dr & Washington St     \n",
       "8       Humboldt Blvd & Armitage Ave   Spaulding Ave & Armitage Ave  \n",
       "9       Canal St & Adams St            St. Clair St & Erie St        \n",
       "10      Greenview Ave & Fullerton Ave  Southport Ave & Waveland Ave  \n",
       "11      Canal St & Adams St            Sangamon St & Washington Blvd \n",
       "12      Canal St & Adams St            Sangamon St & Washington Blvd \n",
       "13      Canal St & Adams St            Sangamon St & Washington Blvd \n",
       "14      Canal St & Adams St            Sangamon St & Washington Blvd \n",
       "15      Humboldt Blvd & Armitage Ave   Spaulding Ave & Armitage Ave  \n",
       "16      Ashland Ave & Chicago Ave      Wacker Dr & Washington St     \n",
       "17      Broadway & Belmont Ave         Southport Ave & Waveland Ave  \n",
       "18      Sedgwick St & North Ave        St. Clair St & Erie St        \n",
       "19      Malcolm X College              Sangamon St & Washington Blvd \n",
       "20      Ashland Ave & Chicago Ave      St. Clair St & Erie St        \n",
       "21      Sedgwick St & North Ave        Wacker Dr & Washington St     \n",
       "22      Clifton Ave & Armitage Ave     Spaulding Ave & Armitage Ave  \n",
       "23      Broadway & Belmont Ave         Southport Ave & Waveland Ave  \n",
       "24      Sangamon St & Lake St          Wacker Dr & Washington St     \n",
       "25      Sedgwick St & North Ave        Southport Ave & Waveland Ave  \n",
       "26      Broadway & Belmont Ave         Southport Ave & Waveland Ave  \n",
       "27      Sedgwick St & North Ave        Wacker Dr & Washington St     \n",
       "28      Sedgwick St & North Ave        Wacker Dr & Washington St     \n",
       "29      Ashland Ave & Chicago Ave      Wacker Dr & Washington St     \n",
       "30      Broadway & Belmont Ave         St. Clair St & Erie St        \n",
       "⋮       ⋮                              ⋮                             \n",
       "4370193 California Ave & Milwaukee Ave California Ave & Milwaukee Ave\n",
       "4370194 Morgan Ave & 14th Pl           Morgan Ave & 14th Pl          \n",
       "4370195 California Ave & Division St   California Ave & Milwaukee Ave\n",
       "4370196 Sangamon St & Washington Blvd  Morgan Ave & 14th Pl          \n",
       "4370197 Spaulding Ave & Armitage Ave   California Ave & Milwaukee Ave\n",
       "4370198 Kosciuszko Park                California Ave & Milwaukee Ave\n",
       "4370199 Kedzie Ave & Milwaukee Ave     California Ave & Milwaukee Ave\n",
       "4370200 Kedzie Ave & Milwaukee Ave     California Ave & Milwaukee Ave\n",
       "4370201 Kedzie Ave & Milwaukee Ave     California Ave & Milwaukee Ave\n",
       "4370202 Christiana Ave & Lawrence Ave  California Ave & Division St  \n",
       "4370203 Morgan Ave & 14th Pl           Morgan Ave & 14th Pl          \n",
       "4370204 Kenosha & Wellington           Kenosha & Wellington          \n",
       "4370205 California Ave & Milwaukee Ave California Ave & Division St  \n",
       "4370206 California Ave & Milwaukee Ave California Ave & Division St  \n",
       "4370207 California Ave & Milwaukee Ave California Ave & Milwaukee Ave\n",
       "4370208 Federal St & Polk St           Morgan Ave & 14th Pl          \n",
       "4370209 California Ave & Milwaukee Ave California Ave & Division St  \n",
       "4370210 Campbell Ave & Montrose Ave    Campbell Ave & Montrose Ave   \n",
       "4370211 Orange & Addison               Orange & Addison              \n",
       "4370212 California Ave & Milwaukee Ave California Ave & Milwaukee Ave\n",
       "4370213 California Ave & Milwaukee Ave California Ave & Milwaukee Ave\n",
       "4370214 Orange & Addison               Orange & Addison              \n",
       "4370215 Orange & Addison               Orange & Addison              \n",
       "4370216 California Ave & Division St   California Ave & Milwaukee Ave\n",
       "4370217 California Ave & Division St   California Ave & Division St  \n",
       "4370218 Campbell Ave & Montrose Ave    Campbell Ave & Montrose Ave   \n",
       "4370219 Wood St & Chicago Ave          Wood St & Chicago Ave         \n",
       "4370220 California Ave & Division St   Wood St & Chicago Ave         \n",
       "4370221 Campbell Ave & Montrose Ave    Campbell Ave & Montrose Ave   \n",
       "4370222 California Ave & Milwaukee Ave California Ave & Milwaukee Ave\n",
       "        customer_type start_hour end_hour month       day_of_week\n",
       "1       member        10         10       December-22 Monday     \n",
       "2       casual         6          7       December-22 Sunday     \n",
       "3       member         8          8       December-22 Tuesday    \n",
       "4       member        18         19       December-22 Tuesday    \n",
       "5       casual        16         16       December-22 Thursday   \n",
       "6       member        15         15       December-22 Saturday   \n",
       "7       member         9          9       December-22 Tuesday    \n",
       "8       member        14         14       December-22 Tuesday    \n",
       "9       member         7          7       December-22 Tuesday    \n",
       "10      member         8          9       December-22 Thursday   \n",
       "11      member        17         18       December-22 Monday     \n",
       "12      member        17         17       December-22 Tuesday    \n",
       "13      member        17         17       December-22 Friday     \n",
       "14      member        21         21       December-22 Friday     \n",
       "15      member        15         15       December-22 Saturday   \n",
       "16      member         7          7       December-22 Friday     \n",
       "17      member        22         22       December-22 Thursday   \n",
       "18      member        11         11       December-22 Monday     \n",
       "19      member        16         17       December-22 Thursday   \n",
       "20      member        10         11       December-22 Monday     \n",
       "21      member         9          9       December-22 Friday     \n",
       "22      casual        21         22       December-22 Saturday   \n",
       "23      casual         8          9       December-22 Saturday   \n",
       "24      member         6          7       December-22 Tuesday    \n",
       "25      member         0          0       December-22 Saturday   \n",
       "26      member        14         14       December-22 Saturday   \n",
       "27      member         9          9       December-22 Tuesday    \n",
       "28      member         8          9       December-22 Tuesday    \n",
       "29      member         9          9       December-22 Saturday   \n",
       "30      member         9         10       December-22 Saturday   \n",
       "⋮       ⋮             ⋮          ⋮        ⋮           ⋮          \n",
       "4370193 casual        23         23       May-22      Friday     \n",
       "4370194 casual        17         18       May-22      Saturday   \n",
       "4370195 member        19         20       May-22      Tuesday    \n",
       "4370196 casual        16         16       May-22      Tuesday    \n",
       "4370197 casual        14         15       May-22      Saturday   \n",
       "4370198 casual        17         18       May-22      Saturday   \n",
       "4370199 casual        19         20       May-22      Sunday     \n",
       "4370200 casual         0          1       May-22      Monday     \n",
       "4370201 casual         0          1       May-22      Monday     \n",
       "4370202 casual        17         17       May-22      Saturday   \n",
       "4370203 member        15         15       May-22      Sunday     \n",
       "4370204 casual        11         11       May-22      Saturday   \n",
       "4370205 casual        19         19       May-22      Saturday   \n",
       "4370206 casual        20         20       May-22      Monday     \n",
       "4370207 casual        13         13       May-22      Tuesday    \n",
       "4370208 member        18         18       May-22      Tuesday    \n",
       "4370209 casual        19         19       May-22      Monday     \n",
       "4370210 member        19         19       May-22      Tuesday    \n",
       "4370211 casual        20         20       May-22      Saturday   \n",
       "4370212 casual        14         14       May-22      Tuesday    \n",
       "4370213 casual        17         17       May-22      Sunday     \n",
       "4370214 casual        21         22       May-22      Monday     \n",
       "4370215 casual         9          9       May-22      Thursday   \n",
       "4370216 casual        17         18       May-22      Thursday   \n",
       "4370217 member        12         13       May-22      Sunday     \n",
       "4370218 casual        10         14       May-22      Monday     \n",
       "4370219 member        16         16       May-22      Thursday   \n",
       "4370220 casual        13         14       May-22      Sunday     \n",
       "4370221 member        18         19       May-22      Saturday   \n",
       "4370222 member        20         21       May-22      Monday     \n",
       "        ride_length     ride_length_hour ride_length_day \n",
       "1        9.266667 mins  0.15444444 hours 0.006435185 days\n",
       "2       26.183333 mins  0.43638889 hours 0.018182870 days\n",
       "3       12.100000 mins  0.20166667 hours 0.008402778 days\n",
       "4       29.016667 mins  0.48361111 hours 0.020150463 days\n",
       "5       14.183333 mins  0.23638889 hours 0.009849537 days\n",
       "6        9.450000 mins  0.15750000 hours 0.006562500 days\n",
       "7       17.850000 mins  0.29750000 hours 0.012395833 days\n",
       "8        8.650000 mins  0.14416667 hours 0.006006944 days\n",
       "9       18.900000 mins  0.31500000 hours 0.013125000 days\n",
       "10      13.283333 mins  0.22138889 hours 0.009224537 days\n",
       "11       6.250000 mins  0.10416667 hours 0.004340278 days\n",
       "12       6.800000 mins  0.11333333 hours 0.004722222 days\n",
       "13       6.433333 mins  0.10722222 hours 0.004467593 days\n",
       "14       7.150000 mins  0.11916667 hours 0.004965278 days\n",
       "15       3.466667 mins  0.05777778 hours 0.002407407 days\n",
       "16       9.850000 mins  0.16416667 hours 0.006840278 days\n",
       "17       9.183333 mins  0.15305556 hours 0.006377315 days\n",
       "18      23.950000 mins  0.39916667 hours 0.016631944 days\n",
       "19       8.900000 mins  0.14833333 hours 0.006180556 days\n",
       "20      26.400000 mins  0.44000000 hours 0.018333333 days\n",
       "21      12.283333 mins  0.20472222 hours 0.008530093 days\n",
       "22      19.166667 mins  0.31944444 hours 0.013310185 days\n",
       "23      15.416667 mins  0.25694444 hours 0.010706019 days\n",
       "24       5.300000 mins  0.08833333 hours 0.003680556 days\n",
       "25      11.266667 mins  0.18777778 hours 0.007824074 days\n",
       "26       8.033333 mins  0.13388889 hours 0.005578704 days\n",
       "27      13.933333 mins  0.23222222 hours 0.009675926 days\n",
       "28      14.416667 mins  0.24027778 hours 0.010011574 days\n",
       "29       9.416667 mins  0.15694444 hours 0.006539352 days\n",
       "30      30.183333 mins  0.50305556 hours 0.020960648 days\n",
       "⋮       ⋮               ⋮                ⋮               \n",
       "4370193   6.416667 mins 0.10694444 hours 0.004456019 days\n",
       "4370194 111.700000 mins 1.86166667 hours 0.077569444 days\n",
       "4370195  10.350000 mins 0.17250000 hours 0.007187500 days\n",
       "4370196  25.800000 mins 0.43000000 hours 0.017916667 days\n",
       "4370197   5.266667 mins 0.08777778 hours 0.003657407 days\n",
       "4370198  13.883333 mins 0.23138889 hours 0.009641204 days\n",
       "4370199   4.000000 mins 0.06666667 hours 0.002777778 days\n",
       "4370200  44.250000 mins 0.73750000 hours 0.030729167 days\n",
       "4370201  44.366667 mins 0.73944444 hours 0.030810185 days\n",
       "4370202  22.250000 mins 0.37083333 hours 0.015451389 days\n",
       "4370203  21.800000 mins 0.36333333 hours 0.015138889 days\n",
       "4370204   7.733333 mins 0.12888889 hours 0.005370370 days\n",
       "4370205   9.716667 mins 0.16194444 hours 0.006747685 days\n",
       "4370206  11.400000 mins 0.19000000 hours 0.007916667 days\n",
       "4370207  24.450000 mins 0.40750000 hours 0.016979167 days\n",
       "4370208  15.200000 mins 0.25333333 hours 0.010555556 days\n",
       "4370209  11.516667 mins 0.19194444 hours 0.007997685 days\n",
       "4370210   3.916667 mins 0.06527778 hours 0.002719907 days\n",
       "4370211  14.533333 mins 0.24222222 hours 0.010092593 days\n",
       "4370212  28.216667 mins 0.47027778 hours 0.019594907 days\n",
       "4370213   3.266667 mins 0.05444444 hours 0.002268519 days\n",
       "4370214  18.483333 mins 0.30805556 hours 0.012835648 days\n",
       "4370215  28.183333 mins 0.46972222 hours 0.019571759 days\n",
       "4370216   6.466667 mins 0.10777778 hours 0.004490741 days\n",
       "4370217  26.450000 mins 0.44083333 hours 0.018368056 days\n",
       "4370218 244.083333 mins 4.06805556 hours 0.169502315 days\n",
       "4370219  10.833333 mins 0.18055556 hours 0.007523148 days\n",
       "4370220  66.500000 mins 1.10833333 hours 0.046180556 days\n",
       "4370221  34.166667 mins 0.56944444 hours 0.023726852 days\n",
       "4370222  18.316667 mins 0.30527778 hours 0.012719907 days"
      ]
     },
     "metadata": {},
     "output_type": "display_data"
    }
   ],
   "source": [
    "View(combined_2)"
   ]
  },
  {
   "attachments": {},
   "cell_type": "markdown",
   "id": "ea23d26f",
   "metadata": {},
   "source": []
  },
  {
   "cell_type": "code",
   "execution_count": 44,
   "id": "a17f79f0",
   "metadata": {
    "vscode": {
     "languageId": "r"
    }
   },
   "outputs": [
    {
     "data": {
      "text/plain": [
       "Time difference of 17.12542 mins"
      ]
     },
     "metadata": {},
     "output_type": "display_data"
    }
   ],
   "source": [
    "## average ride_length\n",
    "mean(combined_2$ride_length)"
   ]
  },
  {
   "cell_type": "code",
   "execution_count": 45,
   "id": "f18109f2",
   "metadata": {
    "vscode": {
     "languageId": "r"
    }
   },
   "outputs": [
    {
     "data": {
      "text/plain": [
       "Time difference of 10.7 mins"
      ]
     },
     "metadata": {},
     "output_type": "display_data"
    }
   ],
   "source": [
    "## median ride_length\n",
    "median(combined_2$ride_length)"
   ]
  },
  {
   "cell_type": "code",
   "execution_count": 46,
   "id": "f05b55f4",
   "metadata": {
    "vscode": {
     "languageId": "r"
    }
   },
   "outputs": [
    {
     "data": {
      "text/plain": [
       "Time difference of 1499.417 mins"
      ]
     },
     "metadata": {},
     "output_type": "display_data"
    }
   ],
   "source": [
    "## maximum ride_length\n",
    "max(combined_2$ride_length)"
   ]
  },
  {
   "cell_type": "code",
   "execution_count": 47,
   "id": "22ec25a8",
   "metadata": {
    "vscode": {
     "languageId": "r"
    }
   },
   "outputs": [
    {
     "data": {
      "text/plain": [
       "Time difference of 2 mins"
      ]
     },
     "metadata": {},
     "output_type": "display_data"
    }
   ],
   "source": [
    "## minimum ride_length\n",
    "min(combined_2$ride_length)"
   ]
  },
  {
   "cell_type": "code",
   "execution_count": 48,
   "id": "1e31714a",
   "metadata": {
    "vscode": {
     "languageId": "r"
    }
   },
   "outputs": [
    {
     "data": {
      "text/plain": [
       "\n",
       " casual  member \n",
       "1742385 2627837 "
      ]
     },
     "metadata": {},
     "output_type": "display_data"
    }
   ],
   "source": [
    "## Total number of customers\n",
    "View(table(combined_2$customer_type))"
   ]
  },
  {
   "cell_type": "code",
   "execution_count": 49,
   "id": "70bf2751",
   "metadata": {
    "vscode": {
     "languageId": "r"
    }
   },
   "outputs": [
    {
     "data": {
      "text/html": [
       "<table class=\"dataframe\">\n",
       "<caption>A data.frame: 2 × 2</caption>\n",
       "<thead>\n",
       "\t<tr><th scope=col>combined_2$customer_type</th><th scope=col>combined_2$ride_length_day</th></tr>\n",
       "\t<tr><th scope=col>&lt;chr&gt;</th><th scope=col>&lt;drtn&gt;</th></tr>\n",
       "</thead>\n",
       "<tbody>\n",
       "\t<tr><td>casual</td><td>28706.83 days</td></tr>\n",
       "\t<tr><td>member</td><td>23266.70 days</td></tr>\n",
       "</tbody>\n",
       "</table>\n"
      ],
      "text/latex": [
       "A data.frame: 2 × 2\n",
       "\\begin{tabular}{ll}\n",
       " combined\\_2\\$customer\\_type & combined\\_2\\$ride\\_length\\_day\\\\\n",
       " <chr> & <drtn>\\\\\n",
       "\\hline\n",
       "\t casual & 28706.83 days\\\\\n",
       "\t member & 23266.70 days\\\\\n",
       "\\end{tabular}\n"
      ],
      "text/markdown": [
       "\n",
       "A data.frame: 2 × 2\n",
       "\n",
       "| combined_2$customer_type &lt;chr&gt; | combined_2$ride_length_day &lt;drtn&gt; |\n",
       "|---|---|\n",
       "| casual | 28706.83 days |\n",
       "| member | 23266.70 days |\n",
       "\n"
      ],
      "text/plain": [
       "  combined_2$customer_type combined_2$ride_length_day\n",
       "1 casual                   28706.83 days             \n",
       "2 member                   23266.70 days             "
      ]
     },
     "metadata": {},
     "output_type": "display_data"
    }
   ],
   "source": [
    "## Total duration of trips for each customer type in days\n",
    "aggregate(combined_2$ride_length_day ~ combined_2$customer_type,FUN=sum)"
   ]
  },
  {
   "cell_type": "code",
   "execution_count": 50,
   "id": "ee64ce8b",
   "metadata": {
    "vscode": {
     "languageId": "r"
    }
   },
   "outputs": [
    {
     "data": {
      "text/html": [
       "<table class=\"dataframe\">\n",
       "<caption>A data.frame: 2 × 2</caption>\n",
       "<thead>\n",
       "\t<tr><th scope=col>combined_2$customer_type</th><th scope=col>combined_2$ride_length</th></tr>\n",
       "\t<tr><th scope=col>&lt;chr&gt;</th><th scope=col>&lt;drtn&gt;</th></tr>\n",
       "</thead>\n",
       "<tbody>\n",
       "\t<tr><td>casual</td><td>23.72485 mins</td></tr>\n",
       "\t<tr><td>member</td><td>12.74967 mins</td></tr>\n",
       "</tbody>\n",
       "</table>\n"
      ],
      "text/latex": [
       "A data.frame: 2 × 2\n",
       "\\begin{tabular}{ll}\n",
       " combined\\_2\\$customer\\_type & combined\\_2\\$ride\\_length\\\\\n",
       " <chr> & <drtn>\\\\\n",
       "\\hline\n",
       "\t casual & 23.72485 mins\\\\\n",
       "\t member & 12.74967 mins\\\\\n",
       "\\end{tabular}\n"
      ],
      "text/markdown": [
       "\n",
       "A data.frame: 2 × 2\n",
       "\n",
       "| combined_2$customer_type &lt;chr&gt; | combined_2$ride_length &lt;drtn&gt; |\n",
       "|---|---|\n",
       "| casual | 23.72485 mins |\n",
       "| member | 12.74967 mins |\n",
       "\n"
      ],
      "text/plain": [
       "  combined_2$customer_type combined_2$ride_length\n",
       "1 casual                   23.72485 mins         \n",
       "2 member                   12.74967 mins         "
      ]
     },
     "metadata": {},
     "output_type": "display_data"
    }
   ],
   "source": [
    "## Average duration of trips for each customer type in minutes\n",
    "aggregate(combined_2$ride_length ~ combined_2$customer_type,FUN=mean)"
   ]
  },
  {
   "cell_type": "code",
   "execution_count": 51,
   "id": "4560d5d4",
   "metadata": {
    "vscode": {
     "languageId": "r"
    }
   },
   "outputs": [
    {
     "data": {
      "text/html": [
       "<table class=\"dataframe\">\n",
       "<caption>A data.frame: 2 × 2</caption>\n",
       "<thead>\n",
       "\t<tr><th scope=col>combined_2$customer_type</th><th scope=col>combined_2$ride_length</th></tr>\n",
       "\t<tr><th scope=col>&lt;chr&gt;</th><th scope=col>&lt;drtn&gt;</th></tr>\n",
       "</thead>\n",
       "<tbody>\n",
       "\t<tr><td>casual</td><td>13.750000 mins</td></tr>\n",
       "\t<tr><td>member</td><td> 9.183333 mins</td></tr>\n",
       "</tbody>\n",
       "</table>\n"
      ],
      "text/latex": [
       "A data.frame: 2 × 2\n",
       "\\begin{tabular}{ll}\n",
       " combined\\_2\\$customer\\_type & combined\\_2\\$ride\\_length\\\\\n",
       " <chr> & <drtn>\\\\\n",
       "\\hline\n",
       "\t casual & 13.750000 mins\\\\\n",
       "\t member &  9.183333 mins\\\\\n",
       "\\end{tabular}\n"
      ],
      "text/markdown": [
       "\n",
       "A data.frame: 2 × 2\n",
       "\n",
       "| combined_2$customer_type &lt;chr&gt; | combined_2$ride_length &lt;drtn&gt; |\n",
       "|---|---|\n",
       "| casual | 13.750000 mins |\n",
       "| member |  9.183333 mins |\n",
       "\n"
      ],
      "text/plain": [
       "  combined_2$customer_type combined_2$ride_length\n",
       "1 casual                   13.750000 mins        \n",
       "2 member                    9.183333 mins        "
      ]
     },
     "metadata": {},
     "output_type": "display_data"
    }
   ],
   "source": [
    "## Median duration of trips for each customer type in minutes\n",
    "aggregate(combined_2$ride_length ~ combined_2$customer_type,FUN=median)"
   ]
  },
  {
   "cell_type": "code",
   "execution_count": 52,
   "id": "574b1eab",
   "metadata": {
    "vscode": {
     "languageId": "r"
    }
   },
   "outputs": [
    {
     "data": {
      "text/html": [
       "<table class=\"dataframe\">\n",
       "<caption>A data.frame: 2 × 2</caption>\n",
       "<thead>\n",
       "\t<tr><th scope=col>combined_2$customer_type</th><th scope=col>combined_2$ride_length</th></tr>\n",
       "\t<tr><th scope=col>&lt;chr&gt;</th><th scope=col>&lt;drtn&gt;</th></tr>\n",
       "</thead>\n",
       "<tbody>\n",
       "\t<tr><td>casual</td><td>1499.417 mins</td></tr>\n",
       "\t<tr><td>member</td><td>1497.867 mins</td></tr>\n",
       "</tbody>\n",
       "</table>\n"
      ],
      "text/latex": [
       "A data.frame: 2 × 2\n",
       "\\begin{tabular}{ll}\n",
       " combined\\_2\\$customer\\_type & combined\\_2\\$ride\\_length\\\\\n",
       " <chr> & <drtn>\\\\\n",
       "\\hline\n",
       "\t casual & 1499.417 mins\\\\\n",
       "\t member & 1497.867 mins\\\\\n",
       "\\end{tabular}\n"
      ],
      "text/markdown": [
       "\n",
       "A data.frame: 2 × 2\n",
       "\n",
       "| combined_2$customer_type &lt;chr&gt; | combined_2$ride_length &lt;drtn&gt; |\n",
       "|---|---|\n",
       "| casual | 1499.417 mins |\n",
       "| member | 1497.867 mins |\n",
       "\n"
      ],
      "text/plain": [
       "  combined_2$customer_type combined_2$ride_length\n",
       "1 casual                   1499.417 mins         \n",
       "2 member                   1497.867 mins         "
      ]
     },
     "metadata": {},
     "output_type": "display_data"
    }
   ],
   "source": [
    "## Highest duration of trip carried out for each customer type in minutes\n",
    "aggregate(combined_2$ride_length ~ combined_2$customer_type,FUN=max)"
   ]
  },
  {
   "cell_type": "code",
   "execution_count": 53,
   "id": "bb6ac75b",
   "metadata": {
    "vscode": {
     "languageId": "r"
    }
   },
   "outputs": [
    {
     "data": {
      "text/html": [
       "<table class=\"dataframe\">\n",
       "<caption>A data.frame: 2 × 2</caption>\n",
       "<thead>\n",
       "\t<tr><th scope=col>combined_2$customer_type</th><th scope=col>combined_2$ride_length</th></tr>\n",
       "\t<tr><th scope=col>&lt;chr&gt;</th><th scope=col>&lt;drtn&gt;</th></tr>\n",
       "</thead>\n",
       "<tbody>\n",
       "\t<tr><td>casual</td><td>2 mins</td></tr>\n",
       "\t<tr><td>member</td><td>2 mins</td></tr>\n",
       "</tbody>\n",
       "</table>\n"
      ],
      "text/latex": [
       "A data.frame: 2 × 2\n",
       "\\begin{tabular}{ll}\n",
       " combined\\_2\\$customer\\_type & combined\\_2\\$ride\\_length\\\\\n",
       " <chr> & <drtn>\\\\\n",
       "\\hline\n",
       "\t casual & 2 mins\\\\\n",
       "\t member & 2 mins\\\\\n",
       "\\end{tabular}\n"
      ],
      "text/markdown": [
       "\n",
       "A data.frame: 2 × 2\n",
       "\n",
       "| combined_2$customer_type &lt;chr&gt; | combined_2$ride_length &lt;drtn&gt; |\n",
       "|---|---|\n",
       "| casual | 2 mins |\n",
       "| member | 2 mins |\n",
       "\n"
      ],
      "text/plain": [
       "  combined_2$customer_type combined_2$ride_length\n",
       "1 casual                   2 mins                \n",
       "2 member                   2 mins                "
      ]
     },
     "metadata": {},
     "output_type": "display_data"
    }
   ],
   "source": [
    "## lowest duration of trip carried out for each customer type in minutes\n",
    "aggregate(combined_2$ride_length ~ combined_2$customer_type,FUN=min)"
   ]
  },
  {
   "cell_type": "code",
   "execution_count": 54,
   "id": "e34cc060",
   "metadata": {
    "vscode": {
     "languageId": "r"
    }
   },
   "outputs": [],
   "source": [
    "## ordering the day of week column\n",
    "combined_2$day_of_week = ordered(combined_2$day_of_week,levels = c(\"Sunday\", \"Monday\", \"Tuesday\",\"Wednesday\",\n",
    "                                                      \"Thursday\",\"Friday\", \"Saturday\"))"
   ]
  },
  {
   "cell_type": "code",
   "execution_count": 55,
   "id": "7fdffa21",
   "metadata": {
    "vscode": {
     "languageId": "r"
    }
   },
   "outputs": [
    {
     "data": {
      "image/png": "[encoded data removed]",
      "text/plain": [
       "plot without title"
      ]
     },
     "metadata": {
      "image/png": {
       "height": 420,
       "width": 420
      }
     },
     "output_type": "display_data"
    }
   ],
   "source": [
    "## Number of rides completed by each customer type\n",
    "ggplot(combined_2, aes(x=customer_type)) + \n",
    "geom_bar(fill = \"Orange\") + labs( title = \"Number of rides completed by user type\", \n",
    "                                 subtitle = \"For the period between May 2022 and April 2023\", \n",
    "                                 x = \"User type\", y = \"Number of rides (in thousands)\") + \n",
    "scale_y_continuous(labels = label_number(suffix = \" M\", scale = 1e-6)) + \n",
    "geom_text(stat='count', aes(label=after_stat(count)), vjust=+2, color=\"white\")"
   ]
  },
  {
   "cell_type": "code",
   "execution_count": 56,
   "id": "ed8e3e2b",
   "metadata": {
    "vscode": {
     "languageId": "r"
    }
   },
   "outputs": [
    {
     "name": "stderr",
     "output_type": "stream",
     "text": [
      "\u001b[1m\u001b[22mDon't know how to automatically pick scale for object of type \u001b[34m<difftime>\u001b[39m.\n",
      "Defaulting to continuous.\n"
     ]
    },
    {
     "data": {
      "image/png": "[encoded data removed]",
      "text/plain": [
       "plot without title"
      ]
     },
     "metadata": {
      "image/png": {
       "height": 420,
       "width": 420
      }
     },
     "output_type": "display_data"
    }
   ],
   "source": [
    "## Total number of hours cycled by each customer type\n",
    "data_bar3 = combined_2 %>% group_by(customer_type) %>% summarise(time=sum(ride_length_hour)) \n",
    "ggplot(data_bar3, aes(x=customer_type, y=time)) + geom_bar(stat = \"identity\", fill = \"yellow\") + \n",
    "labs( title = \"Hours cycled by user type\", subtitle = \"For the period between May 2022 and April 2023\", \n",
    "     x = \"User type\", y = \"Hours cycled\") + scale_y_continuous(labels = label_number(suffix = \" M\", scale = 1e-6)) + \n",
    "geom_text(aes(label=round(time,2)), vjust=+2, color=\"black\")"
   ]
  },
  {
   "cell_type": "code",
   "execution_count": 57,
   "id": "c0e1321e",
   "metadata": {
    "vscode": {
     "languageId": "r"
    }
   },
   "outputs": [
    {
     "data": {
      "text/html": [
       "<table class=\"dataframe\">\n",
       "<caption>A data.frame: 12 × 3</caption>\n",
       "<thead>\n",
       "\t<tr><th scope=col>combined_2$customer_type</th><th scope=col>combined_2$day_of_week</th><th scope=col>combined_2$ride_length_day</th></tr>\n",
       "\t<tr><th scope=col>&lt;chr&gt;</th><th scope=col>&lt;ord&gt;</th><th scope=col>&lt;drtn&gt;</th></tr>\n",
       "</thead>\n",
       "<tbody>\n",
       "\t<tr><td>casual</td><td>Sunday  </td><td> 5542.590 days</td></tr>\n",
       "\t<tr><td>member</td><td>Sunday  </td><td> 2931.742 days</td></tr>\n",
       "\t<tr><td>casual</td><td>Monday  </td><td> 3429.215 days</td></tr>\n",
       "\t<tr><td>member</td><td>Monday  </td><td> 3132.936 days</td></tr>\n",
       "\t<tr><td>casual</td><td>Tuesday </td><td> 2945.472 days</td></tr>\n",
       "\t<tr><td>member</td><td>Tuesday </td><td> 3511.328 days</td></tr>\n",
       "\t<tr><td>casual</td><td>Thursday</td><td> 2921.078 days</td></tr>\n",
       "\t<tr><td>member</td><td>Thursday</td><td> 3561.668 days</td></tr>\n",
       "\t<tr><td>casual</td><td>Friday  </td><td> 3401.016 days</td></tr>\n",
       "\t<tr><td>member</td><td>Friday  </td><td> 3608.777 days</td></tr>\n",
       "\t<tr><td>casual</td><td>Saturday</td><td>10467.455 days</td></tr>\n",
       "\t<tr><td>member</td><td>Saturday</td><td> 6520.252 days</td></tr>\n",
       "</tbody>\n",
       "</table>\n"
      ],
      "text/latex": [
       "A data.frame: 12 × 3\n",
       "\\begin{tabular}{lll}\n",
       " combined\\_2\\$customer\\_type & combined\\_2\\$day\\_of\\_week & combined\\_2\\$ride\\_length\\_day\\\\\n",
       " <chr> & <ord> & <drtn>\\\\\n",
       "\\hline\n",
       "\t casual & Sunday   &  5542.590 days\\\\\n",
       "\t member & Sunday   &  2931.742 days\\\\\n",
       "\t casual & Monday   &  3429.215 days\\\\\n",
       "\t member & Monday   &  3132.936 days\\\\\n",
       "\t casual & Tuesday  &  2945.472 days\\\\\n",
       "\t member & Tuesday  &  3511.328 days\\\\\n",
       "\t casual & Thursday &  2921.078 days\\\\\n",
       "\t member & Thursday &  3561.668 days\\\\\n",
       "\t casual & Friday   &  3401.016 days\\\\\n",
       "\t member & Friday   &  3608.777 days\\\\\n",
       "\t casual & Saturday & 10467.455 days\\\\\n",
       "\t member & Saturday &  6520.252 days\\\\\n",
       "\\end{tabular}\n"
      ],
      "text/markdown": [
       "\n",
       "A data.frame: 12 × 3\n",
       "\n",
       "| combined_2$customer_type &lt;chr&gt; | combined_2$day_of_week &lt;ord&gt; | combined_2$ride_length_day &lt;drtn&gt; |\n",
       "|---|---|---|\n",
       "| casual | Sunday   |  5542.590 days |\n",
       "| member | Sunday   |  2931.742 days |\n",
       "| casual | Monday   |  3429.215 days |\n",
       "| member | Monday   |  3132.936 days |\n",
       "| casual | Tuesday  |  2945.472 days |\n",
       "| member | Tuesday  |  3511.328 days |\n",
       "| casual | Thursday |  2921.078 days |\n",
       "| member | Thursday |  3561.668 days |\n",
       "| casual | Friday   |  3401.016 days |\n",
       "| member | Friday   |  3608.777 days |\n",
       "| casual | Saturday | 10467.455 days |\n",
       "| member | Saturday |  6520.252 days |\n",
       "\n"
      ],
      "text/plain": [
       "   combined_2$customer_type combined_2$day_of_week combined_2$ride_length_day\n",
       "1  casual                   Sunday                  5542.590 days            \n",
       "2  member                   Sunday                  2931.742 days            \n",
       "3  casual                   Monday                  3429.215 days            \n",
       "4  member                   Monday                  3132.936 days            \n",
       "5  casual                   Tuesday                 2945.472 days            \n",
       "6  member                   Tuesday                 3511.328 days            \n",
       "7  casual                   Thursday                2921.078 days            \n",
       "8  member                   Thursday                3561.668 days            \n",
       "9  casual                   Friday                  3401.016 days            \n",
       "10 member                   Friday                  3608.777 days            \n",
       "11 casual                   Saturday               10467.455 days            \n",
       "12 member                   Saturday                6520.252 days            "
      ]
     },
     "metadata": {},
     "output_type": "display_data"
    }
   ],
   "source": [
    "## Analysis of total ride length by customer type and day of week in days\n",
    "aggregate(combined_2$ride_length_day ~ combined_2$ customer_type + combined_2$day_of_week, FUN =sum)"
   ]
  },
  {
   "cell_type": "code",
   "execution_count": 58,
   "id": "ad7744f0",
   "metadata": {
    "vscode": {
     "languageId": "r"
    }
   },
   "outputs": [
    {
     "data": {
      "text/html": [
       "<table class=\"dataframe\">\n",
       "<caption>A data.frame: 12 × 3</caption>\n",
       "<thead>\n",
       "\t<tr><th scope=col>combined_2$customer_type</th><th scope=col>combined_2$day_of_week</th><th scope=col>combined_2$ride_length</th></tr>\n",
       "\t<tr><th scope=col>&lt;chr&gt;</th><th scope=col>&lt;ord&gt;</th><th scope=col>&lt;drtn&gt;</th></tr>\n",
       "</thead>\n",
       "<tbody>\n",
       "\t<tr><td>casual</td><td>Sunday  </td><td>27.20540 mins</td></tr>\n",
       "\t<tr><td>member</td><td>Sunday  </td><td>14.18094 mins</td></tr>\n",
       "\t<tr><td>casual</td><td>Monday  </td><td>24.14598 mins</td></tr>\n",
       "\t<tr><td>member</td><td>Monday  </td><td>12.21308 mins</td></tr>\n",
       "\t<tr><td>casual</td><td>Tuesday </td><td>21.33241 mins</td></tr>\n",
       "\t<tr><td>member</td><td>Tuesday </td><td>12.16220 mins</td></tr>\n",
       "\t<tr><td>casual</td><td>Thursday</td><td>20.34108 mins</td></tr>\n",
       "\t<tr><td>member</td><td>Thursday</td><td>12.14645 mins</td></tr>\n",
       "\t<tr><td>casual</td><td>Friday  </td><td>21.13681 mins</td></tr>\n",
       "\t<tr><td>member</td><td>Friday  </td><td>12.34271 mins</td></tr>\n",
       "\t<tr><td>casual</td><td>Saturday</td><td>24.82478 mins</td></tr>\n",
       "\t<tr><td>member</td><td>Saturday</td><td>13.38012 mins</td></tr>\n",
       "</tbody>\n",
       "</table>\n"
      ],
      "text/latex": [
       "A data.frame: 12 × 3\n",
       "\\begin{tabular}{lll}\n",
       " combined\\_2\\$customer\\_type & combined\\_2\\$day\\_of\\_week & combined\\_2\\$ride\\_length\\\\\n",
       " <chr> & <ord> & <drtn>\\\\\n",
       "\\hline\n",
       "\t casual & Sunday   & 27.20540 mins\\\\\n",
       "\t member & Sunday   & 14.18094 mins\\\\\n",
       "\t casual & Monday   & 24.14598 mins\\\\\n",
       "\t member & Monday   & 12.21308 mins\\\\\n",
       "\t casual & Tuesday  & 21.33241 mins\\\\\n",
       "\t member & Tuesday  & 12.16220 mins\\\\\n",
       "\t casual & Thursday & 20.34108 mins\\\\\n",
       "\t member & Thursday & 12.14645 mins\\\\\n",
       "\t casual & Friday   & 21.13681 mins\\\\\n",
       "\t member & Friday   & 12.34271 mins\\\\\n",
       "\t casual & Saturday & 24.82478 mins\\\\\n",
       "\t member & Saturday & 13.38012 mins\\\\\n",
       "\\end{tabular}\n"
      ],
      "text/markdown": [
       "\n",
       "A data.frame: 12 × 3\n",
       "\n",
       "| combined_2$customer_type &lt;chr&gt; | combined_2$day_of_week &lt;ord&gt; | combined_2$ride_length &lt;drtn&gt; |\n",
       "|---|---|---|\n",
       "| casual | Sunday   | 27.20540 mins |\n",
       "| member | Sunday   | 14.18094 mins |\n",
       "| casual | Monday   | 24.14598 mins |\n",
       "| member | Monday   | 12.21308 mins |\n",
       "| casual | Tuesday  | 21.33241 mins |\n",
       "| member | Tuesday  | 12.16220 mins |\n",
       "| casual | Thursday | 20.34108 mins |\n",
       "| member | Thursday | 12.14645 mins |\n",
       "| casual | Friday   | 21.13681 mins |\n",
       "| member | Friday   | 12.34271 mins |\n",
       "| casual | Saturday | 24.82478 mins |\n",
       "| member | Saturday | 13.38012 mins |\n",
       "\n"
      ],
      "text/plain": [
       "   combined_2$customer_type combined_2$day_of_week combined_2$ride_length\n",
       "1  casual                   Sunday                 27.20540 mins         \n",
       "2  member                   Sunday                 14.18094 mins         \n",
       "3  casual                   Monday                 24.14598 mins         \n",
       "4  member                   Monday                 12.21308 mins         \n",
       "5  casual                   Tuesday                21.33241 mins         \n",
       "6  member                   Tuesday                12.16220 mins         \n",
       "7  casual                   Thursday               20.34108 mins         \n",
       "8  member                   Thursday               12.14645 mins         \n",
       "9  casual                   Friday                 21.13681 mins         \n",
       "10 member                   Friday                 12.34271 mins         \n",
       "11 casual                   Saturday               24.82478 mins         \n",
       "12 member                   Saturday               13.38012 mins         "
      ]
     },
     "metadata": {},
     "output_type": "display_data"
    }
   ],
   "source": [
    "## Analysis of average ride length by customer type and day of week in minutes\n",
    "aggregate(combined_2$ride_length ~ combined_2$ customer_type + combined_2$day_of_week, FUN =mean)"
   ]
  },
  {
   "cell_type": "code",
   "execution_count": 59,
   "id": "cd341603",
   "metadata": {
    "vscode": {
     "languageId": "r"
    }
   },
   "outputs": [
    {
     "data": {
      "text/html": [
       "<table class=\"dataframe\">\n",
       "<caption>A data.frame: 12 × 3</caption>\n",
       "<thead>\n",
       "\t<tr><th scope=col>combined_2$customer_type</th><th scope=col>combined_2$day_of_week</th><th scope=col>combined_2$ride_length</th></tr>\n",
       "\t<tr><th scope=col>&lt;chr&gt;</th><th scope=col>&lt;ord&gt;</th><th scope=col>&lt;drtn&gt;</th></tr>\n",
       "</thead>\n",
       "<tbody>\n",
       "\t<tr><td>casual</td><td>Sunday  </td><td>16.033333 mins</td></tr>\n",
       "\t<tr><td>member</td><td>Sunday  </td><td> 9.983333 mins</td></tr>\n",
       "\t<tr><td>casual</td><td>Monday  </td><td>13.516667 mins</td></tr>\n",
       "\t<tr><td>member</td><td>Monday  </td><td> 8.750000 mins</td></tr>\n",
       "\t<tr><td>casual</td><td>Tuesday </td><td>12.100000 mins</td></tr>\n",
       "\t<tr><td>member</td><td>Tuesday </td><td> 8.833333 mins</td></tr>\n",
       "\t<tr><td>casual</td><td>Thursday</td><td>11.950000 mins</td></tr>\n",
       "\t<tr><td>member</td><td>Thursday</td><td> 8.933333 mins</td></tr>\n",
       "\t<tr><td>casual</td><td>Friday  </td><td>12.316667 mins</td></tr>\n",
       "\t<tr><td>member</td><td>Friday  </td><td> 9.033333 mins</td></tr>\n",
       "\t<tr><td>casual</td><td>Saturday</td><td>14.766667 mins</td></tr>\n",
       "\t<tr><td>member</td><td>Saturday</td><td> 9.583333 mins</td></tr>\n",
       "</tbody>\n",
       "</table>\n"
      ],
      "text/latex": [
       "A data.frame: 12 × 3\n",
       "\\begin{tabular}{lll}\n",
       " combined\\_2\\$customer\\_type & combined\\_2\\$day\\_of\\_week & combined\\_2\\$ride\\_length\\\\\n",
       " <chr> & <ord> & <drtn>\\\\\n",
       "\\hline\n",
       "\t casual & Sunday   & 16.033333 mins\\\\\n",
       "\t member & Sunday   &  9.983333 mins\\\\\n",
       "\t casual & Monday   & 13.516667 mins\\\\\n",
       "\t member & Monday   &  8.750000 mins\\\\\n",
       "\t casual & Tuesday  & 12.100000 mins\\\\\n",
       "\t member & Tuesday  &  8.833333 mins\\\\\n",
       "\t casual & Thursday & 11.950000 mins\\\\\n",
       "\t member & Thursday &  8.933333 mins\\\\\n",
       "\t casual & Friday   & 12.316667 mins\\\\\n",
       "\t member & Friday   &  9.033333 mins\\\\\n",
       "\t casual & Saturday & 14.766667 mins\\\\\n",
       "\t member & Saturday &  9.583333 mins\\\\\n",
       "\\end{tabular}\n"
      ],
      "text/markdown": [
       "\n",
       "A data.frame: 12 × 3\n",
       "\n",
       "| combined_2$customer_type &lt;chr&gt; | combined_2$day_of_week &lt;ord&gt; | combined_2$ride_length &lt;drtn&gt; |\n",
       "|---|---|---|\n",
       "| casual | Sunday   | 16.033333 mins |\n",
       "| member | Sunday   |  9.983333 mins |\n",
       "| casual | Monday   | 13.516667 mins |\n",
       "| member | Monday   |  8.750000 mins |\n",
       "| casual | Tuesday  | 12.100000 mins |\n",
       "| member | Tuesday  |  8.833333 mins |\n",
       "| casual | Thursday | 11.950000 mins |\n",
       "| member | Thursday |  8.933333 mins |\n",
       "| casual | Friday   | 12.316667 mins |\n",
       "| member | Friday   |  9.033333 mins |\n",
       "| casual | Saturday | 14.766667 mins |\n",
       "| member | Saturday |  9.583333 mins |\n",
       "\n"
      ],
      "text/plain": [
       "   combined_2$customer_type combined_2$day_of_week combined_2$ride_length\n",
       "1  casual                   Sunday                 16.033333 mins        \n",
       "2  member                   Sunday                  9.983333 mins        \n",
       "3  casual                   Monday                 13.516667 mins        \n",
       "4  member                   Monday                  8.750000 mins        \n",
       "5  casual                   Tuesday                12.100000 mins        \n",
       "6  member                   Tuesday                 8.833333 mins        \n",
       "7  casual                   Thursday               11.950000 mins        \n",
       "8  member                   Thursday                8.933333 mins        \n",
       "9  casual                   Friday                 12.316667 mins        \n",
       "10 member                   Friday                  9.033333 mins        \n",
       "11 casual                   Saturday               14.766667 mins        \n",
       "12 member                   Saturday                9.583333 mins        "
      ]
     },
     "metadata": {},
     "output_type": "display_data"
    }
   ],
   "source": [
    "## Analysis of median ride length by customer type and day of week in minutes\n",
    "aggregate(combined_2$ride_length ~ combined_2$ customer_type + combined_2$day_of_week, FUN =median)"
   ]
  },
  {
   "cell_type": "code",
   "execution_count": 60,
   "id": "69089da3",
   "metadata": {
    "vscode": {
     "languageId": "r"
    }
   },
   "outputs": [
    {
     "data": {
      "text/html": [
       "<table class=\"dataframe\">\n",
       "<caption>A data.frame: 12 × 3</caption>\n",
       "<thead>\n",
       "\t<tr><th scope=col>combined_2$customer_type</th><th scope=col>combined_2$day_of_week</th><th scope=col>combined_2$ride_length</th></tr>\n",
       "\t<tr><th scope=col>&lt;chr&gt;</th><th scope=col>&lt;ord&gt;</th><th scope=col>&lt;drtn&gt;</th></tr>\n",
       "</thead>\n",
       "<tbody>\n",
       "\t<tr><td>casual</td><td>Sunday  </td><td>2 mins</td></tr>\n",
       "\t<tr><td>member</td><td>Sunday  </td><td>2 mins</td></tr>\n",
       "\t<tr><td>casual</td><td>Monday  </td><td>2 mins</td></tr>\n",
       "\t<tr><td>member</td><td>Monday  </td><td>2 mins</td></tr>\n",
       "\t<tr><td>casual</td><td>Tuesday </td><td>2 mins</td></tr>\n",
       "\t<tr><td>member</td><td>Tuesday </td><td>2 mins</td></tr>\n",
       "\t<tr><td>casual</td><td>Thursday</td><td>2 mins</td></tr>\n",
       "\t<tr><td>member</td><td>Thursday</td><td>2 mins</td></tr>\n",
       "\t<tr><td>casual</td><td>Friday  </td><td>2 mins</td></tr>\n",
       "\t<tr><td>member</td><td>Friday  </td><td>2 mins</td></tr>\n",
       "\t<tr><td>casual</td><td>Saturday</td><td>2 mins</td></tr>\n",
       "\t<tr><td>member</td><td>Saturday</td><td>2 mins</td></tr>\n",
       "</tbody>\n",
       "</table>\n"
      ],
      "text/latex": [
       "A data.frame: 12 × 3\n",
       "\\begin{tabular}{lll}\n",
       " combined\\_2\\$customer\\_type & combined\\_2\\$day\\_of\\_week & combined\\_2\\$ride\\_length\\\\\n",
       " <chr> & <ord> & <drtn>\\\\\n",
       "\\hline\n",
       "\t casual & Sunday   & 2 mins\\\\\n",
       "\t member & Sunday   & 2 mins\\\\\n",
       "\t casual & Monday   & 2 mins\\\\\n",
       "\t member & Monday   & 2 mins\\\\\n",
       "\t casual & Tuesday  & 2 mins\\\\\n",
       "\t member & Tuesday  & 2 mins\\\\\n",
       "\t casual & Thursday & 2 mins\\\\\n",
       "\t member & Thursday & 2 mins\\\\\n",
       "\t casual & Friday   & 2 mins\\\\\n",
       "\t member & Friday   & 2 mins\\\\\n",
       "\t casual & Saturday & 2 mins\\\\\n",
       "\t member & Saturday & 2 mins\\\\\n",
       "\\end{tabular}\n"
      ],
      "text/markdown": [
       "\n",
       "A data.frame: 12 × 3\n",
       "\n",
       "| combined_2$customer_type &lt;chr&gt; | combined_2$day_of_week &lt;ord&gt; | combined_2$ride_length &lt;drtn&gt; |\n",
       "|---|---|---|\n",
       "| casual | Sunday   | 2 mins |\n",
       "| member | Sunday   | 2 mins |\n",
       "| casual | Monday   | 2 mins |\n",
       "| member | Monday   | 2 mins |\n",
       "| casual | Tuesday  | 2 mins |\n",
       "| member | Tuesday  | 2 mins |\n",
       "| casual | Thursday | 2 mins |\n",
       "| member | Thursday | 2 mins |\n",
       "| casual | Friday   | 2 mins |\n",
       "| member | Friday   | 2 mins |\n",
       "| casual | Saturday | 2 mins |\n",
       "| member | Saturday | 2 mins |\n",
       "\n"
      ],
      "text/plain": [
       "   combined_2$customer_type combined_2$day_of_week combined_2$ride_length\n",
       "1  casual                   Sunday                 2 mins                \n",
       "2  member                   Sunday                 2 mins                \n",
       "3  casual                   Monday                 2 mins                \n",
       "4  member                   Monday                 2 mins                \n",
       "5  casual                   Tuesday                2 mins                \n",
       "6  member                   Tuesday                2 mins                \n",
       "7  casual                   Thursday               2 mins                \n",
       "8  member                   Thursday               2 mins                \n",
       "9  casual                   Friday                 2 mins                \n",
       "10 member                   Friday                 2 mins                \n",
       "11 casual                   Saturday               2 mins                \n",
       "12 member                   Saturday               2 mins                "
      ]
     },
     "metadata": {},
     "output_type": "display_data"
    }
   ],
   "source": [
    "## Analysis of minimum ride length by customer type and day of week in minutes\n",
    "aggregate(combined_2$ride_length ~ combined_2$ customer_type + combined_2$day_of_week, FUN =min)"
   ]
  },
  {
   "cell_type": "code",
   "execution_count": 61,
   "id": "14ef9666",
   "metadata": {
    "vscode": {
     "languageId": "r"
    }
   },
   "outputs": [
    {
     "data": {
      "text/html": [
       "<table class=\"dataframe\">\n",
       "<caption>A data.frame: 12 × 3</caption>\n",
       "<thead>\n",
       "\t<tr><th scope=col>combined_2$customer_type</th><th scope=col>combined_2$day_of_week</th><th scope=col>combined_2$ride_length</th></tr>\n",
       "\t<tr><th scope=col>&lt;chr&gt;</th><th scope=col>&lt;ord&gt;</th><th scope=col>&lt;drtn&gt;</th></tr>\n",
       "</thead>\n",
       "<tbody>\n",
       "\t<tr><td>casual</td><td>Sunday  </td><td>1488.500 mins</td></tr>\n",
       "\t<tr><td>member</td><td>Sunday  </td><td>1476.700 mins</td></tr>\n",
       "\t<tr><td>casual</td><td>Monday  </td><td>1497.750 mins</td></tr>\n",
       "\t<tr><td>member</td><td>Monday  </td><td>1493.233 mins</td></tr>\n",
       "\t<tr><td>casual</td><td>Tuesday </td><td>1499.417 mins</td></tr>\n",
       "\t<tr><td>member</td><td>Tuesday </td><td>1480.650 mins</td></tr>\n",
       "\t<tr><td>casual</td><td>Thursday</td><td>1498.617 mins</td></tr>\n",
       "\t<tr><td>member</td><td>Thursday</td><td>1473.583 mins</td></tr>\n",
       "\t<tr><td>casual</td><td>Friday  </td><td>1495.817 mins</td></tr>\n",
       "\t<tr><td>member</td><td>Friday  </td><td>1475.633 mins</td></tr>\n",
       "\t<tr><td>casual</td><td>Saturday</td><td>1488.950 mins</td></tr>\n",
       "\t<tr><td>member</td><td>Saturday</td><td>1497.867 mins</td></tr>\n",
       "</tbody>\n",
       "</table>\n"
      ],
      "text/latex": [
       "A data.frame: 12 × 3\n",
       "\\begin{tabular}{lll}\n",
       " combined\\_2\\$customer\\_type & combined\\_2\\$day\\_of\\_week & combined\\_2\\$ride\\_length\\\\\n",
       " <chr> & <ord> & <drtn>\\\\\n",
       "\\hline\n",
       "\t casual & Sunday   & 1488.500 mins\\\\\n",
       "\t member & Sunday   & 1476.700 mins\\\\\n",
       "\t casual & Monday   & 1497.750 mins\\\\\n",
       "\t member & Monday   & 1493.233 mins\\\\\n",
       "\t casual & Tuesday  & 1499.417 mins\\\\\n",
       "\t member & Tuesday  & 1480.650 mins\\\\\n",
       "\t casual & Thursday & 1498.617 mins\\\\\n",
       "\t member & Thursday & 1473.583 mins\\\\\n",
       "\t casual & Friday   & 1495.817 mins\\\\\n",
       "\t member & Friday   & 1475.633 mins\\\\\n",
       "\t casual & Saturday & 1488.950 mins\\\\\n",
       "\t member & Saturday & 1497.867 mins\\\\\n",
       "\\end{tabular}\n"
      ],
      "text/markdown": [
       "\n",
       "A data.frame: 12 × 3\n",
       "\n",
       "| combined_2$customer_type &lt;chr&gt; | combined_2$day_of_week &lt;ord&gt; | combined_2$ride_length &lt;drtn&gt; |\n",
       "|---|---|---|\n",
       "| casual | Sunday   | 1488.500 mins |\n",
       "| member | Sunday   | 1476.700 mins |\n",
       "| casual | Monday   | 1497.750 mins |\n",
       "| member | Monday   | 1493.233 mins |\n",
       "| casual | Tuesday  | 1499.417 mins |\n",
       "| member | Tuesday  | 1480.650 mins |\n",
       "| casual | Thursday | 1498.617 mins |\n",
       "| member | Thursday | 1473.583 mins |\n",
       "| casual | Friday   | 1495.817 mins |\n",
       "| member | Friday   | 1475.633 mins |\n",
       "| casual | Saturday | 1488.950 mins |\n",
       "| member | Saturday | 1497.867 mins |\n",
       "\n"
      ],
      "text/plain": [
       "   combined_2$customer_type combined_2$day_of_week combined_2$ride_length\n",
       "1  casual                   Sunday                 1488.500 mins         \n",
       "2  member                   Sunday                 1476.700 mins         \n",
       "3  casual                   Monday                 1497.750 mins         \n",
       "4  member                   Monday                 1493.233 mins         \n",
       "5  casual                   Tuesday                1499.417 mins         \n",
       "6  member                   Tuesday                1480.650 mins         \n",
       "7  casual                   Thursday               1498.617 mins         \n",
       "8  member                   Thursday               1473.583 mins         \n",
       "9  casual                   Friday                 1495.817 mins         \n",
       "10 member                   Friday                 1475.633 mins         \n",
       "11 casual                   Saturday               1488.950 mins         \n",
       "12 member                   Saturday               1497.867 mins         "
      ]
     },
     "metadata": {},
     "output_type": "display_data"
    }
   ],
   "source": [
    "## Analysis of maximum ride length by customer type and day of week in minutes\n",
    "aggregate(combined_2$ride_length ~ combined_2$ customer_type + combined_2$day_of_week, FUN =max)"
   ]
  },
  {
   "cell_type": "code",
   "execution_count": 62,
   "id": "2bfb5791",
   "metadata": {
    "vscode": {
     "languageId": "r"
    }
   },
   "outputs": [
    {
     "name": "stderr",
     "output_type": "stream",
     "text": [
      "\u001b[1m\u001b[22m`summarise()` has grouped output by 'start_day'. You can override using the\n",
      "`.groups` argument.\n"
     ]
    },
    {
     "data": {
      "image/png": "[encoded data removed]",
      "text/plain": [
       "plot without title"
      ]
     },
     "metadata": {
      "image/png": {
       "height": 420,
       "width": 420
      }
     },
     "output_type": "display_data"
    }
   ],
   "source": [
    "## comparison of total number of rides completed by each customer types by each day of week\n",
    "data_bar6 = mutate(combined_2, start_day = weekdays(started_at)) %>% group_by(start_day, customer_type) %>%\n",
    "summarise(count_of = n()) \n",
    "level_order <-c('Sunday','Monday', 'Tuesday', 'Wednesday', 'Thursday', 'Friday', 'Saturday') \n",
    "ggplot(data_bar6, aes(x=factor(start_day, level = level_order), y=count_of, fill=customer_type))+ \n",
    "geom_bar(stat=\"identity\") + facet_wrap(~customer_type) + labs( title = \"Number of rides completed by day by user type\", \n",
    "                                                              subtitle = \"For the period between May 2022 and April 2023\", \n",
    "                                                              x = \"Day\", y = \"Number of rides completed\", fill = \"User type\") +\n",
    "geom_text(aes(label=count_of), position = position_stack(vjust = .5), \n",
    "          color=\"black\", angle = 90) + scale_y_continuous(labels = label_number(suffix = \" M\", scale = 1e-6)) + \n",
    "theme(axis.text.x=element_text(angle = 90))"
   ]
  },
  {
   "cell_type": "code",
   "execution_count": 63,
   "id": "be462755",
   "metadata": {
    "vscode": {
     "languageId": "r"
    }
   },
   "outputs": [],
   "source": [
    "## ordering month column\n",
    "combined_2$month = ordered(combined_2$month,levels = c(\"May-22\",\"June-22\",\"July-22\",\"August-22\",\"September-22\",\"October-22\",\n",
    "                                                        \"November-22\", \"December-22\",\"January-23\",\"February-23\",\"March-23\",\"April-23\"))"
   ]
  },
  {
   "cell_type": "code",
   "execution_count": 64,
   "id": "b32966b7",
   "metadata": {
    "vscode": {
     "languageId": "r"
    }
   },
   "outputs": [
    {
     "data": {
      "text/html": [
       "<table class=\"dataframe\">\n",
       "<caption>A data.frame: 24 × 3</caption>\n",
       "<thead>\n",
       "\t<tr><th scope=col>combined_2$customer_type</th><th scope=col>combined_2$month</th><th scope=col>combined_2$ride_length_day</th></tr>\n",
       "\t<tr><th scope=col>&lt;chr&gt;</th><th scope=col>&lt;ord&gt;</th><th scope=col>&lt;drtn&gt;</th></tr>\n",
       "</thead>\n",
       "<tbody>\n",
       "\t<tr><td>casual</td><td>May-22      </td><td>4226.8187 days</td></tr>\n",
       "\t<tr><td>member</td><td>May-22      </td><td>2600.1802 days</td></tr>\n",
       "\t<tr><td>casual</td><td>June-22     </td><td>5065.4465 days</td></tr>\n",
       "\t<tr><td>member</td><td>June-22     </td><td>3111.7958 days</td></tr>\n",
       "\t<tr><td>casual</td><td>July-22     </td><td>5386.0387 days</td></tr>\n",
       "\t<tr><td>member</td><td>July-22     </td><td>3095.6663 days</td></tr>\n",
       "\t<tr><td>casual</td><td>August-22   </td><td>4357.6396 days</td></tr>\n",
       "\t<tr><td>member</td><td>August-22   </td><td>3043.0776 days</td></tr>\n",
       "\t<tr><td>casual</td><td>September-22</td><td>3341.4619 days</td></tr>\n",
       "\t<tr><td>member</td><td>September-22</td><td>2746.1369 days</td></tr>\n",
       "\t<tr><td>casual</td><td>October-22  </td><td>2142.5981 days</td></tr>\n",
       "\t<tr><td>member</td><td>October-22  </td><td>2124.0853 days</td></tr>\n",
       "\t<tr><td>casual</td><td>November-22 </td><td> 879.4017 days</td></tr>\n",
       "\t<tr><td>member</td><td>November-22 </td><td>1364.5099 days</td></tr>\n",
       "\t<tr><td>casual</td><td>December-22 </td><td> 324.0348 days</td></tr>\n",
       "\t<tr><td>member</td><td>December-22 </td><td> 732.5847 days</td></tr>\n",
       "\t<tr><td>casual</td><td>January-23  </td><td> 305.4064 days</td></tr>\n",
       "\t<tr><td>member</td><td>January-23  </td><td> 820.0365 days</td></tr>\n",
       "\t<tr><td>casual</td><td>February-23 </td><td> 402.8627 days</td></tr>\n",
       "\t<tr><td>member</td><td>February-23 </td><td> 841.7856 days</td></tr>\n",
       "\t<tr><td>casual</td><td>March-23    </td><td> 542.3271 days</td></tr>\n",
       "\t<tr><td>member</td><td>March-23    </td><td>1079.4014 days</td></tr>\n",
       "\t<tr><td>casual</td><td>April-23    </td><td>1732.7897 days</td></tr>\n",
       "\t<tr><td>member</td><td>April-23    </td><td>1707.4426 days</td></tr>\n",
       "</tbody>\n",
       "</table>\n"
      ],
      "text/latex": [
       "A data.frame: 24 × 3\n",
       "\\begin{tabular}{lll}\n",
       " combined\\_2\\$customer\\_type & combined\\_2\\$month & combined\\_2\\$ride\\_length\\_day\\\\\n",
       " <chr> & <ord> & <drtn>\\\\\n",
       "\\hline\n",
       "\t casual & May-22       & 4226.8187 days\\\\\n",
       "\t member & May-22       & 2600.1802 days\\\\\n",
       "\t casual & June-22      & 5065.4465 days\\\\\n",
       "\t member & June-22      & 3111.7958 days\\\\\n",
       "\t casual & July-22      & 5386.0387 days\\\\\n",
       "\t member & July-22      & 3095.6663 days\\\\\n",
       "\t casual & August-22    & 4357.6396 days\\\\\n",
       "\t member & August-22    & 3043.0776 days\\\\\n",
       "\t casual & September-22 & 3341.4619 days\\\\\n",
       "\t member & September-22 & 2746.1369 days\\\\\n",
       "\t casual & October-22   & 2142.5981 days\\\\\n",
       "\t member & October-22   & 2124.0853 days\\\\\n",
       "\t casual & November-22  &  879.4017 days\\\\\n",
       "\t member & November-22  & 1364.5099 days\\\\\n",
       "\t casual & December-22  &  324.0348 days\\\\\n",
       "\t member & December-22  &  732.5847 days\\\\\n",
       "\t casual & January-23   &  305.4064 days\\\\\n",
       "\t member & January-23   &  820.0365 days\\\\\n",
       "\t casual & February-23  &  402.8627 days\\\\\n",
       "\t member & February-23  &  841.7856 days\\\\\n",
       "\t casual & March-23     &  542.3271 days\\\\\n",
       "\t member & March-23     & 1079.4014 days\\\\\n",
       "\t casual & April-23     & 1732.7897 days\\\\\n",
       "\t member & April-23     & 1707.4426 days\\\\\n",
       "\\end{tabular}\n"
      ],
      "text/markdown": [
       "\n",
       "A data.frame: 24 × 3\n",
       "\n",
       "| combined_2$customer_type &lt;chr&gt; | combined_2$month &lt;ord&gt; | combined_2$ride_length_day &lt;drtn&gt; |\n",
       "|---|---|---|\n",
       "| casual | May-22       | 4226.8187 days |\n",
       "| member | May-22       | 2600.1802 days |\n",
       "| casual | June-22      | 5065.4465 days |\n",
       "| member | June-22      | 3111.7958 days |\n",
       "| casual | July-22      | 5386.0387 days |\n",
       "| member | July-22      | 3095.6663 days |\n",
       "| casual | August-22    | 4357.6396 days |\n",
       "| member | August-22    | 3043.0776 days |\n",
       "| casual | September-22 | 3341.4619 days |\n",
       "| member | September-22 | 2746.1369 days |\n",
       "| casual | October-22   | 2142.5981 days |\n",
       "| member | October-22   | 2124.0853 days |\n",
       "| casual | November-22  |  879.4017 days |\n",
       "| member | November-22  | 1364.5099 days |\n",
       "| casual | December-22  |  324.0348 days |\n",
       "| member | December-22  |  732.5847 days |\n",
       "| casual | January-23   |  305.4064 days |\n",
       "| member | January-23   |  820.0365 days |\n",
       "| casual | February-23  |  402.8627 days |\n",
       "| member | February-23  |  841.7856 days |\n",
       "| casual | March-23     |  542.3271 days |\n",
       "| member | March-23     | 1079.4014 days |\n",
       "| casual | April-23     | 1732.7897 days |\n",
       "| member | April-23     | 1707.4426 days |\n",
       "\n"
      ],
      "text/plain": [
       "   combined_2$customer_type combined_2$month combined_2$ride_length_day\n",
       "1  casual                   May-22           4226.8187 days            \n",
       "2  member                   May-22           2600.1802 days            \n",
       "3  casual                   June-22          5065.4465 days            \n",
       "4  member                   June-22          3111.7958 days            \n",
       "5  casual                   July-22          5386.0387 days            \n",
       "6  member                   July-22          3095.6663 days            \n",
       "7  casual                   August-22        4357.6396 days            \n",
       "8  member                   August-22        3043.0776 days            \n",
       "9  casual                   September-22     3341.4619 days            \n",
       "10 member                   September-22     2746.1369 days            \n",
       "11 casual                   October-22       2142.5981 days            \n",
       "12 member                   October-22       2124.0853 days            \n",
       "13 casual                   November-22       879.4017 days            \n",
       "14 member                   November-22      1364.5099 days            \n",
       "15 casual                   December-22       324.0348 days            \n",
       "16 member                   December-22       732.5847 days            \n",
       "17 casual                   January-23        305.4064 days            \n",
       "18 member                   January-23        820.0365 days            \n",
       "19 casual                   February-23       402.8627 days            \n",
       "20 member                   February-23       841.7856 days            \n",
       "21 casual                   March-23          542.3271 days            \n",
       "22 member                   March-23         1079.4014 days            \n",
       "23 casual                   April-23         1732.7897 days            \n",
       "24 member                   April-23         1707.4426 days            "
      ]
     },
     "metadata": {},
     "output_type": "display_data"
    }
   ],
   "source": [
    "## analysis of total ride length by customer type and month in days\n",
    "aggregate(combined_2$ride_length_day ~ combined_2$ customer_type + combined_2$month, FUN =sum)"
   ]
  },
  {
   "cell_type": "code",
   "execution_count": 65,
   "id": "7ba59e9b",
   "metadata": {
    "vscode": {
     "languageId": "r"
    }
   },
   "outputs": [
    {
     "data": {
      "text/html": [
       "<table class=\"dataframe\">\n",
       "<caption>A data.frame: 24 × 3</caption>\n",
       "<thead>\n",
       "\t<tr><th scope=col>combined_2$customer_type</th><th scope=col>combined_2$month</th><th scope=col>combined_2$ride_length</th></tr>\n",
       "\t<tr><th scope=col>&lt;chr&gt;</th><th scope=col>&lt;ord&gt;</th><th scope=col>&lt;drtn&gt;</th></tr>\n",
       "</thead>\n",
       "<tbody>\n",
       "\t<tr><td>casual</td><td>May-22      </td><td>28.32843 mins</td></tr>\n",
       "\t<tr><td>member</td><td>May-22      </td><td>13.77285 mins</td></tr>\n",
       "\t<tr><td>casual</td><td>June-22     </td><td>25.62368 mins</td></tr>\n",
       "\t<tr><td>member</td><td>June-22     </td><td>14.14377 mins</td></tr>\n",
       "\t<tr><td>casual</td><td>July-22     </td><td>25.57288 mins</td></tr>\n",
       "\t<tr><td>member</td><td>July-22     </td><td>13.99048 mins</td></tr>\n",
       "\t<tr><td>casual</td><td>August-22   </td><td>23.87212 mins</td></tr>\n",
       "\t<tr><td>member</td><td>August-22   </td><td>13.56355 mins</td></tr>\n",
       "\t<tr><td>casual</td><td>September-22</td><td>22.36681 mins</td></tr>\n",
       "\t<tr><td>member</td><td>September-22</td><td>13.08719 mins</td></tr>\n",
       "\t<tr><td>casual</td><td>October-22  </td><td>20.96903 mins</td></tr>\n",
       "\t<tr><td>member</td><td>October-22  </td><td>12.14192 mins</td></tr>\n",
       "\t<tr><td>casual</td><td>November-22 </td><td>17.71697 mins</td></tr>\n",
       "\t<tr><td>member</td><td>November-22 </td><td>11.25491 mins</td></tr>\n",
       "\t<tr><td>casual</td><td>December-22 </td><td>15.28616 mins</td></tr>\n",
       "\t<tr><td>member</td><td>December-22 </td><td>10.63901 mins</td></tr>\n",
       "\t<tr><td>casual</td><td>January-23  </td><td>15.38733 mins</td></tr>\n",
       "\t<tr><td>member</td><td>January-23  </td><td>10.51441 mins</td></tr>\n",
       "\t<tr><td>casual</td><td>February-23 </td><td>18.24112 mins</td></tr>\n",
       "\t<tr><td>member</td><td>February-23 </td><td>10.94462 mins</td></tr>\n",
       "\t<tr><td>casual</td><td>March-23    </td><td>17.30333 mins</td></tr>\n",
       "\t<tr><td>member</td><td>March-23    </td><td>10.74603 mins</td></tr>\n",
       "\t<tr><td>casual</td><td>April-23    </td><td>23.33505 mins</td></tr>\n",
       "\t<tr><td>member</td><td>April-23    </td><td>12.17518 mins</td></tr>\n",
       "</tbody>\n",
       "</table>\n"
      ],
      "text/latex": [
       "A data.frame: 24 × 3\n",
       "\\begin{tabular}{lll}\n",
       " combined\\_2\\$customer\\_type & combined\\_2\\$month & combined\\_2\\$ride\\_length\\\\\n",
       " <chr> & <ord> & <drtn>\\\\\n",
       "\\hline\n",
       "\t casual & May-22       & 28.32843 mins\\\\\n",
       "\t member & May-22       & 13.77285 mins\\\\\n",
       "\t casual & June-22      & 25.62368 mins\\\\\n",
       "\t member & June-22      & 14.14377 mins\\\\\n",
       "\t casual & July-22      & 25.57288 mins\\\\\n",
       "\t member & July-22      & 13.99048 mins\\\\\n",
       "\t casual & August-22    & 23.87212 mins\\\\\n",
       "\t member & August-22    & 13.56355 mins\\\\\n",
       "\t casual & September-22 & 22.36681 mins\\\\\n",
       "\t member & September-22 & 13.08719 mins\\\\\n",
       "\t casual & October-22   & 20.96903 mins\\\\\n",
       "\t member & October-22   & 12.14192 mins\\\\\n",
       "\t casual & November-22  & 17.71697 mins\\\\\n",
       "\t member & November-22  & 11.25491 mins\\\\\n",
       "\t casual & December-22  & 15.28616 mins\\\\\n",
       "\t member & December-22  & 10.63901 mins\\\\\n",
       "\t casual & January-23   & 15.38733 mins\\\\\n",
       "\t member & January-23   & 10.51441 mins\\\\\n",
       "\t casual & February-23  & 18.24112 mins\\\\\n",
       "\t member & February-23  & 10.94462 mins\\\\\n",
       "\t casual & March-23     & 17.30333 mins\\\\\n",
       "\t member & March-23     & 10.74603 mins\\\\\n",
       "\t casual & April-23     & 23.33505 mins\\\\\n",
       "\t member & April-23     & 12.17518 mins\\\\\n",
       "\\end{tabular}\n"
      ],
      "text/markdown": [
       "\n",
       "A data.frame: 24 × 3\n",
       "\n",
       "| combined_2$customer_type &lt;chr&gt; | combined_2$month &lt;ord&gt; | combined_2$ride_length &lt;drtn&gt; |\n",
       "|---|---|---|\n",
       "| casual | May-22       | 28.32843 mins |\n",
       "| member | May-22       | 13.77285 mins |\n",
       "| casual | June-22      | 25.62368 mins |\n",
       "| member | June-22      | 14.14377 mins |\n",
       "| casual | July-22      | 25.57288 mins |\n",
       "| member | July-22      | 13.99048 mins |\n",
       "| casual | August-22    | 23.87212 mins |\n",
       "| member | August-22    | 13.56355 mins |\n",
       "| casual | September-22 | 22.36681 mins |\n",
       "| member | September-22 | 13.08719 mins |\n",
       "| casual | October-22   | 20.96903 mins |\n",
       "| member | October-22   | 12.14192 mins |\n",
       "| casual | November-22  | 17.71697 mins |\n",
       "| member | November-22  | 11.25491 mins |\n",
       "| casual | December-22  | 15.28616 mins |\n",
       "| member | December-22  | 10.63901 mins |\n",
       "| casual | January-23   | 15.38733 mins |\n",
       "| member | January-23   | 10.51441 mins |\n",
       "| casual | February-23  | 18.24112 mins |\n",
       "| member | February-23  | 10.94462 mins |\n",
       "| casual | March-23     | 17.30333 mins |\n",
       "| member | March-23     | 10.74603 mins |\n",
       "| casual | April-23     | 23.33505 mins |\n",
       "| member | April-23     | 12.17518 mins |\n",
       "\n"
      ],
      "text/plain": [
       "   combined_2$customer_type combined_2$month combined_2$ride_length\n",
       "1  casual                   May-22           28.32843 mins         \n",
       "2  member                   May-22           13.77285 mins         \n",
       "3  casual                   June-22          25.62368 mins         \n",
       "4  member                   June-22          14.14377 mins         \n",
       "5  casual                   July-22          25.57288 mins         \n",
       "6  member                   July-22          13.99048 mins         \n",
       "7  casual                   August-22        23.87212 mins         \n",
       "8  member                   August-22        13.56355 mins         \n",
       "9  casual                   September-22     22.36681 mins         \n",
       "10 member                   September-22     13.08719 mins         \n",
       "11 casual                   October-22       20.96903 mins         \n",
       "12 member                   October-22       12.14192 mins         \n",
       "13 casual                   November-22      17.71697 mins         \n",
       "14 member                   November-22      11.25491 mins         \n",
       "15 casual                   December-22      15.28616 mins         \n",
       "16 member                   December-22      10.63901 mins         \n",
       "17 casual                   January-23       15.38733 mins         \n",
       "18 member                   January-23       10.51441 mins         \n",
       "19 casual                   February-23      18.24112 mins         \n",
       "20 member                   February-23      10.94462 mins         \n",
       "21 casual                   March-23         17.30333 mins         \n",
       "22 member                   March-23         10.74603 mins         \n",
       "23 casual                   April-23         23.33505 mins         \n",
       "24 member                   April-23         12.17518 mins         "
      ]
     },
     "metadata": {},
     "output_type": "display_data"
    }
   ],
   "source": [
    "## analysis of average ride length by customer type and month in minutes\n",
    "aggregate(combined_2$ride_length ~ combined_2$ customer_type + combined_2$month, FUN =mean)"
   ]
  },
  {
   "cell_type": "code",
   "execution_count": 66,
   "id": "f8a94d42",
   "metadata": {
    "vscode": {
     "languageId": "r"
    }
   },
   "outputs": [
    {
     "data": {
      "text/html": [
       "<table class=\"dataframe\">\n",
       "<caption>A data.frame: 24 × 3</caption>\n",
       "<thead>\n",
       "\t<tr><th scope=col>combined_2$customer_type</th><th scope=col>combined_2$month</th><th scope=col>combined_2$ride_length</th></tr>\n",
       "\t<tr><th scope=col>&lt;chr&gt;</th><th scope=col>&lt;ord&gt;</th><th scope=col>&lt;drtn&gt;</th></tr>\n",
       "</thead>\n",
       "<tbody>\n",
       "\t<tr><td>casual</td><td>May-22      </td><td>16.716667 mins</td></tr>\n",
       "\t<tr><td>member</td><td>May-22      </td><td>10.016667 mins</td></tr>\n",
       "\t<tr><td>casual</td><td>June-22     </td><td>15.433333 mins</td></tr>\n",
       "\t<tr><td>member</td><td>June-22     </td><td>10.466667 mins</td></tr>\n",
       "\t<tr><td>casual</td><td>July-22     </td><td>15.266667 mins</td></tr>\n",
       "\t<tr><td>member</td><td>July-22     </td><td>10.366667 mins</td></tr>\n",
       "\t<tr><td>casual</td><td>August-22   </td><td>14.150000 mins</td></tr>\n",
       "\t<tr><td>member</td><td>August-22   </td><td>10.033333 mins</td></tr>\n",
       "\t<tr><td>casual</td><td>September-22</td><td>13.183333 mins</td></tr>\n",
       "\t<tr><td>member</td><td>September-22</td><td> 9.516667 mins</td></tr>\n",
       "\t<tr><td>casual</td><td>October-22  </td><td>12.083333 mins</td></tr>\n",
       "\t<tr><td>member</td><td>October-22  </td><td> 8.633333 mins</td></tr>\n",
       "\t<tr><td>casual</td><td>November-22 </td><td>10.250000 mins</td></tr>\n",
       "\t<tr><td>member</td><td>November-22 </td><td> 8.066667 mins</td></tr>\n",
       "\t<tr><td>casual</td><td>December-22 </td><td> 8.900000 mins</td></tr>\n",
       "\t<tr><td>member</td><td>December-22 </td><td> 7.700000 mins</td></tr>\n",
       "\t<tr><td>casual</td><td>January-23  </td><td> 8.500000 mins</td></tr>\n",
       "\t<tr><td>member</td><td>January-23  </td><td> 7.450000 mins</td></tr>\n",
       "\t<tr><td>casual</td><td>February-23 </td><td> 9.550000 mins</td></tr>\n",
       "\t<tr><td>member</td><td>February-23 </td><td> 7.600000 mins</td></tr>\n",
       "\t<tr><td>casual</td><td>March-23    </td><td> 9.533333 mins</td></tr>\n",
       "\t<tr><td>member</td><td>March-23    </td><td> 7.700000 mins</td></tr>\n",
       "\t<tr><td>casual</td><td>April-23    </td><td>12.716667 mins</td></tr>\n",
       "\t<tr><td>member</td><td>April-23    </td><td> 8.616667 mins</td></tr>\n",
       "</tbody>\n",
       "</table>\n"
      ],
      "text/latex": [
       "A data.frame: 24 × 3\n",
       "\\begin{tabular}{lll}\n",
       " combined\\_2\\$customer\\_type & combined\\_2\\$month & combined\\_2\\$ride\\_length\\\\\n",
       " <chr> & <ord> & <drtn>\\\\\n",
       "\\hline\n",
       "\t casual & May-22       & 16.716667 mins\\\\\n",
       "\t member & May-22       & 10.016667 mins\\\\\n",
       "\t casual & June-22      & 15.433333 mins\\\\\n",
       "\t member & June-22      & 10.466667 mins\\\\\n",
       "\t casual & July-22      & 15.266667 mins\\\\\n",
       "\t member & July-22      & 10.366667 mins\\\\\n",
       "\t casual & August-22    & 14.150000 mins\\\\\n",
       "\t member & August-22    & 10.033333 mins\\\\\n",
       "\t casual & September-22 & 13.183333 mins\\\\\n",
       "\t member & September-22 &  9.516667 mins\\\\\n",
       "\t casual & October-22   & 12.083333 mins\\\\\n",
       "\t member & October-22   &  8.633333 mins\\\\\n",
       "\t casual & November-22  & 10.250000 mins\\\\\n",
       "\t member & November-22  &  8.066667 mins\\\\\n",
       "\t casual & December-22  &  8.900000 mins\\\\\n",
       "\t member & December-22  &  7.700000 mins\\\\\n",
       "\t casual & January-23   &  8.500000 mins\\\\\n",
       "\t member & January-23   &  7.450000 mins\\\\\n",
       "\t casual & February-23  &  9.550000 mins\\\\\n",
       "\t member & February-23  &  7.600000 mins\\\\\n",
       "\t casual & March-23     &  9.533333 mins\\\\\n",
       "\t member & March-23     &  7.700000 mins\\\\\n",
       "\t casual & April-23     & 12.716667 mins\\\\\n",
       "\t member & April-23     &  8.616667 mins\\\\\n",
       "\\end{tabular}\n"
      ],
      "text/markdown": [
       "\n",
       "A data.frame: 24 × 3\n",
       "\n",
       "| combined_2$customer_type &lt;chr&gt; | combined_2$month &lt;ord&gt; | combined_2$ride_length &lt;drtn&gt; |\n",
       "|---|---|---|\n",
       "| casual | May-22       | 16.716667 mins |\n",
       "| member | May-22       | 10.016667 mins |\n",
       "| casual | June-22      | 15.433333 mins |\n",
       "| member | June-22      | 10.466667 mins |\n",
       "| casual | July-22      | 15.266667 mins |\n",
       "| member | July-22      | 10.366667 mins |\n",
       "| casual | August-22    | 14.150000 mins |\n",
       "| member | August-22    | 10.033333 mins |\n",
       "| casual | September-22 | 13.183333 mins |\n",
       "| member | September-22 |  9.516667 mins |\n",
       "| casual | October-22   | 12.083333 mins |\n",
       "| member | October-22   |  8.633333 mins |\n",
       "| casual | November-22  | 10.250000 mins |\n",
       "| member | November-22  |  8.066667 mins |\n",
       "| casual | December-22  |  8.900000 mins |\n",
       "| member | December-22  |  7.700000 mins |\n",
       "| casual | January-23   |  8.500000 mins |\n",
       "| member | January-23   |  7.450000 mins |\n",
       "| casual | February-23  |  9.550000 mins |\n",
       "| member | February-23  |  7.600000 mins |\n",
       "| casual | March-23     |  9.533333 mins |\n",
       "| member | March-23     |  7.700000 mins |\n",
       "| casual | April-23     | 12.716667 mins |\n",
       "| member | April-23     |  8.616667 mins |\n",
       "\n"
      ],
      "text/plain": [
       "   combined_2$customer_type combined_2$month combined_2$ride_length\n",
       "1  casual                   May-22           16.716667 mins        \n",
       "2  member                   May-22           10.016667 mins        \n",
       "3  casual                   June-22          15.433333 mins        \n",
       "4  member                   June-22          10.466667 mins        \n",
       "5  casual                   July-22          15.266667 mins        \n",
       "6  member                   July-22          10.366667 mins        \n",
       "7  casual                   August-22        14.150000 mins        \n",
       "8  member                   August-22        10.033333 mins        \n",
       "9  casual                   September-22     13.183333 mins        \n",
       "10 member                   September-22      9.516667 mins        \n",
       "11 casual                   October-22       12.083333 mins        \n",
       "12 member                   October-22        8.633333 mins        \n",
       "13 casual                   November-22      10.250000 mins        \n",
       "14 member                   November-22       8.066667 mins        \n",
       "15 casual                   December-22       8.900000 mins        \n",
       "16 member                   December-22       7.700000 mins        \n",
       "17 casual                   January-23        8.500000 mins        \n",
       "18 member                   January-23        7.450000 mins        \n",
       "19 casual                   February-23       9.550000 mins        \n",
       "20 member                   February-23       7.600000 mins        \n",
       "21 casual                   March-23          9.533333 mins        \n",
       "22 member                   March-23          7.700000 mins        \n",
       "23 casual                   April-23         12.716667 mins        \n",
       "24 member                   April-23          8.616667 mins        "
      ]
     },
     "metadata": {},
     "output_type": "display_data"
    }
   ],
   "source": [
    "## analysis of median ride length by customer type and month in minutes\n",
    "aggregate(combined_2$ride_length ~ combined_2$ customer_type + combined_2$month, FUN =median)"
   ]
  },
  {
   "cell_type": "code",
   "execution_count": 67,
   "id": "f5eedd83",
   "metadata": {
    "vscode": {
     "languageId": "r"
    }
   },
   "outputs": [
    {
     "data": {
      "text/html": [
       "<table class=\"dataframe\">\n",
       "<caption>A data.frame: 24 × 3</caption>\n",
       "<thead>\n",
       "\t<tr><th scope=col>combined_2$customer_type</th><th scope=col>combined_2$month</th><th scope=col>combined_2$ride_length</th></tr>\n",
       "\t<tr><th scope=col>&lt;chr&gt;</th><th scope=col>&lt;ord&gt;</th><th scope=col>&lt;drtn&gt;</th></tr>\n",
       "</thead>\n",
       "<tbody>\n",
       "\t<tr><td>casual</td><td>May-22      </td><td>2 mins</td></tr>\n",
       "\t<tr><td>member</td><td>May-22      </td><td>2 mins</td></tr>\n",
       "\t<tr><td>casual</td><td>June-22     </td><td>2 mins</td></tr>\n",
       "\t<tr><td>member</td><td>June-22     </td><td>2 mins</td></tr>\n",
       "\t<tr><td>casual</td><td>July-22     </td><td>2 mins</td></tr>\n",
       "\t<tr><td>member</td><td>July-22     </td><td>2 mins</td></tr>\n",
       "\t<tr><td>casual</td><td>August-22   </td><td>2 mins</td></tr>\n",
       "\t<tr><td>member</td><td>August-22   </td><td>2 mins</td></tr>\n",
       "\t<tr><td>casual</td><td>September-22</td><td>2 mins</td></tr>\n",
       "\t<tr><td>member</td><td>September-22</td><td>2 mins</td></tr>\n",
       "\t<tr><td>casual</td><td>October-22  </td><td>2 mins</td></tr>\n",
       "\t<tr><td>member</td><td>October-22  </td><td>2 mins</td></tr>\n",
       "\t<tr><td>casual</td><td>November-22 </td><td>2 mins</td></tr>\n",
       "\t<tr><td>member</td><td>November-22 </td><td>2 mins</td></tr>\n",
       "\t<tr><td>casual</td><td>December-22 </td><td>2 mins</td></tr>\n",
       "\t<tr><td>member</td><td>December-22 </td><td>2 mins</td></tr>\n",
       "\t<tr><td>casual</td><td>January-23  </td><td>2 mins</td></tr>\n",
       "\t<tr><td>member</td><td>January-23  </td><td>2 mins</td></tr>\n",
       "\t<tr><td>casual</td><td>February-23 </td><td>2 mins</td></tr>\n",
       "\t<tr><td>member</td><td>February-23 </td><td>2 mins</td></tr>\n",
       "\t<tr><td>casual</td><td>March-23    </td><td>2 mins</td></tr>\n",
       "\t<tr><td>member</td><td>March-23    </td><td>2 mins</td></tr>\n",
       "\t<tr><td>casual</td><td>April-23    </td><td>2 mins</td></tr>\n",
       "\t<tr><td>member</td><td>April-23    </td><td>2 mins</td></tr>\n",
       "</tbody>\n",
       "</table>\n"
      ],
      "text/latex": [
       "A data.frame: 24 × 3\n",
       "\\begin{tabular}{lll}\n",
       " combined\\_2\\$customer\\_type & combined\\_2\\$month & combined\\_2\\$ride\\_length\\\\\n",
       " <chr> & <ord> & <drtn>\\\\\n",
       "\\hline\n",
       "\t casual & May-22       & 2 mins\\\\\n",
       "\t member & May-22       & 2 mins\\\\\n",
       "\t casual & June-22      & 2 mins\\\\\n",
       "\t member & June-22      & 2 mins\\\\\n",
       "\t casual & July-22      & 2 mins\\\\\n",
       "\t member & July-22      & 2 mins\\\\\n",
       "\t casual & August-22    & 2 mins\\\\\n",
       "\t member & August-22    & 2 mins\\\\\n",
       "\t casual & September-22 & 2 mins\\\\\n",
       "\t member & September-22 & 2 mins\\\\\n",
       "\t casual & October-22   & 2 mins\\\\\n",
       "\t member & October-22   & 2 mins\\\\\n",
       "\t casual & November-22  & 2 mins\\\\\n",
       "\t member & November-22  & 2 mins\\\\\n",
       "\t casual & December-22  & 2 mins\\\\\n",
       "\t member & December-22  & 2 mins\\\\\n",
       "\t casual & January-23   & 2 mins\\\\\n",
       "\t member & January-23   & 2 mins\\\\\n",
       "\t casual & February-23  & 2 mins\\\\\n",
       "\t member & February-23  & 2 mins\\\\\n",
       "\t casual & March-23     & 2 mins\\\\\n",
       "\t member & March-23     & 2 mins\\\\\n",
       "\t casual & April-23     & 2 mins\\\\\n",
       "\t member & April-23     & 2 mins\\\\\n",
       "\\end{tabular}\n"
      ],
      "text/markdown": [
       "\n",
       "A data.frame: 24 × 3\n",
       "\n",
       "| combined_2$customer_type &lt;chr&gt; | combined_2$month &lt;ord&gt; | combined_2$ride_length &lt;drtn&gt; |\n",
       "|---|---|---|\n",
       "| casual | May-22       | 2 mins |\n",
       "| member | May-22       | 2 mins |\n",
       "| casual | June-22      | 2 mins |\n",
       "| member | June-22      | 2 mins |\n",
       "| casual | July-22      | 2 mins |\n",
       "| member | July-22      | 2 mins |\n",
       "| casual | August-22    | 2 mins |\n",
       "| member | August-22    | 2 mins |\n",
       "| casual | September-22 | 2 mins |\n",
       "| member | September-22 | 2 mins |\n",
       "| casual | October-22   | 2 mins |\n",
       "| member | October-22   | 2 mins |\n",
       "| casual | November-22  | 2 mins |\n",
       "| member | November-22  | 2 mins |\n",
       "| casual | December-22  | 2 mins |\n",
       "| member | December-22  | 2 mins |\n",
       "| casual | January-23   | 2 mins |\n",
       "| member | January-23   | 2 mins |\n",
       "| casual | February-23  | 2 mins |\n",
       "| member | February-23  | 2 mins |\n",
       "| casual | March-23     | 2 mins |\n",
       "| member | March-23     | 2 mins |\n",
       "| casual | April-23     | 2 mins |\n",
       "| member | April-23     | 2 mins |\n",
       "\n"
      ],
      "text/plain": [
       "   combined_2$customer_type combined_2$month combined_2$ride_length\n",
       "1  casual                   May-22           2 mins                \n",
       "2  member                   May-22           2 mins                \n",
       "3  casual                   June-22          2 mins                \n",
       "4  member                   June-22          2 mins                \n",
       "5  casual                   July-22          2 mins                \n",
       "6  member                   July-22          2 mins                \n",
       "7  casual                   August-22        2 mins                \n",
       "8  member                   August-22        2 mins                \n",
       "9  casual                   September-22     2 mins                \n",
       "10 member                   September-22     2 mins                \n",
       "11 casual                   October-22       2 mins                \n",
       "12 member                   October-22       2 mins                \n",
       "13 casual                   November-22      2 mins                \n",
       "14 member                   November-22      2 mins                \n",
       "15 casual                   December-22      2 mins                \n",
       "16 member                   December-22      2 mins                \n",
       "17 casual                   January-23       2 mins                \n",
       "18 member                   January-23       2 mins                \n",
       "19 casual                   February-23      2 mins                \n",
       "20 member                   February-23      2 mins                \n",
       "21 casual                   March-23         2 mins                \n",
       "22 member                   March-23         2 mins                \n",
       "23 casual                   April-23         2 mins                \n",
       "24 member                   April-23         2 mins                "
      ]
     },
     "metadata": {},
     "output_type": "display_data"
    }
   ],
   "source": [
    "## analysis of minimum ride length by customer type and month in minutes\n",
    "aggregate(combined_2$ride_length ~ combined_2$ customer_type + combined_2$month, FUN =min)"
   ]
  },
  {
   "cell_type": "code",
   "execution_count": 68,
   "id": "f8322ca9",
   "metadata": {
    "vscode": {
     "languageId": "r"
    }
   },
   "outputs": [
    {
     "data": {
      "text/html": [
       "<table class=\"dataframe\">\n",
       "<caption>A data.frame: 24 × 3</caption>\n",
       "<thead>\n",
       "\t<tr><th scope=col>combined_2$customer_type</th><th scope=col>combined_2$month</th><th scope=col>combined_2$ride_length</th></tr>\n",
       "\t<tr><th scope=col>&lt;chr&gt;</th><th scope=col>&lt;ord&gt;</th><th scope=col>&lt;drtn&gt;</th></tr>\n",
       "</thead>\n",
       "<tbody>\n",
       "\t<tr><td>casual</td><td>May-22      </td><td>1499.417 mins</td></tr>\n",
       "\t<tr><td>member</td><td>May-22      </td><td>1475.633 mins</td></tr>\n",
       "\t<tr><td>casual</td><td>June-22     </td><td>1492.217 mins</td></tr>\n",
       "\t<tr><td>member</td><td>June-22     </td><td>1323.533 mins</td></tr>\n",
       "\t<tr><td>casual</td><td>July-22     </td><td>1497.750 mins</td></tr>\n",
       "\t<tr><td>member</td><td>July-22     </td><td>1476.700 mins</td></tr>\n",
       "\t<tr><td>casual</td><td>August-22   </td><td>1498.617 mins</td></tr>\n",
       "\t<tr><td>member</td><td>August-22   </td><td>1445.350 mins</td></tr>\n",
       "\t<tr><td>casual</td><td>September-22</td><td>1494.400 mins</td></tr>\n",
       "\t<tr><td>member</td><td>September-22</td><td>1471.283 mins</td></tr>\n",
       "\t<tr><td>casual</td><td>October-22  </td><td>1488.500 mins</td></tr>\n",
       "\t<tr><td>member</td><td>October-22  </td><td>1456.417 mins</td></tr>\n",
       "\t<tr><td>casual</td><td>November-22 </td><td>1485.967 mins</td></tr>\n",
       "\t<tr><td>member</td><td>November-22 </td><td>1493.233 mins</td></tr>\n",
       "\t<tr><td>casual</td><td>December-22 </td><td>1475.900 mins</td></tr>\n",
       "\t<tr><td>member</td><td>December-22 </td><td>1406.350 mins</td></tr>\n",
       "\t<tr><td>casual</td><td>January-23  </td><td>1443.083 mins</td></tr>\n",
       "\t<tr><td>member</td><td>January-23  </td><td>1497.867 mins</td></tr>\n",
       "\t<tr><td>casual</td><td>February-23 </td><td>1462.417 mins</td></tr>\n",
       "\t<tr><td>member</td><td>February-23 </td><td>1468.417 mins</td></tr>\n",
       "\t<tr><td>casual</td><td>March-23    </td><td>1496.833 mins</td></tr>\n",
       "\t<tr><td>member</td><td>March-23    </td><td>1480.650 mins</td></tr>\n",
       "\t<tr><td>casual</td><td>April-23    </td><td>1479.783 mins</td></tr>\n",
       "\t<tr><td>member</td><td>April-23    </td><td>1433.300 mins</td></tr>\n",
       "</tbody>\n",
       "</table>\n"
      ],
      "text/latex": [
       "A data.frame: 24 × 3\n",
       "\\begin{tabular}{lll}\n",
       " combined\\_2\\$customer\\_type & combined\\_2\\$month & combined\\_2\\$ride\\_length\\\\\n",
       " <chr> & <ord> & <drtn>\\\\\n",
       "\\hline\n",
       "\t casual & May-22       & 1499.417 mins\\\\\n",
       "\t member & May-22       & 1475.633 mins\\\\\n",
       "\t casual & June-22      & 1492.217 mins\\\\\n",
       "\t member & June-22      & 1323.533 mins\\\\\n",
       "\t casual & July-22      & 1497.750 mins\\\\\n",
       "\t member & July-22      & 1476.700 mins\\\\\n",
       "\t casual & August-22    & 1498.617 mins\\\\\n",
       "\t member & August-22    & 1445.350 mins\\\\\n",
       "\t casual & September-22 & 1494.400 mins\\\\\n",
       "\t member & September-22 & 1471.283 mins\\\\\n",
       "\t casual & October-22   & 1488.500 mins\\\\\n",
       "\t member & October-22   & 1456.417 mins\\\\\n",
       "\t casual & November-22  & 1485.967 mins\\\\\n",
       "\t member & November-22  & 1493.233 mins\\\\\n",
       "\t casual & December-22  & 1475.900 mins\\\\\n",
       "\t member & December-22  & 1406.350 mins\\\\\n",
       "\t casual & January-23   & 1443.083 mins\\\\\n",
       "\t member & January-23   & 1497.867 mins\\\\\n",
       "\t casual & February-23  & 1462.417 mins\\\\\n",
       "\t member & February-23  & 1468.417 mins\\\\\n",
       "\t casual & March-23     & 1496.833 mins\\\\\n",
       "\t member & March-23     & 1480.650 mins\\\\\n",
       "\t casual & April-23     & 1479.783 mins\\\\\n",
       "\t member & April-23     & 1433.300 mins\\\\\n",
       "\\end{tabular}\n"
      ],
      "text/markdown": [
       "\n",
       "A data.frame: 24 × 3\n",
       "\n",
       "| combined_2$customer_type &lt;chr&gt; | combined_2$month &lt;ord&gt; | combined_2$ride_length &lt;drtn&gt; |\n",
       "|---|---|---|\n",
       "| casual | May-22       | 1499.417 mins |\n",
       "| member | May-22       | 1475.633 mins |\n",
       "| casual | June-22      | 1492.217 mins |\n",
       "| member | June-22      | 1323.533 mins |\n",
       "| casual | July-22      | 1497.750 mins |\n",
       "| member | July-22      | 1476.700 mins |\n",
       "| casual | August-22    | 1498.617 mins |\n",
       "| member | August-22    | 1445.350 mins |\n",
       "| casual | September-22 | 1494.400 mins |\n",
       "| member | September-22 | 1471.283 mins |\n",
       "| casual | October-22   | 1488.500 mins |\n",
       "| member | October-22   | 1456.417 mins |\n",
       "| casual | November-22  | 1485.967 mins |\n",
       "| member | November-22  | 1493.233 mins |\n",
       "| casual | December-22  | 1475.900 mins |\n",
       "| member | December-22  | 1406.350 mins |\n",
       "| casual | January-23   | 1443.083 mins |\n",
       "| member | January-23   | 1497.867 mins |\n",
       "| casual | February-23  | 1462.417 mins |\n",
       "| member | February-23  | 1468.417 mins |\n",
       "| casual | March-23     | 1496.833 mins |\n",
       "| member | March-23     | 1480.650 mins |\n",
       "| casual | April-23     | 1479.783 mins |\n",
       "| member | April-23     | 1433.300 mins |\n",
       "\n"
      ],
      "text/plain": [
       "   combined_2$customer_type combined_2$month combined_2$ride_length\n",
       "1  casual                   May-22           1499.417 mins         \n",
       "2  member                   May-22           1475.633 mins         \n",
       "3  casual                   June-22          1492.217 mins         \n",
       "4  member                   June-22          1323.533 mins         \n",
       "5  casual                   July-22          1497.750 mins         \n",
       "6  member                   July-22          1476.700 mins         \n",
       "7  casual                   August-22        1498.617 mins         \n",
       "8  member                   August-22        1445.350 mins         \n",
       "9  casual                   September-22     1494.400 mins         \n",
       "10 member                   September-22     1471.283 mins         \n",
       "11 casual                   October-22       1488.500 mins         \n",
       "12 member                   October-22       1456.417 mins         \n",
       "13 casual                   November-22      1485.967 mins         \n",
       "14 member                   November-22      1493.233 mins         \n",
       "15 casual                   December-22      1475.900 mins         \n",
       "16 member                   December-22      1406.350 mins         \n",
       "17 casual                   January-23       1443.083 mins         \n",
       "18 member                   January-23       1497.867 mins         \n",
       "19 casual                   February-23      1462.417 mins         \n",
       "20 member                   February-23      1468.417 mins         \n",
       "21 casual                   March-23         1496.833 mins         \n",
       "22 member                   March-23         1480.650 mins         \n",
       "23 casual                   April-23         1479.783 mins         \n",
       "24 member                   April-23         1433.300 mins         "
      ]
     },
     "metadata": {},
     "output_type": "display_data"
    }
   ],
   "source": [
    "# analysis of maximum ride length by customer type and month in minutes\n",
    "aggregate(combined_2$ride_length ~ combined_2$ customer_type + combined_2$month, FUN =max)"
   ]
  },
  {
   "cell_type": "code",
   "execution_count": 69,
   "id": "096017c6",
   "metadata": {
    "vscode": {
     "languageId": "r"
    }
   },
   "outputs": [
    {
     "name": "stderr",
     "output_type": "stream",
     "text": [
      "\u001b[1m\u001b[22m`summarise()` has grouped output by 'start_month_year'. You can override using\n",
      "the `.groups` argument.\n"
     ]
    },
    {
     "data": {
      "image/png": "[encoded data removed]",
      "text/plain": [
       "plot without title"
      ]
     },
     "metadata": {
      "image/png": {
       "height": 420,
       "width": 420
      }
     },
     "output_type": "display_data"
    }
   ],
   "source": [
    "## comparison of total number of rides completed by each customer types by month\n",
    "data_bar5 <- mutate(combined_2, start_month_year = floor_date(as_date(started_at), \"month\"))%>% \n",
    "group_by(start_month_year, customer_type) %>% summarise(count_of = n()) \n",
    "ggplot(data_bar5, aes(x=start_month_year, y=count_of, fill=\"orange\"))+ geom_bar(stat=\"identity\") + \n",
    "facet_wrap(~customer_type)+ labs( title = \"Number of rides completed by month by user type\", \n",
    "                                 subtitle = \"For the period between May 2022 and April 2023\", x = \"Month\", y = \"Number of rides completed\") + \n",
    "geom_text(aes(label=count_of), position = position_stack(vjust = .5), color=\"black\", angle = 90) + \n",
    "scale_y_continuous(labels = label_number(suffix = \" M\", scale = 1e-6)) + scale_x_date(date_labels = \"%b %y\",date_breaks = \"2 month\") + \n",
    "theme(legend.position = \"none\")"
   ]
  },
  {
   "cell_type": "code",
   "execution_count": 70,
   "id": "b0af13fd",
   "metadata": {
    "vscode": {
     "languageId": "r"
    }
   },
   "outputs": [
    {
     "data": {
      "text/plain": [
       "\n",
       " classic_bike   docked_bike electric_bike \n",
       "      2557091        165456       1647675 "
      ]
     },
     "metadata": {},
     "output_type": "display_data"
    }
   ],
   "source": [
    "## Number of customers grouped by bike preference\n",
    "View(table(combined_2$bike_type))"
   ]
  },
  {
   "cell_type": "code",
   "execution_count": 71,
   "id": "99173b8d",
   "metadata": {
    "vscode": {
     "languageId": "r"
    }
   },
   "outputs": [
    {
     "data": {
      "text/html": [
       "<table class=\"dataframe\">\n",
       "<caption>A data.frame: 3 × 2</caption>\n",
       "<thead>\n",
       "\t<tr><th scope=col>combined_2$bike_type</th><th scope=col>combined_2$ride_length_day</th></tr>\n",
       "\t<tr><th scope=col>&lt;chr&gt;</th><th scope=col>&lt;drtn&gt;</th></tr>\n",
       "</thead>\n",
       "<tbody>\n",
       "\t<tr><td>classic_bike </td><td>30813.11 days</td></tr>\n",
       "\t<tr><td>docked_bike  </td><td> 5649.65 days</td></tr>\n",
       "\t<tr><td>electric_bike</td><td>15510.77 days</td></tr>\n",
       "</tbody>\n",
       "</table>\n"
      ],
      "text/latex": [
       "A data.frame: 3 × 2\n",
       "\\begin{tabular}{ll}\n",
       " combined\\_2\\$bike\\_type & combined\\_2\\$ride\\_length\\_day\\\\\n",
       " <chr> & <drtn>\\\\\n",
       "\\hline\n",
       "\t classic\\_bike  & 30813.11 days\\\\\n",
       "\t docked\\_bike   &  5649.65 days\\\\\n",
       "\t electric\\_bike & 15510.77 days\\\\\n",
       "\\end{tabular}\n"
      ],
      "text/markdown": [
       "\n",
       "A data.frame: 3 × 2\n",
       "\n",
       "| combined_2$bike_type &lt;chr&gt; | combined_2$ride_length_day &lt;drtn&gt; |\n",
       "|---|---|\n",
       "| classic_bike  | 30813.11 days |\n",
       "| docked_bike   |  5649.65 days |\n",
       "| electric_bike | 15510.77 days |\n",
       "\n"
      ],
      "text/plain": [
       "  combined_2$bike_type combined_2$ride_length_day\n",
       "1 classic_bike         30813.11 days             \n",
       "2 docked_bike           5649.65 days             \n",
       "3 electric_bike        15510.77 days             "
      ]
     },
     "metadata": {},
     "output_type": "display_data"
    }
   ],
   "source": [
    "## Total duration of trips for each bike preference in days\n",
    "aggregate(combined_2$ride_length_day ~ combined_2$bike_type,FUN=sum)"
   ]
  },
  {
   "cell_type": "code",
   "execution_count": 72,
   "id": "4b3b433c",
   "metadata": {
    "vscode": {
     "languageId": "r"
    }
   },
   "outputs": [
    {
     "data": {
      "text/html": [
       "<table class=\"dataframe\">\n",
       "<caption>A data.frame: 3 × 2</caption>\n",
       "<thead>\n",
       "\t<tr><th scope=col>combined_2$bike_type</th><th scope=col>combined_2$ride_length</th></tr>\n",
       "\t<tr><th scope=col>&lt;chr&gt;</th><th scope=col>&lt;drtn&gt;</th></tr>\n",
       "</thead>\n",
       "<tbody>\n",
       "\t<tr><td>classic_bike </td><td>17.35209 mins</td></tr>\n",
       "\t<tr><td>docked_bike  </td><td>49.17015 mins</td></tr>\n",
       "\t<tr><td>electric_bike</td><td>13.55578 mins</td></tr>\n",
       "</tbody>\n",
       "</table>\n"
      ],
      "text/latex": [
       "A data.frame: 3 × 2\n",
       "\\begin{tabular}{ll}\n",
       " combined\\_2\\$bike\\_type & combined\\_2\\$ride\\_length\\\\\n",
       " <chr> & <drtn>\\\\\n",
       "\\hline\n",
       "\t classic\\_bike  & 17.35209 mins\\\\\n",
       "\t docked\\_bike   & 49.17015 mins\\\\\n",
       "\t electric\\_bike & 13.55578 mins\\\\\n",
       "\\end{tabular}\n"
      ],
      "text/markdown": [
       "\n",
       "A data.frame: 3 × 2\n",
       "\n",
       "| combined_2$bike_type &lt;chr&gt; | combined_2$ride_length &lt;drtn&gt; |\n",
       "|---|---|\n",
       "| classic_bike  | 17.35209 mins |\n",
       "| docked_bike   | 49.17015 mins |\n",
       "| electric_bike | 13.55578 mins |\n",
       "\n"
      ],
      "text/plain": [
       "  combined_2$bike_type combined_2$ride_length\n",
       "1 classic_bike         17.35209 mins         \n",
       "2 docked_bike          49.17015 mins         \n",
       "3 electric_bike        13.55578 mins         "
      ]
     },
     "metadata": {},
     "output_type": "display_data"
    }
   ],
   "source": [
    "## average duration of trips for each bike preference in minutes\n",
    "aggregate(combined_2$ride_length ~ combined_2$bike_type,FUN=mean)"
   ]
  },
  {
   "cell_type": "code",
   "execution_count": 73,
   "id": "182e3e24",
   "metadata": {
    "vscode": {
     "languageId": "r"
    }
   },
   "outputs": [
    {
     "data": {
      "text/html": [
       "<table class=\"dataframe\">\n",
       "<caption>A data.frame: 3 × 2</caption>\n",
       "<thead>\n",
       "\t<tr><th scope=col>combined_2$bike_type</th><th scope=col>combined_2$ride_length</th></tr>\n",
       "\t<tr><th scope=col>&lt;chr&gt;</th><th scope=col>&lt;drtn&gt;</th></tr>\n",
       "</thead>\n",
       "<tbody>\n",
       "\t<tr><td>classic_bike </td><td>11.033333 mins</td></tr>\n",
       "\t<tr><td>docked_bike  </td><td>27.950000 mins</td></tr>\n",
       "\t<tr><td>electric_bike</td><td> 9.533333 mins</td></tr>\n",
       "</tbody>\n",
       "</table>\n"
      ],
      "text/latex": [
       "A data.frame: 3 × 2\n",
       "\\begin{tabular}{ll}\n",
       " combined\\_2\\$bike\\_type & combined\\_2\\$ride\\_length\\\\\n",
       " <chr> & <drtn>\\\\\n",
       "\\hline\n",
       "\t classic\\_bike  & 11.033333 mins\\\\\n",
       "\t docked\\_bike   & 27.950000 mins\\\\\n",
       "\t electric\\_bike &  9.533333 mins\\\\\n",
       "\\end{tabular}\n"
      ],
      "text/markdown": [
       "\n",
       "A data.frame: 3 × 2\n",
       "\n",
       "| combined_2$bike_type &lt;chr&gt; | combined_2$ride_length &lt;drtn&gt; |\n",
       "|---|---|\n",
       "| classic_bike  | 11.033333 mins |\n",
       "| docked_bike   | 27.950000 mins |\n",
       "| electric_bike |  9.533333 mins |\n",
       "\n"
      ],
      "text/plain": [
       "  combined_2$bike_type combined_2$ride_length\n",
       "1 classic_bike         11.033333 mins        \n",
       "2 docked_bike          27.950000 mins        \n",
       "3 electric_bike         9.533333 mins        "
      ]
     },
     "metadata": {},
     "output_type": "display_data"
    }
   ],
   "source": [
    "## median duration of trips for each bike preference in minutes\n",
    "aggregate(combined_2$ride_length ~ combined_2$bike_type,FUN=median)"
   ]
  },
  {
   "cell_type": "code",
   "execution_count": 74,
   "id": "e40a34fd",
   "metadata": {
    "vscode": {
     "languageId": "r"
    }
   },
   "outputs": [
    {
     "data": {
      "text/html": [
       "<table class=\"dataframe\">\n",
       "<caption>A data.frame: 3 × 2</caption>\n",
       "<thead>\n",
       "\t<tr><th scope=col>combined_2$bike_type</th><th scope=col>combined_2$ride_length</th></tr>\n",
       "\t<tr><th scope=col>&lt;chr&gt;</th><th scope=col>&lt;drtn&gt;</th></tr>\n",
       "</thead>\n",
       "<tbody>\n",
       "\t<tr><td>classic_bike </td><td>2 mins</td></tr>\n",
       "\t<tr><td>docked_bike  </td><td>2 mins</td></tr>\n",
       "\t<tr><td>electric_bike</td><td>2 mins</td></tr>\n",
       "</tbody>\n",
       "</table>\n"
      ],
      "text/latex": [
       "A data.frame: 3 × 2\n",
       "\\begin{tabular}{ll}\n",
       " combined\\_2\\$bike\\_type & combined\\_2\\$ride\\_length\\\\\n",
       " <chr> & <drtn>\\\\\n",
       "\\hline\n",
       "\t classic\\_bike  & 2 mins\\\\\n",
       "\t docked\\_bike   & 2 mins\\\\\n",
       "\t electric\\_bike & 2 mins\\\\\n",
       "\\end{tabular}\n"
      ],
      "text/markdown": [
       "\n",
       "A data.frame: 3 × 2\n",
       "\n",
       "| combined_2$bike_type &lt;chr&gt; | combined_2$ride_length &lt;drtn&gt; |\n",
       "|---|---|\n",
       "| classic_bike  | 2 mins |\n",
       "| docked_bike   | 2 mins |\n",
       "| electric_bike | 2 mins |\n",
       "\n"
      ],
      "text/plain": [
       "  combined_2$bike_type combined_2$ride_length\n",
       "1 classic_bike         2 mins                \n",
       "2 docked_bike          2 mins                \n",
       "3 electric_bike        2 mins                "
      ]
     },
     "metadata": {},
     "output_type": "display_data"
    }
   ],
   "source": [
    "## minimum duration of trips for each bike preference in minutes\n",
    "aggregate(combined_2$ride_length ~ combined_2$bike_type,FUN=min)"
   ]
  },
  {
   "cell_type": "code",
   "execution_count": 75,
   "id": "a90e8947",
   "metadata": {
    "vscode": {
     "languageId": "r"
    }
   },
   "outputs": [
    {
     "data": {
      "text/html": [
       "<table class=\"dataframe\">\n",
       "<caption>A data.frame: 3 × 2</caption>\n",
       "<thead>\n",
       "\t<tr><th scope=col>combined_2$bike_type</th><th scope=col>combined_2$ride_length</th></tr>\n",
       "\t<tr><th scope=col>&lt;chr&gt;</th><th scope=col>&lt;drtn&gt;</th></tr>\n",
       "</thead>\n",
       "<tbody>\n",
       "\t<tr><td>classic_bike </td><td>1499.417 mins</td></tr>\n",
       "\t<tr><td>docked_bike  </td><td>1498.617 mins</td></tr>\n",
       "\t<tr><td>electric_bike</td><td> 480.000 mins</td></tr>\n",
       "</tbody>\n",
       "</table>\n"
      ],
      "text/latex": [
       "A data.frame: 3 × 2\n",
       "\\begin{tabular}{ll}\n",
       " combined\\_2\\$bike\\_type & combined\\_2\\$ride\\_length\\\\\n",
       " <chr> & <drtn>\\\\\n",
       "\\hline\n",
       "\t classic\\_bike  & 1499.417 mins\\\\\n",
       "\t docked\\_bike   & 1498.617 mins\\\\\n",
       "\t electric\\_bike &  480.000 mins\\\\\n",
       "\\end{tabular}\n"
      ],
      "text/markdown": [
       "\n",
       "A data.frame: 3 × 2\n",
       "\n",
       "| combined_2$bike_type &lt;chr&gt; | combined_2$ride_length &lt;drtn&gt; |\n",
       "|---|---|\n",
       "| classic_bike  | 1499.417 mins |\n",
       "| docked_bike   | 1498.617 mins |\n",
       "| electric_bike |  480.000 mins |\n",
       "\n"
      ],
      "text/plain": [
       "  combined_2$bike_type combined_2$ride_length\n",
       "1 classic_bike         1499.417 mins         \n",
       "2 docked_bike          1498.617 mins         \n",
       "3 electric_bike         480.000 mins         "
      ]
     },
     "metadata": {},
     "output_type": "display_data"
    }
   ],
   "source": [
    "## maximum duration of trips for each bike preference in minutes\n",
    "aggregate(combined_2$ride_length ~ combined_2$bike_type,FUN=max)"
   ]
  },
  {
   "cell_type": "code",
   "execution_count": 76,
   "id": "8feb0e2d",
   "metadata": {
    "vscode": {
     "languageId": "r"
    }
   },
   "outputs": [
    {
     "name": "stderr",
     "output_type": "stream",
     "text": [
      "\u001b[1m\u001b[22m`summarise()` has grouped output by 'customer_type'. You can override using the\n",
      "`.groups` argument.\n"
     ]
    },
    {
     "data": {
      "image/png": "[encoded data removed]",
      "text/plain": [
       "plot without title"
      ]
     },
     "metadata": {
      "image/png": {
       "height": 420,
       "width": 420
      }
     },
     "output_type": "display_data"
    }
   ],
   "source": [
    "## comparison of bike preference of each customer types\n",
    "data_bar4 = combined_2 %>% group_by(customer_type, bike_type) %>% summarise(count_of = n()) \n",
    "ggplot(data_bar4, aes(x=customer_type, y= count_of, fill=bike_type)) + geom_bar(stat=\"identity\") + \n",
    "labs( title = \"Bike preference by user type\", subtitle = \"For the period between May 2022 and April 2023\", \n",
    "     fill = \"Bike type\", x = \"User type\", y = \"Number of users\") + \n",
    "geom_text(aes(label=count_of), position = position_stack(vjust = .5), color=\"white\") + \n",
    "scale_y_continuous(labels = label_number(suffix = \" M\", scale = 1e-6))"
   ]
  },
  {
   "cell_type": "code",
   "execution_count": 77,
   "id": "dec3a1a0",
   "metadata": {
    "vscode": {
     "languageId": "r"
    }
   },
   "outputs": [
    {
     "name": "stderr",
     "output_type": "stream",
     "text": [
      "\u001b[1m\u001b[22m`summarise()` has grouped output by 'customer_type'. You can override using the\n",
      "`.groups` argument.\n"
     ]
    }
   ],
   "source": [
    "table1 <- combined_2 %>% group_by(customer_type, start_station_name) %>% summarise(count_of=n()) %>% arrange(desc(count_of))%>% \n",
    "na.omit(start_station_name) \n",
    "## Table 1.1 - By casual riders ##\n",
    "table1.1 <- filter(table1, customer_type ==\"casual\") %>% rename(number_of_trips = count_of) %>% slice(1:5) \n",
    "#Table 1.2 - By members ## \n",
    "table1.2 <- filter(table1, customer_type ==\"member\") %>% rename(number_of_trips = count_of) %>% slice(1:5) "
   ]
  },
  {
   "cell_type": "code",
   "execution_count": 78,
   "id": "d754b7c2",
   "metadata": {
    "vscode": {
     "languageId": "r"
    }
   },
   "outputs": [
    {
     "name": "stdout",
     "output_type": "stream",
     "text": [
      "\u001b[90m# A tibble: 5 × 3\u001b[39m\n",
      "\u001b[90m# Groups:   customer_type [1]\u001b[39m\n",
      "  customer_type start_station_name                 number_of_trips\n",
      "  \u001b[3m\u001b[90m<chr>\u001b[39m\u001b[23m         \u001b[3m\u001b[90m<chr>\u001b[39m\u001b[23m                                        \u001b[3m\u001b[90m<int>\u001b[39m\u001b[23m\n",
      "\u001b[90m1\u001b[39m casual        Streeter Dr & Grand Ave                      \u001b[4m5\u001b[24m\u001b[4m2\u001b[24m783\n",
      "\u001b[90m2\u001b[39m casual        DuSable Lake Shore Dr & Monroe St            \u001b[4m2\u001b[24m\u001b[4m9\u001b[24m536\n",
      "\u001b[90m3\u001b[39m casual        Michigan Ave & Oak St                        \u001b[4m2\u001b[24m\u001b[4m3\u001b[24m271\n",
      "\u001b[90m4\u001b[39m casual        Millennium Park                              \u001b[4m2\u001b[24m\u001b[4m2\u001b[24m999\n",
      "\u001b[90m5\u001b[39m casual        DuSable Lake Shore Dr & North Blvd           \u001b[4m2\u001b[24m\u001b[4m1\u001b[24m612\n"
     ]
    }
   ],
   "source": [
    "## Analysis of starting station for casual customers by the number of trips\n",
    "print(table1.1)"
   ]
  },
  {
   "cell_type": "code",
   "execution_count": 79,
   "id": "9f22c7a7",
   "metadata": {
    "vscode": {
     "languageId": "r"
    }
   },
   "outputs": [
    {
     "name": "stdout",
     "output_type": "stream",
     "text": [
      "\u001b[90m# A tibble: 5 × 3\u001b[39m\n",
      "\u001b[90m# Groups:   customer_type [1]\u001b[39m\n",
      "  customer_type start_station_name           number_of_trips\n",
      "  \u001b[3m\u001b[90m<chr>\u001b[39m\u001b[23m         \u001b[3m\u001b[90m<chr>\u001b[39m\u001b[23m                                  \u001b[3m\u001b[90m<int>\u001b[39m\u001b[23m\n",
      "\u001b[90m1\u001b[39m member        Kingsbury St & Kinzie St               \u001b[4m2\u001b[24m\u001b[4m2\u001b[24m966\n",
      "\u001b[90m2\u001b[39m member        Clark St & Elm St                      \u001b[4m2\u001b[24m\u001b[4m0\u001b[24m999\n",
      "\u001b[90m3\u001b[39m member        Wells St & Concord Ln                  \u001b[4m1\u001b[24m\u001b[4m9\u001b[24m471\n",
      "\u001b[90m4\u001b[39m member        Clinton St & Washington Blvd           \u001b[4m1\u001b[24m\u001b[4m9\u001b[24m438\n",
      "\u001b[90m5\u001b[39m member        Loomis St & Lexington St               \u001b[4m1\u001b[24m\u001b[4m9\u001b[24m202\n"
     ]
    }
   ],
   "source": [
    "## Analysis of starting station for member customers by the number of trips\n",
    "print(table1.2)"
   ]
  },
  {
   "cell_type": "code",
   "execution_count": 80,
   "id": "eaab73df",
   "metadata": {
    "vscode": {
     "languageId": "r"
    }
   },
   "outputs": [
    {
     "name": "stderr",
     "output_type": "stream",
     "text": [
      "\u001b[1m\u001b[22m`summarise()` has grouped output by 'customer_type'. You can override using the\n",
      "`.groups` argument.\n"
     ]
    }
   ],
   "source": [
    "table2 <- combined_2 %>% group_by(customer_type, end_station_name) %>% summarise(count_of=n()) %>% arrange(desc(count_of)) %>% \n",
    "na.omit(end_station_name) \n",
    "## Table 2.1 - By casual riders ## \n",
    "table2.1 <- filter(table2, customer_type ==\"casual\") %>% rename(number_of_trips = count_of) %>% slice(1:5) \n",
    "#Table 2.2 - By members ##\n",
    "table2.2 <- filter(table2, customer_type ==\"member\") %>% rename(number_of_trips = count_of) %>% slice(1:5) "
   ]
  },
  {
   "cell_type": "code",
   "execution_count": 81,
   "id": "df95d3ab",
   "metadata": {
    "vscode": {
     "languageId": "r"
    }
   },
   "outputs": [
    {
     "name": "stdout",
     "output_type": "stream",
     "text": [
      "\u001b[90m# A tibble: 5 × 3\u001b[39m\n",
      "\u001b[90m# Groups:   customer_type [1]\u001b[39m\n",
      "  customer_type end_station_name                   number_of_trips\n",
      "  \u001b[3m\u001b[90m<chr>\u001b[39m\u001b[23m         \u001b[3m\u001b[90m<chr>\u001b[39m\u001b[23m                                        \u001b[3m\u001b[90m<int>\u001b[39m\u001b[23m\n",
      "\u001b[90m1\u001b[39m casual        Streeter Dr & Grand Ave                      \u001b[4m5\u001b[24m\u001b[4m5\u001b[24m874\n",
      "\u001b[90m2\u001b[39m casual        DuSable Lake Shore Dr & Monroe St            \u001b[4m2\u001b[24m\u001b[4m7\u001b[24m360\n",
      "\u001b[90m3\u001b[39m casual        Michigan Ave & Oak St                        \u001b[4m2\u001b[24m\u001b[4m4\u001b[24m961\n",
      "\u001b[90m4\u001b[39m casual        Millennium Park                              \u001b[4m2\u001b[24m\u001b[4m4\u001b[24m870\n",
      "\u001b[90m5\u001b[39m casual        DuSable Lake Shore Dr & North Blvd           \u001b[4m2\u001b[24m\u001b[4m4\u001b[24m818\n"
     ]
    }
   ],
   "source": [
    "## Analysis of end station for casual customers by the number of trips\n",
    "print(table2.1)"
   ]
  },
  {
   "cell_type": "code",
   "execution_count": 82,
   "id": "14600c16",
   "metadata": {
    "vscode": {
     "languageId": "r"
    }
   },
   "outputs": [
    {
     "name": "stdout",
     "output_type": "stream",
     "text": [
      "\u001b[90m# A tibble: 5 × 3\u001b[39m\n",
      "\u001b[90m# Groups:   customer_type [1]\u001b[39m\n",
      "  customer_type end_station_name             number_of_trips\n",
      "  \u001b[3m\u001b[90m<chr>\u001b[39m\u001b[23m         \u001b[3m\u001b[90m<chr>\u001b[39m\u001b[23m                                  \u001b[3m\u001b[90m<int>\u001b[39m\u001b[23m\n",
      "\u001b[90m1\u001b[39m member        Kingsbury St & Kinzie St               \u001b[4m2\u001b[24m\u001b[4m2\u001b[24m581\n",
      "\u001b[90m2\u001b[39m member        Clark St & Elm St                      \u001b[4m2\u001b[24m\u001b[4m1\u001b[24m306\n",
      "\u001b[90m3\u001b[39m member        Clinton St & Washington Blvd           \u001b[4m2\u001b[24m\u001b[4m0\u001b[24m366\n",
      "\u001b[90m4\u001b[39m member        Wells St & Concord Ln                  \u001b[4m2\u001b[24m\u001b[4m0\u001b[24m307\n",
      "\u001b[90m5\u001b[39m member        Loomis St & Lexington St               \u001b[4m1\u001b[24m\u001b[4m9\u001b[24m380\n"
     ]
    }
   ],
   "source": [
    "## Analysis of end station for member customers by the number of trips\n",
    "print(table2.2)"
   ]
  }
 ],
 "metadata": {
  "kernelspec": {
   "display_name": "R",
   "language": "R",
   "name": "ir"
  },
  "language_info": {
   "codemirror_mode": "r",
   "file_extension": ".r",
   "mimetype": "text/x-r-source",
   "name": "R",
   "pygments_lexer": "r",
   "version": "4.2.3"
  }
 },
 "nbformat": 4,
 "nbformat_minor": 5
}
